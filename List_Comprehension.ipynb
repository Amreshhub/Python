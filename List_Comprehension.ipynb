{
 "cells": [
  {
   "cell_type": "code",
   "execution_count": 1,
   "metadata": {},
   "outputs": [
    {
     "name": "stdout",
     "output_type": "stream",
     "text": [
      "()\n",
      "(1,)\n",
      "(1, 2)\n"
     ]
    }
   ],
   "source": [
    "#variable length arguments\n",
    "def funct(*args):\n",
    "    print(args)\n",
    "funct()\n",
    "funct(1)\n",
    "funct(1,2)"
   ]
  },
  {
   "cell_type": "code",
   "execution_count": 2,
   "metadata": {},
   "outputs": [
    {
     "name": "stdout",
     "output_type": "stream",
     "text": [
      "[1, 2, 3, 4, 5, 6, 7, 8, 9]\n"
     ]
    }
   ],
   "source": [
    "#genreter\n",
    "a = []\n",
    "for i in range(1,10):\n",
    "    a.append(i)\n",
    "print(a)"
   ]
  },
  {
   "cell_type": "code",
   "execution_count": 3,
   "metadata": {},
   "outputs": [
    {
     "name": "stdout",
     "output_type": "stream",
     "text": [
      "[1, 2, 3, 4, 5, 6, 7, 8, 9]\n"
     ]
    }
   ],
   "source": [
    "#List Comprehension\n",
    "a =[i for i in range(1,10)]\n",
    "print(a)"
   ]
  },
  {
   "cell_type": "code",
   "execution_count": 4,
   "metadata": {},
   "outputs": [
    {
     "name": "stdout",
     "output_type": "stream",
     "text": [
      "[1, 4, 9, 16, 25, 36, 49, 64, 81]\n"
     ]
    }
   ],
   "source": [
    "a =[i*i for i in range(1,10)]\n",
    "print(a)"
   ]
  },
  {
   "cell_type": "code",
   "execution_count": 5,
   "metadata": {},
   "outputs": [
    {
     "name": "stdout",
     "output_type": "stream",
     "text": [
      "enter a string:-amresh\n",
      "[97, 109, 114, 101, 115, 104]\n"
     ]
    }
   ],
   "source": [
    "s = input('enter a string:-')\n",
    "a =[ord(c) for c in s]\n",
    "print(a)"
   ]
  },
  {
   "cell_type": "code",
   "execution_count": 6,
   "metadata": {},
   "outputs": [],
   "source": [
    "s ='abcd'\n",
    "a1 =[]"
   ]
  },
  {
   "cell_type": "code",
   "execution_count": null,
   "metadata": {},
   "outputs": [],
   "source": [
    "import numpy as np"
   ]
  },
  {
   "cell_type": "code",
   "execution_count": 8,
   "metadata": {},
   "outputs": [
    {
     "name": "stdout",
     "output_type": "stream",
     "text": [
      "[49 55 32 20 46 55 50 31 93 90]\n"
     ]
    }
   ],
   "source": [
    "r = np.random.randint(10,100,10)\n",
    "print(r)"
   ]
  },
  {
   "cell_type": "code",
   "execution_count": 9,
   "metadata": {},
   "outputs": [
    {
     "name": "stdout",
     "output_type": "stream",
     "text": [
      "[32, 20, 46, 50, 90]\n"
     ]
    }
   ],
   "source": [
    "def iseven(num):\n",
    "    return num%2==0\n",
    "res =[  x for x in r   if iseven(x)]\n",
    "print(res)"
   ]
  },
  {
   "cell_type": "code",
   "execution_count": 11,
   "metadata": {},
   "outputs": [
    {
     "name": "stdout",
     "output_type": "stream",
     "text": [
      "number :234\n",
      "even\n"
     ]
    }
   ],
   "source": [
    "x = int(input(\"number :\"))\n",
    "r = \"even\" if x % 2 ==0 else \"Odd\"\n",
    "print(r)"
   ]
  },
  {
   "cell_type": "code",
   "execution_count": null,
   "metadata": {},
   "outputs": [],
   "source": [
    "r = [int(x) for x in '29 43 69 86 76 45 34 10 27'.split()]\n",
    "a = [x%2 if x%2 else x//2 for x in r]\n",
    "print(a)"
   ]
  },
  {
   "cell_type": "code",
   "execution_count": null,
   "metadata": {},
   "outputs": [],
   "source": [
    "def funct(x):\n",
    "    return x\n",
    "    return x+1\n",
    "print(funct(10))\n",
    "print(funct(10))"
   ]
  },
  {
   "cell_type": "code",
   "execution_count": null,
   "metadata": {},
   "outputs": [],
   "source": [
    "def funct(x):\n",
    "    yield x\n",
    "    yield x+1\n",
    "print(funct(10))\n",
    "print(funct(10))"
   ]
  },
  {
   "cell_type": "code",
   "execution_count": null,
   "metadata": {},
   "outputs": [],
   "source": [
    "def funct(x):\n",
    "    yield x\n",
    "    yield x+1\n",
    "gen =funct(10)\n",
    "print(dir(gen))\n",
    "print(next(gen))\n",
    "print(next(gen))\n",
    "print(next(gen))\n",
    "print(next(gen))"
   ]
  },
  {
   "cell_type": "code",
   "execution_count": null,
   "metadata": {},
   "outputs": [],
   "source": [
    "def abc(a,b):\n",
    "    a=a\n",
    "    while a<b:\n",
    "        print('yeild =',a)\n",
    "        yield a\n",
    "        a+=1\n",
    "x = abc(1,4)\n",
    "print(next(x))\n",
    "print(next(x))\n",
    "print()\n",
    "for i in abc(10,20):\n",
    "    print(i)"
   ]
  },
  {
   "cell_type": "code",
   "execution_count": null,
   "metadata": {},
   "outputs": [],
   "source": [
    "r = range(10,20)\n",
    "print(r)\n",
    "for i in r:#we anc right here range(10,20) too\n",
    "    print(i)\n"
   ]
  },
  {
   "cell_type": "code",
   "execution_count": 14,
   "metadata": {},
   "outputs": [
    {
     "name": "stdout",
     "output_type": "stream",
     "text": [
      "1Add\t2.sub\t3.mul\t4.Div\n",
      ":Enter options(1:4)\n",
      "2\n",
      "Enter n1:2\n",
      "Enter n2:2\n",
      "0\n"
     ]
    }
   ],
   "source": [
    "a =[lambda x,y:x+y,lambda x,y:x-y,lambda x,y:x*y,lambda x,y:x/y]\n",
    "print('1Add\\t2.sub\\t3.mul\\t4.Div\\n:Enter options(1:4)')\n",
    "n=input()\n",
    "\n",
    "if n.isdigit():\n",
    "    n=int(n)\n",
    "    \n",
    "    if 1 <= n <=4:\n",
    "        n1=int(input('Enter n1:'))\n",
    "        n2=int(input('Enter n2:'))\n",
    "        f =a[n-1]\n",
    "        print(f(n1,n2))\n",
    "    else:\n",
    "        print('Enter between 1to4')\n",
    "else:\n",
    "    print('Enter a Number')"
   ]
  },
  {
   "cell_type": "markdown",
   "metadata": {},
   "source": []
  }
 ],
 "metadata": {
  "kernelspec": {
   "display_name": "Python 3",
   "language": "python",
   "name": "python3"
  },
  "language_info": {
   "codemirror_mode": {
    "name": "ipython",
    "version": 3
   },
   "file_extension": ".py",
   "mimetype": "text/x-python",
   "name": "python",
   "nbconvert_exporter": "python",
   "pygments_lexer": "ipython3",
   "version": "3.7.3"
  }
 },
 "nbformat": 4,
 "nbformat_minor": 2
}
