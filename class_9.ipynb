{
 "cells": [
  {
   "cell_type": "code",
   "execution_count": 1,
   "metadata": {},
   "outputs": [
    {
     "name": "stdout",
     "output_type": "stream",
     "text": [
      "{1: 100, 2: 100, 3: 100}\n"
     ]
    }
   ],
   "source": [
    "d = dict.fromkeys([1,2,3],100)\n",
    "print(d)"
   ]
  },
  {
   "cell_type": "code",
   "execution_count": 3,
   "metadata": {},
   "outputs": [
    {
     "name": "stdout",
     "output_type": "stream",
     "text": [
      "{10: 'string'}\n",
      "{10: 'string', 20: [10, 20, 30, 40]}\n",
      "string\n"
     ]
    },
    {
     "ename": "KeyError",
     "evalue": "100",
     "output_type": "error",
     "traceback": [
      "\u001b[1;31m---------------------------------------------------------------------------\u001b[0m",
      "\u001b[1;31mKeyError\u001b[0m                                  Traceback (most recent call last)",
      "\u001b[1;32m<ipython-input-3-29b57783fa37>\u001b[0m in \u001b[0;36m<module>\u001b[1;34m\u001b[0m\n\u001b[0;32m      6\u001b[0m \u001b[1;33m\u001b[0m\u001b[0m\n\u001b[0;32m      7\u001b[0m \u001b[0mprint\u001b[0m\u001b[1;33m(\u001b[0m\u001b[0md\u001b[0m\u001b[1;33m[\u001b[0m\u001b[1;36m10\u001b[0m\u001b[1;33m]\u001b[0m\u001b[1;33m)\u001b[0m\u001b[1;33m\u001b[0m\u001b[1;33m\u001b[0m\u001b[0m\n\u001b[1;32m----> 8\u001b[1;33m \u001b[0mprint\u001b[0m\u001b[1;33m(\u001b[0m\u001b[0md\u001b[0m\u001b[1;33m[\u001b[0m\u001b[1;36m100\u001b[0m\u001b[1;33m]\u001b[0m\u001b[1;33m)\u001b[0m\u001b[1;33m\u001b[0m\u001b[1;33m\u001b[0m\u001b[0m\n\u001b[0m",
      "\u001b[1;31mKeyError\u001b[0m: 100"
     ]
    }
   ],
   "source": [
    "d = {}\n",
    "d [10] ='string'\n",
    "print(d)\n",
    "d [20] = [10,20,30,40]\n",
    "print(d)\n",
    "\n",
    "print(d[10])\n",
    "print(d[100])"
   ]
  },
  {
   "cell_type": "code",
   "execution_count": 5,
   "metadata": {},
   "outputs": [
    {
     "name": "stdout",
     "output_type": "stream",
     "text": [
      "Enter the string:-amresh\n",
      "{'a': 1, 'm': 1, 'r': 1, 'e': 1, 's': 1, 'h': 1}\n"
     ]
    }
   ],
   "source": [
    "s = input('Enter the string:-')\n",
    "\n",
    "d = {}\n",
    "\n",
    "for c in s:\n",
    "    if c in d:\n",
    "        d[c] = d[c] + 1\n",
    "    else:\n",
    "        d[c] = 1\n",
    "print(d)\n",
    "#amresh\n",
    "# d{} {'a':1} {'a :1', 'm' :1}\n"
   ]
  },
  {
   "cell_type": "code",
   "execution_count": 7,
   "metadata": {},
   "outputs": [
    {
     "name": "stdout",
     "output_type": "stream",
     "text": [
      "Enter A String:-amresh is good boy\n",
      "a occurs 1 times\n",
      "m occurs 1 times\n",
      "r occurs 1 times\n",
      "e occurs 1 times\n",
      "s occurs 2 times\n",
      "h occurs 1 times\n",
      "  occurs 3 times\n",
      "i occurs 1 times\n",
      "g occurs 1 times\n",
      "o occurs 3 times\n",
      "d occurs 1 times\n",
      "b occurs 1 times\n",
      "y occurs 1 times\n"
     ]
    }
   ],
   "source": [
    "s = input('Enter A String:-')\n",
    "d = {}\n",
    "\n",
    "for c in s:\n",
    "    d[c] =d.get(c,0) + 1\n",
    "for k in d:\n",
    "    print( '{} occurs {} times' .format(k, d[k]) )\n"
   ]
  },
  {
   "cell_type": "code",
   "execution_count": 14,
   "metadata": {},
   "outputs": [
    {
     "name": "stdout",
     "output_type": "stream",
     "text": [
      "Enter A number:-1234\n",
      "1 occurs 1 times\n",
      "2 occurs 1 times\n",
      "3 occurs 1 times\n",
      "4 occurs 1 times\n"
     ]
    }
   ],
   "source": [
    "\n",
    "# WAP to input a number and count frequency of each digit in that number\n",
    "# 1001234\n",
    "# 1:2\n",
    "# 0:2\n",
    "# 2:1\n",
    "# 3:1\n",
    "# 4:1\n",
    "n = input('Enter A number:-')\n",
    "d = {}\n",
    "\n",
    "for i in n:\n",
    "    d[i] =d.get(i,0) + 1\n",
    "for k in d:\n",
    "    print( '{} occurs {} times' .format(k, d[k]) )"
   ]
  }
 ],
 "metadata": {
  "kernelspec": {
   "display_name": "Python 3",
   "language": "python",
   "name": "python3"
  },
  "language_info": {
   "codemirror_mode": {
    "name": "ipython",
    "version": 3
   },
   "file_extension": ".py",
   "mimetype": "text/x-python",
   "name": "python",
   "nbconvert_exporter": "python",
   "pygments_lexer": "ipython3",
   "version": "3.7.3"
  }
 },
 "nbformat": 4,
 "nbformat_minor": 2
}
