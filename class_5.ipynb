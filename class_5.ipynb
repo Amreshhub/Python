{
 "cells": [
  {
   "cell_type": "markdown",
   "metadata": {},
   "source": []
  },
  {
   "cell_type": "code",
   "execution_count": 1,
   "metadata": {},
   "outputs": [
    {
     "name": "stdout",
     "output_type": "stream",
     "text": [
      "['abcd', 'ab', 'abcd']\n"
     ]
    }
   ],
   "source": [
    "s ='abcd ab abcd'\n",
    "a = s.split()\n",
    "print(a)\n"
   ]
  },
  {
   "cell_type": "code",
   "execution_count": 3,
   "metadata": {},
   "outputs": [
    {
     "name": "stdout",
     "output_type": "stream",
     "text": [
      "Enter a string:-this is string\n",
      "['this', 'is', 'string']\n",
      "this 4\n",
      "is 2\n",
      "string 6\n"
     ]
    }
   ],
   "source": [
    "#Wap to \n",
    "s = input('Enter a string:-')\n",
    "words = s.split()\n",
    "print(words)\n",
    "i = 0\n",
    "while i < len(words):\n",
    "    print(words[i] , len(words[i]))\n",
    "    i +=1"
   ]
  },
  {
   "cell_type": "code",
   "execution_count": 8,
   "metadata": {},
   "outputs": [
    {
     "name": "stdout",
     "output_type": "stream",
     "text": [
      "Enter A String:-1,2,3\n",
      "['1', '2', '3']\n",
      "[1, 2, 3]\n"
     ]
    }
   ],
   "source": [
    "#WAp \n",
    "s = input('Enter A String:-')\n",
    "w = s.split(',')\n",
    "print(w)\n",
    "i = 0\n",
    "while i < len(w):\n",
    "    \n",
    "        w[i] = int(w[i])\n",
    "        \n",
    "        i += 1\n",
    "print(w)\n"
   ]
  },
  {
   "cell_type": "code",
   "execution_count": 15,
   "metadata": {},
   "outputs": [
    {
     "name": "stdout",
     "output_type": "stream",
     "text": [
      "This#is#String\n"
     ]
    }
   ],
   "source": [
    "import string\n",
    "a = ['This',  'is' , 'String']\n",
    "r = '#'.join(a)\n",
    "print(r)"
   ]
  },
  {
   "cell_type": "code",
   "execution_count": null,
   "metadata": {},
   "outputs": [],
   "source": []
  }
 ],
 "metadata": {
  "kernelspec": {
   "display_name": "Python 3",
   "language": "python",
   "name": "python3"
  },
  "language_info": {
   "codemirror_mode": {
    "name": "ipython",
    "version": 3
   },
   "file_extension": ".py",
   "mimetype": "text/x-python",
   "name": "python",
   "nbconvert_exporter": "python",
   "pygments_lexer": "ipython3",
   "version": "3.7.3"
  }
 },
 "nbformat": 4,
 "nbformat_minor": 2
}
