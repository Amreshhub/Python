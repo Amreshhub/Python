{
 "cells": [
  {
   "cell_type": "code",
   "execution_count": 10,
   "metadata": {},
   "outputs": [
    {
     "name": "stdout",
     "output_type": "stream",
     "text": [
      "['A', 'ASCII', 'DEBUG', 'DOTALL', 'I', 'IGNORECASE', 'L', 'LOCALE', 'M', 'MULTILINE', 'Match', 'Pattern', 'RegexFlag', 'S', 'Scanner', 'T', 'TEMPLATE', 'U', 'UNICODE', 'VERBOSE', 'X', '_MAXCACHE', '__all__', '__builtins__', '__cached__', '__doc__', '__file__', '__loader__', '__name__', '__package__', '__spec__', '__version__', '_cache', '_compile', '_compile_repl', '_expand', '_locale', '_pickle', '_special_chars_map', '_subx', 'compile', 'copyreg', 'enum', 'error', 'escape', 'findall', 'finditer', 'fullmatch', 'functools', 'match', 'purge', 'search', 'split', 'sre_compile', 'sre_parse', 'sub', 'subn', 'template']\n"
     ]
    }
   ],
   "source": [
    "import re\n",
    "print(dir(re))"
   ]
  },
  {
   "cell_type": "code",
   "execution_count": 1,
   "metadata": {
    "scrolled": true
   },
   "outputs": [
    {
     "name": "stdout",
     "output_type": "stream",
     "text": [
      "Lookup LookupError\n",
      "Lookup IndexError\n",
      "Lookup 'KeyError'\n",
      "AttributeError\n",
      "Parent of all Exceptions !!\n"
     ]
    }
   ],
   "source": [
    "a = [LookupError, IndexError,KeyError, AttributeError, SystemExit]\n",
    "\n",
    "\n",
    "for e in a:\n",
    "    try:\n",
    "        raise e(e.__name__)\n",
    "    except LookupError as e:\n",
    "        print(\"Lookup\", e)\n",
    "    except IndexError:\n",
    "        print(\"Index Error!!\")\n",
    "    except Exception as e:\n",
    "        print(e)\n",
    "    except : # except BaseException\n",
    "        print('Parent of all Exceptions !!')\n",
    "        "
   ]
  },
  {
   "cell_type": "code",
   "execution_count": 8,
   "metadata": {},
   "outputs": [
    {
     "name": "stdout",
     "output_type": "stream",
     "text": [
      "2\n",
      "LookupError\n",
      "Always !! Finally\n"
     ]
    }
   ],
   "source": [
    "try:\n",
    "    n = int(input())\n",
    "    10/n\n",
    "    [10,20][n]\n",
    "    {1:10}[n]\n",
    "except KeyError:\n",
    "    print('KeyErrr')\n",
    "except LookupError:\n",
    "    print('LookupError')\n",
    "else:\n",
    "    print('No Exception')\n",
    "finally:\n",
    "    print('Always !! Finally')"
   ]
  },
  {
   "cell_type": "code",
   "execution_count": 11,
   "metadata": {},
   "outputs": [
    {
     "name": "stdout",
     "output_type": "stream",
     "text": [
      "<re.Match object; span=(0, 2), match='ab'>\n",
      "None\n"
     ]
    }
   ],
   "source": [
    "s = 'abcd abc ab AB A'\n",
    "\n",
    "r = re.search(r'ab', s)\n",
    "print(r)\n",
    "r = re.search(r'abe',s)\n",
    "print(r)"
   ]
  },
  {
   "cell_type": "code",
   "execution_count": 12,
   "metadata": {},
   "outputs": [
    {
     "name": "stdout",
     "output_type": "stream",
     "text": [
      "<re.Match object; span=(0, 2), match='ab'>\n",
      "<re.Match object; span=(5, 7), match='ab'>\n",
      "<re.Match object; span=(9, 11), match='ab'>\n",
      "<re.Match object; span=(12, 14), match='AB'>\n"
     ]
    }
   ],
   "source": [
    "s = 'abcd abc ab AB A'\n",
    "\n",
    "for r in re.finditer( r'ab', s,re.IGNORECASE):\n",
    "    print(r)"
   ]
  },
  {
   "cell_type": "code",
   "execution_count": 13,
   "metadata": {},
   "outputs": [
    {
     "name": "stdout",
     "output_type": "stream",
     "text": [
      "<re.Match object; span=(0, 2), match='12'>\n",
      "<re.Match object; span=(9, 11), match='22'>\n",
      "<re.Match object; span=(15, 17), match='33'>\n",
      "<re.Match object; span=(19, 21), match='44'>\n",
      "<re.Match object; span=(21, 23), match='44'>\n"
     ]
    }
   ],
   "source": [
    "s = '123 abcd 22 pq 333 4444'\n",
    "\n",
    "# \\d : digits\n",
    "# \\D : not-digit\n",
    "# \\s : white space : ' ', \\n \\t\n",
    "# \\S :\n",
    "# \\w : alpha numeric\n",
    "# \\W :\n",
    "\n",
    "for r in re.finditer( r'\\d\\d', s):\n",
    "    print(r)"
   ]
  },
  {
   "cell_type": "code",
   "execution_count": 14,
   "metadata": {},
   "outputs": [
    {
     "name": "stdout",
     "output_type": "stream",
     "text": [
      "<re.Match object; span=(0, 7), match='1234567'>\n",
      "<re.Match object; span=(21, 22), match='1'>\n",
      "<re.Match object; span=(23, 26), match='333'>\n",
      "<re.Match object; span=(27, 31), match='4444'>\n"
     ]
    }
   ],
   "source": [
    "    \n",
    "s = '1234567 ab1cd 22a pq 1,333 4444'\n",
    "\n",
    "# * : 0-n repetitions\n",
    "# + : 1-n \n",
    "# ? : 0-1\n",
    "# *? : 0-n non-greedy\n",
    "# +? : 1-n\n",
    "# {m,n} : min-m max-n repetitions\n",
    "# \\b : \\n \\t , ' ',;.?!\n",
    "\n",
    "for r in re.finditer( r'\\b\\d+\\b', s):\n",
    "    print(r)"
   ]
  },
  {
   "cell_type": "code",
   "execution_count": null,
   "metadata": {},
   "outputs": [],
   "source": [
    "\n"
   ]
  },
  {
   "cell_type": "code",
   "execution_count": null,
   "metadata": {},
   "outputs": [],
   "source": []
  },
  {
   "cell_type": "code",
   "execution_count": null,
   "metadata": {},
   "outputs": [],
   "source": []
  },
  {
   "cell_type": "code",
   "execution_count": null,
   "metadata": {},
   "outputs": [],
   "source": []
  },
  {
   "cell_type": "code",
   "execution_count": null,
   "metadata": {},
   "outputs": [],
   "source": []
  },
  {
   "cell_type": "code",
   "execution_count": null,
   "metadata": {},
   "outputs": [],
   "source": []
  }
 ],
 "metadata": {
  "kernelspec": {
   "display_name": "Python 3",
   "language": "python",
   "name": "python3"
  },
  "language_info": {
   "codemirror_mode": {
    "name": "ipython",
    "version": 3
   },
   "file_extension": ".py",
   "mimetype": "text/x-python",
   "name": "python",
   "nbconvert_exporter": "python",
   "pygments_lexer": "ipython3",
   "version": "3.7.3"
  }
 },
 "nbformat": 4,
 "nbformat_minor": 2
}
