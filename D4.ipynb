{
 "cells": [
  {
   "cell_type": "code",
   "execution_count": 2,
   "metadata": {},
   "outputs": [
    {
     "name": "stdout",
     "output_type": "stream",
     "text": [
      "1#2#3\n",
      "1 2 3 ,abc\n",
      "\n",
      "12345\n"
     ]
    }
   ],
   "source": [
    "print(1,2,3, sep = '#')\n",
    "print(1,2,3, sep = ' ', end = ' ,')\n",
    "print('abc', end = '\\n\\n')\n",
    "print('12345')"
   ]
  },
  {
   "cell_type": "code",
   "execution_count": 3,
   "metadata": {},
   "outputs": [
    {
     "ename": "SyntaxError",
     "evalue": "invalid syntax (<ipython-input-3-9564c521d03f>, line 5)",
     "output_type": "error",
     "traceback": [
      "\u001b[1;36m  File \u001b[1;32m\"<ipython-input-3-9564c521d03f>\"\u001b[1;36m, line \u001b[1;32m5\u001b[0m\n\u001b[1;33m    -\u001b[0m\n\u001b[1;37m     ^\u001b[0m\n\u001b[1;31mSyntaxError\u001b[0m\u001b[1;31m:\u001b[0m invalid syntax\n"
     ]
    }
   ],
   "source": [
    "#List\n",
    "-Sequence\n",
    "-Mutable\n",
    "-heterogeneous\n",
    "-"
   ]
  },
  {
   "cell_type": "code",
   "execution_count": 4,
   "metadata": {},
   "outputs": [
    {
     "name": "stdout",
     "output_type": "stream",
     "text": [
      "[] <class 'list'>\n",
      "0\n"
     ]
    }
   ],
   "source": [
    "r = []\n",
    "print(r, type(r))\n",
    "print( len(r) )"
   ]
  },
  {
   "cell_type": "code",
   "execution_count": 5,
   "metadata": {},
   "outputs": [
    {
     "name": "stdout",
     "output_type": "stream",
     "text": [
      "[10, 20, True, 'abcd', [[], 1, 2]] <class 'list'>\n"
     ]
    }
   ],
   "source": [
    "r = [10,20,True, 'abcd' ,[[],1,2]]\n",
    "print(r, type(r))"
   ]
  },
  {
   "cell_type": "code",
   "execution_count": 6,
   "metadata": {},
   "outputs": [
    {
     "name": "stdout",
     "output_type": "stream",
     "text": [
      "[]\n"
     ]
    }
   ],
   "source": [
    "r = list()\n",
    "print(r)\n",
    "a = [1,2,3]\n",
    "r = []"
   ]
  },
  {
   "cell_type": "code",
   "execution_count": 7,
   "metadata": {},
   "outputs": [
    {
     "ename": "SyntaxError",
     "evalue": "invalid syntax (<ipython-input-7-de68d6cf7fc3>, line 3)",
     "output_type": "error",
     "traceback": [
      "\u001b[1;36m  File \u001b[1;32m\"<ipython-input-7-de68d6cf7fc3>\"\u001b[1;36m, line \u001b[1;32m3\u001b[0m\n\u001b[1;33m    while i!< len(a):\u001b[0m\n\u001b[1;37m           ^\u001b[0m\n\u001b[1;31mSyntaxError\u001b[0m\u001b[1;31m:\u001b[0m invalid syntax\n"
     ]
    }
   ],
   "source": [
    "a = [1,2,3,4,5,6]\n",
    "i = 0\n",
    "while i!< len(a):\n",
    "    print(a[i]*a[i])\n",
    "    i += i\n"
   ]
  },
  {
   "cell_type": "code",
   "execution_count": null,
   "metadata": {
    "scrolled": true
   },
   "outputs": [],
   "source": [
    "a = list('abcd')\n",
    "print(a)\n",
    "print( a[1:4] )\n",
    "print( a[1::2] )\n",
    "print( a[::-2] )\n"
   ]
  },
  {
   "cell_type": "code",
   "execution_count": null,
   "metadata": {},
   "outputs": [],
   "source": [
    "import string\n",
    "print(dir(string))"
   ]
  },
  {
   "cell_type": "code",
   "execution_count": null,
   "metadata": {},
   "outputs": [],
   "source": [
    "dir(string)"
   ]
  },
  {
   "cell_type": "code",
   "execution_count": null,
   "metadata": {},
   "outputs": [],
   "source": [
    "s = 'abcd'\n",
    "dir(s)"
   ]
  },
  {
   "cell_type": "code",
   "execution_count": null,
   "metadata": {},
   "outputs": [],
   "source": [
    "s ='ABCD'\n",
    "print(s.find('D'))\n",
    "print(s.replace('A','W'))\n",
    "print(s.isprintable())"
   ]
  },
  {
   "cell_type": "code",
   "execution_count": 8,
   "metadata": {},
   "outputs": [
    {
     "name": "stdout",
     "output_type": "stream",
     "text": [
      "Enter a number:=123\n",
      "6\n"
     ]
    }
   ],
   "source": [
    "a = int(input('Enter a number:='))      \n",
    "add = 0\n",
    "while a > 0:\n",
    "        add += (a%10)\n",
    "        a = a//10\n",
    "        \n",
    "print(add)"
   ]
  },
  {
   "cell_type": "code",
   "execution_count": null,
   "metadata": {},
   "outputs": [],
   "source": []
  }
 ],
 "metadata": {
  "kernelspec": {
   "display_name": "Python 3",
   "language": "python",
   "name": "python3"
  },
  "language_info": {
   "codemirror_mode": {
    "name": "ipython",
    "version": 3
   },
   "file_extension": ".py",
   "mimetype": "text/x-python",
   "name": "python",
   "nbconvert_exporter": "python",
   "pygments_lexer": "ipython3",
   "version": "3.7.3"
  }
 },
 "nbformat": 4,
 "nbformat_minor": 2
}
