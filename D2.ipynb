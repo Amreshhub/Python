{
 "cells": [
  {
   "cell_type": "code",
   "execution_count": 1,
   "metadata": {},
   "outputs": [
    {
     "name": "stdout",
     "output_type": "stream",
     "text": [
      "<class 'int'>\n",
      "<class 'str'>\n",
      "<class 'float'>\n",
      "<class 'int'>\n"
     ]
    }
   ],
   "source": [
    "print(type(10))\n",
    "print(type('10'))\n",
    "print(type(0.0))\n",
    "print(type(0))"
   ]
  },
  {
   "cell_type": "code",
   "execution_count": 3,
   "metadata": {},
   "outputs": [
    {
     "name": "stdout",
     "output_type": "stream",
     "text": [
      "5\n",
      "2.5\n",
      "2\n",
      "1\n",
      "2\n",
      "2.0\n",
      "25\n"
     ]
    }
   ],
   "source": [
    "# Operators\n",
    "print(2+3)\n",
    "print(5/2)\n",
    "print(2%3)\n",
    "print(19%3)\n",
    "print(5//2)# int division\n",
    "print(5//2.0)\n",
    "print(5**2)"
   ]
  },
  {
   "cell_type": "code",
   "execution_count": 6,
   "metadata": {},
   "outputs": [
    {
     "name": "stdout",
     "output_type": "stream",
     "text": [
      "False\n",
      "True\n",
      "False\n",
      "True\n",
      "True\n",
      "False\n",
      "0b1010\n",
      "0b1111\n",
      "0b10100\n",
      "0b1100\n"
     ]
    }
   ],
   "source": [
    "print(1>2)\n",
    "print(1<2)\n",
    "print(2<2)\n",
    "print(2<=2)\n",
    "print(2==2)\n",
    "print(2!=2)\n",
    "print(bin(10))\n",
    "print(bin(15))\n",
    "print(bin(20))\n",
    "print(bin(8|4))\n"
   ]
  },
  {
   "cell_type": "code",
   "execution_count": 5,
   "metadata": {},
   "outputs": [
    {
     "name": "stdout",
     "output_type": "stream",
     "text": [
      "1.7099759466766968\n",
      "2.0\n"
     ]
    }
   ],
   "source": [
    "print(5**(1/3))\n",
    "print(4**0.5)\n"
   ]
  },
  {
   "cell_type": "code",
   "execution_count": 9,
   "metadata": {},
   "outputs": [
    {
     "name": "stdout",
     "output_type": "stream",
     "text": [
      "10\n",
      "you enterd:- <class 'str'>\n"
     ]
    }
   ],
   "source": [
    "# INPUT\n",
    "s= input()\n",
    "print('you enterd:-', type(s))"
   ]
  },
  {
   "cell_type": "code",
   "execution_count": 10,
   "metadata": {},
   "outputs": [
    {
     "name": "stdout",
     "output_type": "stream",
     "text": [
      "0\n",
      "10\n",
      "10\n",
      "10 10 <class 'str'> <class 'int'> '10' 10\n"
     ]
    }
   ],
   "source": [
    "i = int() #int looks like a function but ti is a class\n",
    "print(i)\n",
    "i = int(10)\n",
    "print(i)\n",
    "i = int(10.5)\n",
    "print(i)\n",
    "s= '10'\n",
    "i = int(s)\n",
    "print(s, i, type(s), type(i), repr(s), repr(i))\n"
   ]
  },
  {
   "cell_type": "code",
   "execution_count": 11,
   "metadata": {},
   "outputs": [
    {
     "name": "stdout",
     "output_type": "stream",
     "text": [
      "''\n"
     ]
    }
   ],
   "source": [
    "s = ''\n",
    "print(repr(s))"
   ]
  },
  {
   "cell_type": "code",
   "execution_count": 12,
   "metadata": {},
   "outputs": [
    {
     "name": "stdout",
     "output_type": "stream",
     "text": [
      "True\n",
      "False\n",
      "True\n",
      "False\n",
      "True\n",
      "False\n"
     ]
    }
   ],
   "source": [
    "print(bool(1))\n",
    "print(bool(0))\n",
    "print(bool(-1))\n",
    "print(bool(''))\n",
    "print(bool('  '))\n",
    "print(bool(None))\n"
   ]
  },
  {
   "cell_type": "code",
   "execution_count": 13,
   "metadata": {},
   "outputs": [
    {
     "name": "stdout",
     "output_type": "stream",
     "text": [
      "7\n",
      "7\n",
      "0\n"
     ]
    }
   ],
   "source": [
    "print(len('ab\\ncde'))\n",
    "print(len(r'ab\\ncde'))\n",
    "print(len(''))"
   ]
  },
  {
   "cell_type": "code",
   "execution_count": null,
   "metadata": {},
   "outputs": [],
   "source": [
    "print(int(True))\n",
    "print"
   ]
  },
  {
   "cell_type": "code",
   "execution_count": 29,
   "metadata": {},
   "outputs": [
    {
     "name": "stdout",
     "output_type": "stream",
     "text": [
      "Enter the Number:-8\n",
      "Square of enterd number is : 16777216\n"
     ]
    }
   ],
   "source": [
    "#Wap to input \n",
    "a = input('Enter the Number:-')\n",
    "a = int(a)\n",
    "print(\"Square of enterd number is :\", a**a)\n",
    "\n"
   ]
  },
  {
   "cell_type": "code",
   "execution_count": 31,
   "metadata": {},
   "outputs": [
    {
     "name": "stdout",
     "output_type": "stream",
     "text": [
      "Enter X Value:-3\n",
      " Enter Y Valu:-4\n",
      "81\n"
     ]
    }
   ],
   "source": [
    "#Wap to take x nad y print x\n",
    "x = input('Enter X Value:-')\n",
    "y = input(' Enter Y Valu:-')\n",
    "x = int(x)\n",
    "y = int(y)\n",
    "print(x**y)"
   ]
  },
  {
   "cell_type": "code",
   "execution_count": 30,
   "metadata": {},
   "outputs": [
    {
     "name": "stdout",
     "output_type": "stream",
     "text": [
      "65\n",
      "97\n",
      "66\n",
      "32\n",
      "10\n",
      "False\n"
     ]
    }
   ],
   "source": [
    "print( ord('A')  ) # ASCII: 7-8 : 1byte : 256\n",
    "print( ord('a')  )\n",
    "print( ord('B')  )\n",
    "print( ord(' ')  )\n",
    "print( ord('\\n') )\n",
    "print('a' < 'A')"
   ]
  },
  {
   "cell_type": "code",
   "execution_count": 32,
   "metadata": {},
   "outputs": [
    {
     "name": "stdout",
     "output_type": "stream",
     "text": [
      "Z\n"
     ]
    }
   ],
   "source": [
    "print(chr(90))"
   ]
  }
 ],
 "metadata": {
  "kernelspec": {
   "display_name": "Python 3",
   "language": "python",
   "name": "python3"
  },
  "language_info": {
   "codemirror_mode": {
    "name": "ipython",
    "version": 3
   },
   "file_extension": ".py",
   "mimetype": "text/x-python",
   "name": "python",
   "nbconvert_exporter": "python",
   "pygments_lexer": "ipython3",
   "version": "3.7.3"
  }
 },
 "nbformat": 4,
 "nbformat_minor": 2
}
