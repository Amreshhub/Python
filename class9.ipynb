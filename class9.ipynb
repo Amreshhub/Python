{
 "cells": [
  {
   "cell_type": "code",
   "execution_count": 3,
   "metadata": {},
   "outputs": [
    {
     "name": "stdout",
     "output_type": "stream",
     "text": [
      "[11, 14, 20, 10, 19, 16, 20, 13, 10, 11]\n",
      "0\n",
      "14\n",
      "34\n",
      "44\n",
      "44\n",
      "60\n",
      "80\n",
      "80\n",
      "90\n",
      "90\n"
     ]
    }
   ],
   "source": [
    "import random\n",
    "a = [random.randint(10,20)for i in range(10)]\n",
    "print(a)\n",
    "sum_even = 0\n",
    "for i in a:\n",
    "    if i % 2 == 0:\n",
    "        sum_even +=i\n",
    "    print(sum_even)"
   ]
  },
  {
   "cell_type": "code",
   "execution_count": 5,
   "metadata": {},
   "outputs": [
    {
     "name": "stdout",
     "output_type": "stream",
     "text": [
      "[97, 98, 99, 100, 101]\n",
      "[12, 34, 56]\n"
     ]
    }
   ],
   "source": [
    "\n",
    "#haiger order function\n",
    "def apply(f, s):\n",
    "    a =[]\n",
    "    for data in s:\n",
    "        a.append(   f(data)  )\n",
    "    return a\n",
    "print( apply( ord, 'abcde') )\n",
    "print( apply(int, '12 34 56'.split()  ))\n"
   ]
  },
  {
   "cell_type": "code",
   "execution_count": null,
   "metadata": {},
   "outputs": [],
   "source": []
  },
  {
   "cell_type": "code",
   "execution_count": 6,
   "metadata": {},
   "outputs": [
    {
     "name": "stdout",
     "output_type": "stream",
     "text": [
      "<map object at 0x0000000005CDC630>\n",
      "97\n",
      "98\n",
      "99\n",
      "100\n",
      "101\n"
     ]
    }
   ],
   "source": [
    "m = map(ord, 'abcde')\n",
    "print(m)\n",
    "\n",
    "for data in m:\n",
    "    print(data)\n",
    "    "
   ]
  },
  {
   "cell_type": "code",
   "execution_count": 7,
   "metadata": {},
   "outputs": [
    {
     "name": "stdout",
     "output_type": "stream",
     "text": [
      "<map object at 0x0000000005CDC9B0>\n",
      "[97, 98, 99, 100, 101]\n",
      "[]\n"
     ]
    }
   ],
   "source": [
    "m = map(ord, 'abcde')\n",
    "print(m)\n",
    "\n",
    "print(list(m))\n",
    "print(list(m))"
   ]
  },
  {
   "cell_type": "code",
   "execution_count": 8,
   "metadata": {},
   "outputs": [
    {
     "name": "stdout",
     "output_type": "stream",
     "text": [
      "[400, 27000]\n"
     ]
    }
   ],
   "source": [
    "m = map(pow, [20,30,40],[2,3])\n",
    "print( list(m))"
   ]
  },
  {
   "cell_type": "code",
   "execution_count": 9,
   "metadata": {},
   "outputs": [
    {
     "name": "stdout",
     "output_type": "stream",
     "text": [
      "[1, 11, 144, 2197, 38416, 759375, 16777216, 410338673, 11019960576, 322687697779]\n"
     ]
    }
   ],
   "source": [
    "m = map (pow, range(10,20), range(10)) #\n",
    "print(list(m) )"
   ]
  },
  {
   "cell_type": "code",
   "execution_count": 10,
   "metadata": {},
   "outputs": [
    {
     "name": "stdout",
     "output_type": "stream",
     "text": [
      "150\n"
     ]
    }
   ],
   "source": [
    "def add (x,y):\n",
    "    return x + y\n",
    "a = [10,20,30,40,50]\n",
    "from functools import reduce\n",
    "\n",
    "s = reduce(add, a)\n",
    "print(s)\n"
   ]
  },
  {
   "cell_type": "code",
   "execution_count": null,
   "metadata": {},
   "outputs": [],
   "source": []
  },
  {
   "cell_type": "code",
   "execution_count": null,
   "metadata": {},
   "outputs": [],
   "source": []
  }
 ],
 "metadata": {
  "kernelspec": {
   "display_name": "Python 3",
   "language": "python",
   "name": "python3"
  },
  "language_info": {
   "codemirror_mode": {
    "name": "ipython",
    "version": 3
   },
   "file_extension": ".py",
   "mimetype": "text/x-python",
   "name": "python",
   "nbconvert_exporter": "python",
   "pygments_lexer": "ipython3",
   "version": "3.7.3"
  }
 },
 "nbformat": 4,
 "nbformat_minor": 2
}
