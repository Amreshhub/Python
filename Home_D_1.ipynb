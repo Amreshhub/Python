{
 "cells": [
  {
   "cell_type": "markdown",
   "metadata": {},
   "source": [
    "# Day1_class_work"
   ]
  },
  {
   "cell_type": "code",
   "execution_count": 1,
   "metadata": {},
   "outputs": [
    {
     "data": {
      "text/plain": [
       "4"
      ]
     },
     "execution_count": 1,
     "metadata": {},
     "output_type": "execute_result"
    }
   ],
   "source": [
    "2+2"
   ]
  },
  {
   "cell_type": "code",
   "execution_count": 2,
   "metadata": {},
   "outputs": [
    {
     "data": {
      "text/plain": [
       "256"
      ]
     },
     "execution_count": 2,
     "metadata": {},
     "output_type": "execute_result"
    }
   ],
   "source": [
    "4**4"
   ]
  },
  {
   "cell_type": "code",
   "execution_count": 3,
   "metadata": {},
   "outputs": [
    {
     "data": {
      "text/plain": [
       "16"
      ]
     },
     "execution_count": 3,
     "metadata": {},
     "output_type": "execute_result"
    }
   ],
   "source": [
    "2*8"
   ]
  },
  {
   "cell_type": "code",
   "execution_count": 4,
   "metadata": {},
   "outputs": [
    {
     "data": {
      "text/plain": [
       "7"
      ]
     },
     "execution_count": 4,
     "metadata": {},
     "output_type": "execute_result"
    }
   ],
   "source": [
    "1+1\n",
    "3+4"
   ]
  },
  {
   "cell_type": "code",
   "execution_count": 5,
   "metadata": {},
   "outputs": [
    {
     "name": "stdout",
     "output_type": "stream",
     "text": [
      "Amresh\n"
     ]
    }
   ],
   "source": [
    "print('Amresh')"
   ]
  },
  {
   "cell_type": "code",
   "execution_count": 6,
   "metadata": {},
   "outputs": [
    {
     "name": "stdout",
     "output_type": "stream",
     "text": [
      "['False', 'None', 'True', 'and', 'as', 'assert', 'async', 'await', 'break', 'class', 'continue', 'def', 'del', 'elif', 'else', 'except', 'finally', 'for', 'from', 'global', 'if', 'import', 'in', 'is', 'lambda', 'nonlocal', 'not', 'or', 'pass', 'raise', 'return', 'try', 'while', 'with', 'yield']\n"
     ]
    }
   ],
   "source": [
    "import keyword\n",
    "print(keyword.kwlist)"
   ]
  },
  {
   "cell_type": "code",
   "execution_count": 7,
   "metadata": {},
   "outputs": [
    {
     "name": "stdout",
     "output_type": "stream",
     "text": [
      "30\n"
     ]
    }
   ],
   "source": [
    "x=10 \n",
    "y=20\n",
    "print(x+y)"
   ]
  },
  {
   "cell_type": "code",
   "execution_count": 8,
   "metadata": {},
   "outputs": [
    {
     "name": "stdout",
     "output_type": "stream",
     "text": [
      "20\n"
     ]
    }
   ],
   "source": [
    "#Comment Line\n",
    "a=20\n",
    "print(a) #Printing value of a"
   ]
  },
  {
   "cell_type": "code",
   "execution_count": 9,
   "metadata": {},
   "outputs": [],
   "source": [
    "x  = 10\n",
    "x1 = 10\n",
    "#1x = 10  #Wrong name\n",
    "x_1 = 20\n",
    "#x.y = 10 #Wrong name\n"
   ]
  },
  {
   "cell_type": "code",
   "execution_count": 10,
   "metadata": {},
   "outputs": [
    {
     "name": "stdout",
     "output_type": "stream",
     "text": [
      "10 20\n"
     ]
    }
   ],
   "source": [
    "x = 10 \n",
    "X = 20 # Python is case sansative \n",
    "print(x, X)"
   ]
  },
  {
   "cell_type": "code",
   "execution_count": 11,
   "metadata": {},
   "outputs": [
    {
     "ename": "SyntaxError",
     "evalue": "invalid syntax (<ipython-input-11-f0ac6cafc37e>, line 2)",
     "output_type": "error",
     "traceback": [
      "\u001b[1;36m  File \u001b[1;32m\"<ipython-input-11-f0ac6cafc37e>\"\u001b[1;36m, line \u001b[1;32m2\u001b[0m\n\u001b[1;33m    int x;\u001b[0m\n\u001b[1;37m        ^\u001b[0m\n\u001b[1;31mSyntaxError\u001b[0m\u001b[1;31m:\u001b[0m invalid syntax\n"
     ]
    }
   ],
   "source": [
    "#Data Type\n",
    "int x;\n",
    "x= 10;\n",
    "x = 1.1;"
   ]
  },
  {
   "cell_type": "code",
   "execution_count": null,
   "metadata": {},
   "outputs": [],
   "source": [
    "x = 10\n",
    "print(type(x))\n",
    "x = True\n",
    "print(type(x))"
   ]
  },
  {
   "cell_type": "code",
   "execution_count": null,
   "metadata": {},
   "outputs": [],
   "source": [
    "print(print)\n",
    "print(dir)\n",
    "print(type)"
   ]
  },
  {
   "cell_type": "code",
   "execution_count": null,
   "metadata": {},
   "outputs": [],
   "source": [
    "x = 'abcd'\n",
    "print(x)\n",
    "print('x')\n",
    "print(1,2, 'abcd', True)"
   ]
  },
  {
   "cell_type": "code",
   "execution_count": null,
   "metadata": {},
   "outputs": [],
   "source": [
    "#Escape sequence\n",
    "s = 'abc\\namresh\\tSingh'\n",
    "print(s)"
   ]
  },
  {
   "cell_type": "code",
   "execution_count": null,
   "metadata": {},
   "outputs": [],
   "source": [
    "s = 'amresh\\'singh'\n",
    "print(s)"
   ]
  },
  {
   "cell_type": "code",
   "execution_count": null,
   "metadata": {},
   "outputs": [],
   "source": [
    "s1 = 'amresh\"singh'\n",
    "s2 = \"amresh\\'singh'\"\n",
    "s3 = '''amresh'''\n",
    "s4 = \"\"\"amresh\"\"\"\n",
    "print(s1,s2,s3,s4)"
   ]
  },
  {
   "cell_type": "code",
   "execution_count": null,
   "metadata": {},
   "outputs": [],
   "source": [
    "s = '1/2'\n",
    "print(s)\n",
    "s = '1\\\\2'\n",
    "print(s)"
   ]
  },
  {
   "cell_type": "code",
   "execution_count": null,
   "metadata": {},
   "outputs": [],
   "source": [
    "s = 'ab\\npq\\txy'\n",
    "print(s)\n",
    "#Raw String\n",
    "s = r'ab\\npq\\txy'\n",
    "print(s)\n",
    "print(r'm\\n')\n"
   ]
  },
  {
   "cell_type": "code",
   "execution_count": null,
   "metadata": {},
   "outputs": [],
   "source": [
    "#Multiline Stringh\n",
    "s = '''Amresh\n",
    "Singh'''\n",
    "print(s)"
   ]
  },
  {
   "cell_type": "code",
   "execution_count": null,
   "metadata": {},
   "outputs": [],
   "source": [
    "s1 = 'abc'\n",
    "s2 = '#123'\n",
    "s3 = s1+s2\n",
    "print(s3)\n",
    "print(s1,s2)"
   ]
  },
  {
   "cell_type": "code",
   "execution_count": null,
   "metadata": {},
   "outputs": [],
   "source": [
    "s = 'A very longggggggggggggggg---------_______'+ \\\n",
    "'__________________________________'\n",
    "print(s)"
   ]
  },
  {
   "cell_type": "code",
   "execution_count": null,
   "metadata": {},
   "outputs": [],
   "source": [
    "x = 10+20 \\\n",
    "*30\\\n",
    "-20\n",
    "print(x)"
   ]
  },
  {
   "cell_type": "markdown",
   "metadata": {},
   "source": [
    "# Day_2 Class Work"
   ]
  },
  {
   "cell_type": "code",
   "execution_count": null,
   "metadata": {},
   "outputs": [],
   "source": [
    "print(type(10))\n",
    "print(type('10'))\n",
    "print(type(0.0))\n",
    "print(type(0))\n"
   ]
  },
  {
   "cell_type": "code",
   "execution_count": null,
   "metadata": {},
   "outputs": [],
   "source": [
    "#Operator\n",
    "print(2+3)\n",
    "print(5/2)\n",
    "print(2%3)\n",
    "print(19%3)\n",
    "print(5//2)#Devison\n",
    "print(5//2.0)\n",
    "print(5**2)\n"
   ]
  },
  {
   "cell_type": "code",
   "execution_count": null,
   "metadata": {},
   "outputs": [],
   "source": [
    "print(1>2)\n",
    "print(1<2)\n",
    "print(2<2)\n",
    "print(2<=2)\n",
    "print(2==2)\n",
    "print(2!=2)\n",
    "print(bin(10))\n",
    "print(bin(15))\n",
    "print(bin(20))\n",
    "print(bin(8|4))\n"
   ]
  },
  {
   "cell_type": "code",
   "execution_count": null,
   "metadata": {},
   "outputs": [],
   "source": [
    "print(5**(1/3))\n",
    "print(4**0.5)\n"
   ]
  },
  {
   "cell_type": "code",
   "execution_count": null,
   "metadata": {},
   "outputs": [],
   "source": [
    "#input\n",
    "s = input()\n",
    "s = int(s)\n",
    "print('Enterd you:-', type(s))"
   ]
  },
  {
   "cell_type": "code",
   "execution_count": null,
   "metadata": {},
   "outputs": [],
   "source": [
    "i = int() #its looks like function but it is a class\n",
    "print(i)\n",
    "i = int(10)\n",
    "print(i)\n",
    "i = int(10.5)\n",
    "print(i)\n",
    "s = '10'\n",
    "i = int(s)\n",
    "print(s, i, type(s), type(i), repr(s), repr(i))"
   ]
  },
  {
   "cell_type": "code",
   "execution_count": null,
   "metadata": {},
   "outputs": [],
   "source": [
    "s = ''\n",
    "print(repr(s))"
   ]
  },
  {
   "cell_type": "code",
   "execution_count": null,
   "metadata": {},
   "outputs": [],
   "source": [
    "print(bool(1))\n",
    "print(bool(0))\n",
    "print(bool(-1))\n",
    "print(bool(' '))\n",
    "print(bool('   '))\n",
    "print(bool(None))\n"
   ]
  },
  {
   "cell_type": "code",
   "execution_count": null,
   "metadata": {},
   "outputs": [],
   "source": [
    "print(len('ab\\ncde'))\n",
    "print(len(r'ab\\ncde'))\n",
    "print(len(\"\"))\n",
    "\n",
    "          "
   ]
  },
  {
   "cell_type": "code",
   "execution_count": null,
   "metadata": {},
   "outputs": [],
   "source": [
    "#Wap to input \n",
    "a = input('Enter a Number:-')\n",
    "a = int(a)\n",
    "print(\"Squre of given number is:-\", a**a)\n"
   ]
  },
  {
   "cell_type": "code",
   "execution_count": 12,
   "metadata": {},
   "outputs": [
    {
     "name": "stdout",
     "output_type": "stream",
     "text": [
      "Enter Value of X:-4\n",
      "Enter Value of y:-5\n",
      "1024\n"
     ]
    }
   ],
   "source": [
    "x = input('Enter Value of X:-')\n",
    "y = input('Enter Value of y:-')\n",
    "x = int(x)\n",
    "y = int(y)\n",
    "print(x**y)"
   ]
  },
  {
   "cell_type": "code",
   "execution_count": 13,
   "metadata": {},
   "outputs": [
    {
     "name": "stdout",
     "output_type": "stream",
     "text": [
      "65\n",
      "97\n",
      "66\n",
      "32\n",
      "10\n",
      "False\n"
     ]
    }
   ],
   "source": [
    "#ASCII 7-8 :1 Byte @56\n",
    "print(ord('A'))\n",
    "print(ord('a'))\n",
    "print(ord('B'))\n",
    "print(ord(' '))\n",
    "print(ord('\\n'))\n",
    "print('a' < 'A')"
   ]
  },
  {
   "cell_type": "code",
   "execution_count": 14,
   "metadata": {},
   "outputs": [
    {
     "name": "stdout",
     "output_type": "stream",
     "text": [
      "Ā\n"
     ]
    }
   ],
   "source": [
    "print(chr(256))\n"
   ]
  },
  {
   "cell_type": "markdown",
   "metadata": {},
   "source": [
    "# Day3_Class_Work"
   ]
  },
  {
   "cell_type": "code",
   "execution_count": 15,
   "metadata": {},
   "outputs": [],
   "source": [
    "import string"
   ]
  },
  {
   "cell_type": "code",
   "execution_count": 16,
   "metadata": {},
   "outputs": [
    {
     "name": "stdout",
     "output_type": "stream",
     "text": [
      "['BPF', 'LOG4', 'NV_MAGICCONST', 'RECIP_BPF', 'Random', 'SG_MAGICCONST', 'SystemRandom', 'TWOPI', '_BuiltinMethodType', '_MethodType', '_Sequence', '_Set', '__all__', '__builtins__', '__cached__', '__doc__', '__file__', '__loader__', '__name__', '__package__', '__spec__', '_acos', '_bisect', '_ceil', '_cos', '_e', '_exp', '_inst', '_itertools', '_log', '_os', '_pi', '_random', '_sha512', '_sin', '_sqrt', '_test', '_test_generator', '_urandom', '_warn', 'betavariate', 'choice', 'choices', 'expovariate', 'gammavariate', 'gauss', 'getrandbits', 'getstate', 'lognormvariate', 'normalvariate', 'paretovariate', 'randint', 'random', 'randrange', 'sample', 'seed', 'setstate', 'shuffle', 'triangular', 'uniform', 'vonmisesvariate', 'weibullvariate']\n"
     ]
    }
   ],
   "source": [
    "import random\n",
    "print(dir(random))"
   ]
  },
  {
   "cell_type": "code",
   "execution_count": 17,
   "metadata": {},
   "outputs": [],
   "source": [
    "import random"
   ]
  },
  {
   "cell_type": "code",
   "execution_count": 18,
   "metadata": {},
   "outputs": [
    {
     "name": "stdout",
     "output_type": "stream",
     "text": [
      "5\n",
      "16\n",
      "13\n"
     ]
    }
   ],
   "source": [
    "print(random.randrange(10))#0-9\n",
    "print(random.randrange(10,20))#10-20\n",
    "print(random.randrange(10,20, 3))# sequence of 3"
   ]
  },
  {
   "cell_type": "code",
   "execution_count": 19,
   "metadata": {},
   "outputs": [
    {
     "name": "stdout",
     "output_type": "stream",
     "text": [
      "13\n",
      "0.3592222996023996\n",
      "10.95781536118741\n"
     ]
    }
   ],
   "source": [
    "print(random.randint(10,20))#10-20\n",
    "print(random.random())\n",
    "print(random.uniform(10,20))"
   ]
  },
  {
   "cell_type": "code",
   "execution_count": 20,
   "metadata": {},
   "outputs": [
    {
     "data": {
      "text/plain": [
       "'K'"
      ]
     },
     "execution_count": 20,
     "metadata": {},
     "output_type": "execute_result"
    }
   ],
   "source": [
    "chr(random.randint(65,90))"
   ]
  },
  {
   "cell_type": "code",
   "execution_count": 21,
   "metadata": {},
   "outputs": [
    {
     "data": {
      "text/plain": [
       "'D'"
      ]
     },
     "execution_count": 21,
     "metadata": {},
     "output_type": "execute_result"
    }
   ],
   "source": [
    "random.choice('ABCD DEF')"
   ]
  },
  {
   "cell_type": "code",
   "execution_count": 22,
   "metadata": {},
   "outputs": [
    {
     "data": {
      "text/plain": [
       "'y'"
      ]
     },
     "execution_count": 22,
     "metadata": {},
     "output_type": "execute_result"
    }
   ],
   "source": [
    "random.choice(string.ascii_letters)"
   ]
  },
  {
   "cell_type": "code",
   "execution_count": 23,
   "metadata": {},
   "outputs": [
    {
     "data": {
      "text/plain": [
       "' '"
      ]
     },
     "execution_count": 23,
     "metadata": {},
     "output_type": "execute_result"
    }
   ],
   "source": [
    "random.choice(' ')"
   ]
  },
  {
   "cell_type": "code",
   "execution_count": 24,
   "metadata": {},
   "outputs": [
    {
     "name": "stdout",
     "output_type": "stream",
     "text": [
      "['In', 'Out', 'X', '_', '_1', '_2', '_20', '_21', '_22', '_23', '_3', '_4', '__', '___', '__builtin__', '__builtins__', '__doc__', '__loader__', '__name__', '__package__', '__spec__', '_dh', '_i', '_i1', '_i10', '_i11', '_i12', '_i13', '_i14', '_i15', '_i16', '_i17', '_i18', '_i19', '_i2', '_i20', '_i21', '_i22', '_i23', '_i24', '_i3', '_i4', '_i5', '_i6', '_i7', '_i8', '_i9', '_ih', '_ii', '_iii', '_oh', 'a', 'exit', 'get_ipython', 'keyword', 'quit', 'random', 'string', 'x', 'x1', 'x_1', 'y']\n"
     ]
    }
   ],
   "source": [
    "print(dir())"
   ]
  },
  {
   "cell_type": "code",
   "execution_count": 25,
   "metadata": {},
   "outputs": [
    {
     "ename": "NameError",
     "evalue": "name 'randint' is not defined",
     "output_type": "error",
     "traceback": [
      "\u001b[1;31m---------------------------------------------------------------------------\u001b[0m",
      "\u001b[1;31mNameError\u001b[0m                                 Traceback (most recent call last)",
      "\u001b[1;32m<ipython-input-25-14a62ab88bc0>\u001b[0m in \u001b[0;36m<module>\u001b[1;34m\u001b[0m\n\u001b[1;32m----> 1\u001b[1;33m \u001b[0mrandint\u001b[0m\u001b[1;33m\u001b[0m\u001b[1;33m\u001b[0m\u001b[0m\n\u001b[0m",
      "\u001b[1;31mNameError\u001b[0m: name 'randint' is not defined"
     ]
    }
   ],
   "source": [
    "randint"
   ]
  },
  {
   "cell_type": "code",
   "execution_count": null,
   "metadata": {},
   "outputs": [],
   "source": [
    "from random import randint\n",
    "print(dir())"
   ]
  },
  {
   "cell_type": "code",
   "execution_count": null,
   "metadata": {},
   "outputs": [],
   "source": [
    "#Wap to genrate two random no(1-100) and print sum and average of number\n",
    "import random\n",
    "a = random.randint(1,100)\n",
    "b = random.randint(1,100)\n",
    "add = a+b\n",
    "avg = add/2\n",
    "print(\"Sum of two random number is:-\", add)\n",
    "print('Avg of two random number is:-', avg)\n"
   ]
  },
  {
   "cell_type": "code",
   "execution_count": null,
   "metadata": {},
   "outputs": [],
   "source": [
    "from random import randint \n",
    "a = randint(1,100)\n",
    "b = randint(1,100)\n",
    "add = a+b\n",
    "avg = add/2\n",
    "print('Sum of two random number is:-',add)\n",
    "print('Avg of two random number is:-',avg)"
   ]
  },
  {
   "cell_type": "markdown",
   "metadata": {},
   "source": [
    "# LOOP(While)\n"
   ]
  },
  {
   "cell_type": "code",
   "execution_count": null,
   "metadata": {},
   "outputs": [],
   "source": [
    "i = 1\n",
    "while i <10:\n",
    "    print(i)\n",
    "    i+= 1"
   ]
  },
  {
   "cell_type": "code",
   "execution_count": null,
   "metadata": {},
   "outputs": [],
   "source": [
    "i = 1\n",
    "print(i)\n",
    "i =i+1\n",
    "print(i)\n",
    "i += 1\n",
    "print(i)\n",
    "i = i+1\n",
    "print(i)"
   ]
  },
  {
   "cell_type": "code",
   "execution_count": null,
   "metadata": {},
   "outputs": [],
   "source": [
    "i = 2\n",
    "i -= 1\n",
    "print(i)\n",
    "i *= 10\n",
    "print(i)\n",
    "i/=5\n",
    "print(i)"
   ]
  },
  {
   "cell_type": "code",
   "execution_count": null,
   "metadata": {},
   "outputs": [],
   "source": [
    "i = 2\n",
    "while i<100:\n",
    "    i*= 2\n",
    "    print(i)\n"
   ]
  },
  {
   "cell_type": "code",
   "execution_count": null,
   "metadata": {},
   "outputs": [],
   "source": [
    "i = 2\n",
    "while i<100:\n",
    "    print(i)\n",
    "    i *= 2"
   ]
  },
  {
   "cell_type": "code",
   "execution_count": null,
   "metadata": {},
   "outputs": [],
   "source": [
    "i = 2\n",
    "while i<100:\n",
    "    i *= 2\n",
    "    print(i)"
   ]
  },
  {
   "cell_type": "code",
   "execution_count": null,
   "metadata": {},
   "outputs": [],
   "source": [
    "i = 1\n",
    "while i< 10:\n",
    "    print(i)\n",
    "    i += 1"
   ]
  },
  {
   "cell_type": "code",
   "execution_count": null,
   "metadata": {},
   "outputs": [],
   "source": [
    "i = 10\n",
    "while i>0:\n",
    "    print(i)\n",
    "    i -= 1"
   ]
  },
  {
   "cell_type": "code",
   "execution_count": null,
   "metadata": {},
   "outputs": [],
   "source": [
    "i = 10\n",
    "while i >= 1:\n",
    "    i = i-1\n",
    "    print(i)\n"
   ]
  },
  {
   "cell_type": "code",
   "execution_count": null,
   "metadata": {},
   "outputs": [],
   "source": [
    "j = 10\n",
    "while j >= 1:\n",
    "    print(j)\n",
    "    j= j-1"
   ]
  },
  {
   "cell_type": "code",
   "execution_count": null,
   "metadata": {},
   "outputs": [],
   "source": [
    "#Find of number from 1 to n\n",
    "n = int(input('Enter a number:-'))\n",
    "i = 1\n",
    "s = 0\n",
    "while i<= n:\n",
    "    s += i\n",
    "    i += 1\n",
    "    \n",
    "print(s)\n",
    "print(n*(n+1)/2)"
   ]
  },
  {
   "cell_type": "code",
   "execution_count": null,
   "metadata": {},
   "outputs": [],
   "source": [
    "#Wap to print 10 random number beetween 10-100\n",
    "import random\n",
    "i = 1\n",
    "while i<=10:\n",
    "    a = random.randrange(10,100)\n",
    "    print(a)\n",
    "    i += 1"
   ]
  },
  {
   "cell_type": "code",
   "execution_count": null,
   "metadata": {},
   "outputs": [],
   "source": [
    "s = input('Press N to exit')\n",
    "c = 0\n",
    "while s != 'n':\n",
    "    s = input('N to exit:')\n",
    "    c += 1\n",
    "print(\"cpunted\", c)"
   ]
  },
  {
   "cell_type": "code",
   "execution_count": null,
   "metadata": {},
   "outputs": [],
   "source": [
    "s ='abcdefb'\n",
    "print(len(s))\n",
    "print(s[3])\n",
    "print(s[2])\n",
    "print(s[-3])\n",
    "print(s[len(s)-1])"
   ]
  },
  {
   "cell_type": "code",
   "execution_count": null,
   "metadata": {},
   "outputs": [],
   "source": [
    "s = input(\"Enter a String:-\")\n",
    "i = 0\n",
    "while i < len(s):\n",
    "    print(s[i])\n",
    "    i += 1"
   ]
  },
  {
   "cell_type": "code",
   "execution_count": null,
   "metadata": {},
   "outputs": [],
   "source": [
    "#Wap to input a string and print ascii value of each char\n",
    "s = input(\"Enter a string:-\")\n",
    "i = 0\n",
    "while i!= len(s):\n",
    "    print(s[i])\n",
    "    print(ord(s[i]))\n",
    "    i += 1\n",
    "    "
   ]
  },
  {
   "cell_type": "code",
   "execution_count": null,
   "metadata": {},
   "outputs": [],
   "source": [
    "#Wap to take input a string find sum of ascii of all char\n",
    "s = input(\"Enter a string:-\")\n",
    "i = 0\n",
    "add = 0\n",
    "while i!= len(s):\n",
    "    add += ord(s[i])\n",
    "    i += 1\n",
    "    print(add)\n"
   ]
  },
  {
   "cell_type": "markdown",
   "metadata": {},
   "source": [
    "# DAY_4 Class_work"
   ]
  },
  {
   "cell_type": "code",
   "execution_count": null,
   "metadata": {},
   "outputs": [],
   "source": [
    "print(1,2,3, sep = \"#\")\n",
    "print(1,2,3, end = ',')\n",
    "print('abc', end = '\\n\\n')\n",
    "print('12345')"
   ]
  },
  {
   "cell_type": "code",
   "execution_count": null,
   "metadata": {},
   "outputs": [],
   "source": [
    "#LIST\n",
    "#Sequence\n",
    "#mutable\n",
    "#Heterogeneous\n",
    "#Similar to be not an  Aarry\n",
    "\n",
    "r = []\n",
    "print(r,type(r))\n",
    "print(len(r))\n"
   ]
  },
  {
   "cell_type": "code",
   "execution_count": null,
   "metadata": {},
   "outputs": [],
   "source": [
    "r = [10,20,True, 'abcd',[[],1,2]]\n",
    "print(r,type(r))\n",
    "print(len(r))"
   ]
  },
  {
   "cell_type": "code",
   "execution_count": null,
   "metadata": {},
   "outputs": [],
   "source": [
    "r= list()\n",
    "print(r)\n",
    "a = [1,2,3]#list\n",
    "r = list(a)#list\n",
    "print(a,r)"
   ]
  },
  {
   "cell_type": "code",
   "execution_count": null,
   "metadata": {},
   "outputs": [],
   "source": [
    "r = list('abcd')\n",
    "print(r)"
   ]
  },
  {
   "cell_type": "code",
   "execution_count": null,
   "metadata": {},
   "outputs": [],
   "source": [
    "a =[10,20,30,40,50]\n",
    "#   0  1   2  3  4\n",
    "print(len(a))\n",
    "print(a[0])\n",
    "print(a[4])\n",
    "print(a[-1])\n"
   ]
  },
  {
   "cell_type": "code",
   "execution_count": null,
   "metadata": {},
   "outputs": [],
   "source": [
    "a = [10,20,30,40,50]\n",
    "#    0   1 2  3  4\n",
    "#Mutable\n",
    "a[0] = 1000\n",
    "a[1] = a[2] + a[-1]\n",
    "print(a)\n",
    "#immutable\n",
    "s ='abcd'\n",
    "#s = s.replace('a','A')\n",
    "s1 = s.capitalize()\n",
    "print(s1,s)"
   ]
  },
  {
   "cell_type": "code",
   "execution_count": null,
   "metadata": {},
   "outputs": [],
   "source": [
    "#String\n",
    "#List\n",
    "#tuple\n",
    "r = list()\n",
    "print(r)"
   ]
  },
  {
   "cell_type": "code",
   "execution_count": null,
   "metadata": {},
   "outputs": [],
   "source": [
    "a = [1,'abcd',3,4]\n",
    "a1 = list(a)\n",
    "a2 = list(a[a1])\n",
    "print(a1,a2)"
   ]
  },
  {
   "cell_type": "code",
   "execution_count": null,
   "metadata": {},
   "outputs": [],
   "source": [
    "#WAp tp print square oa all elements of the list\n",
    "a = [10,20,30,40,50]\n",
    "i = 0 \n",
    "while i < len(a):\n",
    "    print(a[i]**2)\n",
    "    i += 1\n",
    "    print(a)"
   ]
  },
  {
   "cell_type": "code",
   "execution_count": null,
   "metadata": {},
   "outputs": [],
   "source": [
    "a = list('abcdf')\n",
    "#     01234\n",
    "print(a)\n",
    "\n",
    "print( a[1:4])\n",
    "print( a[1::3])\n",
    "print( a[::-2])\n"
   ]
  },
  {
   "cell_type": "code",
   "execution_count": null,
   "metadata": {},
   "outputs": [],
   "source": [
    "s =('abc   123  pqrstABCD' )\n",
    "print(len(s))"
   ]
  },
  {
   "cell_type": "code",
   "execution_count": null,
   "metadata": {},
   "outputs": [],
   "source": [
    "s =('Abc  #d')\n",
    "print(s.islower())\n",
    "s1 = ('abcdABC')\n",
    "print(s.islower())\n"
   ]
  },
  {
   "cell_type": "code",
   "execution_count": null,
   "metadata": {},
   "outputs": [],
   "source": [
    "s =('abcd123ABCD')\n",
    "print(s.upper())"
   ]
  },
  {
   "cell_type": "code",
   "execution_count": null,
   "metadata": {},
   "outputs": [],
   "source": [
    "s = ('abc  ab abc a')\n",
    "print( s.count('a'))\n",
    "print( s.count('ab'))\n",
    "print( s.count('A'))\n",
    "print( s.count('ab',3))\n",
    "print( s.count('ab',4))\n",
    "print( s.count('ab',5))\n",
    "print()\n",
    "print(s.count('ab', 4,8))\n"
   ]
  },
  {
   "cell_type": "code",
   "execution_count": null,
   "metadata": {},
   "outputs": [],
   "source": [
    "s = 'abc  ab abc a'\n",
    "#    0123456789\n",
    "print(s.find('a'))\n",
    "print(s.find('ab'))\n",
    "print(s.find('A'))\n",
    "print(s.find('ab', 3))\n",
    "print(s.find('ab', 4))\n",
    "print()\n",
    "print(s.find('ab',5 ,8))"
   ]
  },
  {
   "cell_type": "code",
   "execution_count": null,
   "metadata": {},
   "outputs": [],
   "source": [
    "# in kyeword\n",
    "print('s'in 'pars')\n",
    "print('S' in 'pars')\n",
    "print('pr' in 'pras')"
   ]
  },
  {
   "cell_type": "code",
   "execution_count": null,
   "metadata": {},
   "outputs": [],
   "source": [
    "#Wap a to enter number and result will be sum of degit\n",
    "n = input('Enter a number:-')\n",
    "i= 0 \n",
    "add= 0\n",
    "while i < len(n):\n",
    "    add = add + int(n[i])\n",
    "    i += 1\n",
    "print(add)\n",
    "    \n",
    "    "
   ]
  },
  {
   "cell_type": "code",
   "execution_count": null,
   "metadata": {},
   "outputs": [],
   "source": [
    "#Wap a to enter number and result will be sum of degit\n",
    "n = int(input('Enter A number:-'))\n",
    "add =0\n",
    "while n > 0:\n",
    "    add = add+(n % 10)\n",
    "    n = n//10\n",
    "print(add)"
   ]
  },
  {
   "cell_type": "markdown",
   "metadata": {},
   "source": [
    "# DAY_5_Class_Work"
   ]
  },
  {
   "cell_type": "code",
   "execution_count": null,
   "metadata": {},
   "outputs": [],
   "source": [
    "s = 'abc  ab abcd'\n",
    "a = s.split()\n",
    "print(a)\n",
    "a =s.split('ab')\n",
    "print(a)"
   ]
  },
  {
   "cell_type": "code",
   "execution_count": null,
   "metadata": {},
   "outputs": [],
   "source": [
    "#Wap to input a String and print length of each word\n",
    "s =input('Enter a String:-')\n",
    "w = s.split()\n",
    "print(w)\n",
    "i = 0\n",
    "while i < len(w):\n",
    "    print(w[i], len(w[i]))\n",
    "    i += 1\n",
    "    "
   ]
  },
  {
   "cell_type": "code",
   "execution_count": null,
   "metadata": {},
   "outputs": [],
   "source": [
    "#Wap to input number separted by , and then convert it to list of int\n",
    "s =input('Enter number seperedet by , :-')\n",
    "n = s.split(',')\n",
    "print(n)\n",
    "i = 0\n",
    "while i < len(n):\n",
    "    n[i] = int(n[i])\n",
    "    i = +1\n",
    "print(n)\n",
    "print( sum(n) )\n",
    "print( min(n) )\n",
    "print( max(n) )\n",
    "\n"
   ]
  },
  {
   "cell_type": "code",
   "execution_count": null,
   "metadata": {},
   "outputs": [],
   "source": [
    "a = ['this', 'is', 'a', 'string']\n",
    "r ='#'.join(a)\n",
    "print(r)"
   ]
  },
  {
   "cell_type": "code",
   "execution_count": null,
   "metadata": {},
   "outputs": [],
   "source": [
    "r = 'ABCD'.join('abcd')\n",
    "print(r)"
   ]
  },
  {
   "cell_type": "code",
   "execution_count": null,
   "metadata": {},
   "outputs": [],
   "source": [
    "print('ABCD  1234  ab a'.replace(' ', ','))\n",
    "print('abcd  123 ab a'.replace('a','A'))\n"
   ]
  },
  {
   "cell_type": "code",
   "execution_count": null,
   "metadata": {},
   "outputs": [],
   "source": [
    "#Wap to input a string and count number of alphabit ''in the string\n",
    "s = input('Enter a string:-')\n",
    "print(s.lower().count('a'))"
   ]
  },
  {
   "cell_type": "code",
   "execution_count": null,
   "metadata": {},
   "outputs": [],
   "source": [
    "#Wap to input a string and give total no fo voval\n",
    "s = input('Enter a String:-')\n",
    "s = s.lower()\n",
    "c = s.count('a') + s.count('e') +  s.count('i') + s.count('o') + s.count('u') \n",
    "print(c)"
   ]
  },
  {
   "cell_type": "code",
   "execution_count": null,
   "metadata": {},
   "outputs": [],
   "source": [
    "a = ['NOT_PALINDROM', 'PALINDROM']\n",
    "s = input('Enter a string to check wether its palindrom or not:-')\n",
    "s1 = s[::-1]\n",
    "print(a[s == s1])\n"
   ]
  },
  {
   "cell_type": "code",
   "execution_count": null,
   "metadata": {},
   "outputs": [],
   "source": [
    "a = ['Even','odd']\n",
    "n = int(input('Enter a NO:-'))\n",
    "\n",
    "print( a[n%2] )"
   ]
  },
  {
   "cell_type": "code",
   "execution_count": null,
   "metadata": {},
   "outputs": [],
   "source": [
    "a = [sum , min , max ,abs(-9),10]\n",
    "print(a)"
   ]
  },
  {
   "cell_type": "code",
   "execution_count": null,
   "metadata": {},
   "outputs": [],
   "source": [
    "#list\n",
    "a =[10,20]\n",
    "a.append(30)\n",
    "print(a)\n",
    "a.append([1,2])\n",
    "print(a)\n",
    "a.append('Amresh')\n",
    "print(a)"
   ]
  },
  {
   "cell_type": "code",
   "execution_count": null,
   "metadata": {},
   "outputs": [],
   "source": [
    "a = [10,20,30]\n",
    "a.insert(1,100)\n",
    "print(a)\n",
    "a.insert(1,[100,200])\n",
    "print(a)\n"
   ]
  },
  {
   "cell_type": "code",
   "execution_count": null,
   "metadata": {},
   "outputs": [],
   "source": [
    "a = [10,20,30,40]\n",
    "r = a.pop()\n",
    "print(a,r)\n",
    "r = a.pop(0)\n",
    "print(a,r)\n",
    "a.pop(10)\n",
    "print(a)"
   ]
  },
  {
   "cell_type": "code",
   "execution_count": null,
   "metadata": {},
   "outputs": [],
   "source": [
    "a = [10,20,30,40,10]\n",
    "a.remove(10)\n",
    "print(a)\n",
    "print(10 in [10,20,30,40])\n",
    "print(1000 in [10,20,30])"
   ]
  },
  {
   "cell_type": "code",
   "execution_count": null,
   "metadata": {},
   "outputs": [],
   "source": [
    "import random\n",
    "a = []\n",
    "for i in range(5):\n",
    "    a.append(random.randrange(1,10))\n",
    "    print(a)"
   ]
  },
  {
   "cell_type": "code",
   "execution_count": null,
   "metadata": {},
   "outputs": [],
   "source": [
    "a = [11,10,12,19,20]\n",
    "a.reverse()\n",
    "print(a)"
   ]
  },
  {
   "cell_type": "code",
   "execution_count": null,
   "metadata": {},
   "outputs": [],
   "source": [
    "a = [11,10,12,19,20,15.5]\n",
    "a.sort()\n",
    "print(a)\n",
    "a.sort(reverse = True)\n",
    "print(a)"
   ]
  },
  {
   "cell_type": "code",
   "execution_count": null,
   "metadata": {},
   "outputs": [],
   "source": [
    "s = 'abcd'\n",
    "for var in s:\n",
    "    print(var)"
   ]
  },
  {
   "cell_type": "code",
   "execution_count": null,
   "metadata": {},
   "outputs": [],
   "source": [
    "i = 1 \n",
    "while i <= 10:\n",
    "    print(i)\n",
    "    i += 1\n",
    "\n"
   ]
  },
  {
   "cell_type": "code",
   "execution_count": null,
   "metadata": {},
   "outputs": [],
   "source": [
    "a = [1,2,3,4,5]\n",
    "for data in a:\n",
    "    s = list(a)\n",
    "    print(s)"
   ]
  },
  {
   "cell_type": "code",
   "execution_count": null,
   "metadata": {},
   "outputs": [],
   "source": [
    "a = 10 \n",
    "while a:\n",
    "    a = a//2\n",
    "    print(a)"
   ]
  },
  {
   "cell_type": "code",
   "execution_count": null,
   "metadata": {},
   "outputs": [],
   "source": [
    "r1 = range(5) #Range is kind of sequence\n",
    "print(r1)\n",
    "a =list(r1)\n",
    "print(a)\n",
    "for data in r1:\n",
    "    print(r1)"
   ]
  },
  {
   "cell_type": "code",
   "execution_count": null,
   "metadata": {},
   "outputs": [],
   "source": [
    "for i in range(5):\n",
    "    print('*')"
   ]
  },
  {
   "cell_type": "code",
   "execution_count": null,
   "metadata": {},
   "outputs": [],
   "source": [
    "for i in range(10,0,-1):\n",
    "    print(i)"
   ]
  },
  {
   "cell_type": "code",
   "execution_count": null,
   "metadata": {},
   "outputs": [],
   "source": [
    "for i in range(10):\n",
    "    print(10-i)"
   ]
  },
  {
   "cell_type": "code",
   "execution_count": null,
   "metadata": {},
   "outputs": [],
   "source": [
    "for i in range(5): #outer\n",
    "    for j in range(5): #inner\n",
    "         print(i,j)"
   ]
  },
  {
   "cell_type": "code",
   "execution_count": null,
   "metadata": {},
   "outputs": [],
   "source": [
    "for i in range(5):\n",
    "    for j in range(5):\n",
    "        print('*',end ='')\n",
    "    print()        \n"
   ]
  },
  {
   "cell_type": "markdown",
   "metadata": {},
   "source": [
    "# Day_6_Class_work"
   ]
  },
  {
   "cell_type": "code",
   "execution_count": null,
   "metadata": {},
   "outputs": [],
   "source": []
  },
  {
   "cell_type": "code",
   "execution_count": null,
   "metadata": {},
   "outputs": [],
   "source": [
    "t =()\n",
    "print(t,type(t))"
   ]
  },
  {
   "cell_type": "code",
   "execution_count": null,
   "metadata": {},
   "outputs": [],
   "source": [
    "t = (1,2 , [' ', 'string'], 'tuple')\n",
    "print(t, type(t))"
   ]
  },
  {
   "cell_type": "code",
   "execution_count": null,
   "metadata": {},
   "outputs": [],
   "source": [
    "a = [1,2,3]\n",
    "t = tuple(a)\n",
    "print(a,t)\n",
    "t = tuple('abcd')\n",
    "print(t)"
   ]
  },
  {
   "cell_type": "code",
   "execution_count": null,
   "metadata": {},
   "outputs": [],
   "source": [
    "s = 'abcd'\n",
    "print(s*3)\n",
    "t = (10,20, True)\n",
    "print(t*3)\n",
    "a = list(t)\n",
    "print(a*3)"
   ]
  },
  {
   "cell_type": "code",
   "execution_count": null,
   "metadata": {},
   "outputs": [],
   "source": [
    "print(dir(tuple))"
   ]
  },
  {
   "cell_type": "code",
   "execution_count": null,
   "metadata": {},
   "outputs": [],
   "source": [
    "b = int(input(\"Enter Base Valu:-\"))\n",
    "e = int(input('Enter exponent:-'))\n",
    "\n",
    "\n",
    "p = 1\n",
    "for i in range(e):\n",
    "        p*= b\n",
    "        print(p)"
   ]
  },
  {
   "cell_type": "code",
   "execution_count": null,
   "metadata": {},
   "outputs": [],
   "source": [
    "def funct():\n",
    "    print('Function')\n",
    "funct()\n",
    "funct()"
   ]
  },
  {
   "cell_type": "code",
   "execution_count": null,
   "metadata": {},
   "outputs": [],
   "source": [
    "def funct(x):\n",
    "    print(\"Square:\", x*x)\n",
    "r = funct(10)\n",
    "print(r)\n",
    "funct(int(input(\"Enter a number:\")))\n"
   ]
  },
  {
   "cell_type": "code",
   "execution_count": null,
   "metadata": {},
   "outputs": [],
   "source": [
    "def square(x):\n",
    "    return x*x\n",
    "\n",
    "r = square(10) + square(4)\n",
    "print(r)"
   ]
  },
  {
   "cell_type": "code",
   "execution_count": 1,
   "metadata": {},
   "outputs": [
    {
     "name": "stdout",
     "output_type": "stream",
     "text": [
      "120\n"
     ]
    }
   ],
   "source": [
    "#Wap fact(n) and return factriol of n\n",
    "def fact(n):\n",
    "    p = 1\n",
    "    for i in range(1, n+1):\n",
    "        p *=i\n",
    "    return p\n",
    "print(fact(5))"
   ]
  },
  {
   "cell_type": "code",
   "execution_count": null,
   "metadata": {},
   "outputs": [],
   "source": [
    "#WAP get_rand_list() which should return a list of 5 ramdom number (100,200)\n",
    "import random\n",
    "#a = get_rand_list()\n",
    "#a = [10,3,4,100,90]\n",
    "def get_rand_list():\n",
    "    cnt = 5\n",
    "    a = []\n",
    "    for i in range(cnt):\n",
    "        a.append(random.randint(100,200))\n",
    "        return a\n",
    "        r = get_rand_list()\n",
    "        print(r)"
   ]
  },
  {
   "cell_type": "code",
   "execution_count": null,
   "metadata": {},
   "outputs": [],
   "source": [
    "import random as rn\n",
    "def get_list():\n",
    "    a= list()\n",
    "    for i in range(5):\n",
    "        a.append(rn.randint(100,200))\n",
    "        \n",
    "get_list()\n",
    "print(a)\n",
    "        "
   ]
  },
  {
   "cell_type": "code",
   "execution_count": null,
   "metadata": {},
   "outputs": [],
   "source": [
    "a =10\n",
    "def funct():\n",
    "        print(a)\n",
    "print('main',a)\n",
    "funct()"
   ]
  },
  {
   "cell_type": "code",
   "execution_count": null,
   "metadata": {},
   "outputs": [],
   "source": [
    "def get_rand_list(n):\n",
    "    x = random.randrange(1,100,5)\n",
    "    return x\n",
    "r = get_rand_list(10)\n",
    "print(r)"
   ]
  },
  {
   "cell_type": "code",
   "execution_count": null,
   "metadata": {},
   "outputs": [],
   "source": [
    "import random\n",
    "def get_rend_list():\n",
    "     x = list()\n",
    "    for i in range(0,5):\n",
    "        x.append(   list(random.randint(100,200))  )\n",
    "return x\n",
    "    r = get_rend_list()\n",
    "    print(r)"
   ]
  },
  {
   "cell_type": "code",
   "execution_count": null,
   "metadata": {},
   "outputs": [],
   "source": [
    "vector<tuple<int, tuple<int, string > > >"
   ]
  },
  {
   "cell_type": "markdown",
   "metadata": {},
   "source": [
    "# Day_7_Class_Cork"
   ]
  },
  {
   "cell_type": "code",
   "execution_count": null,
   "metadata": {},
   "outputs": [],
   "source": [
    "n = int(input(\"Enter a number:-\"))\n",
    "if n % 2 == 0:\n",
    "    print(\"Eeven\")\n",
    "else:\n",
    "    print(\"Odd\")"
   ]
  },
  {
   "cell_type": "code",
   "execution_count": null,
   "metadata": {},
   "outputs": [],
   "source": [
    "#WAP input a String and check if is Palindrom or not\n",
    "s = input(\"Enter A String:-\")\n",
    "s = s.lower()\n",
    "r = s[::-1]\n",
    "if r == s:\n",
    "    print(\"Palindrom\")\n",
    "else:\n",
    "    print(\"Not Plaindrom\")\n"
   ]
  },
  {
   "cell_type": "code",
   "execution_count": null,
   "metadata": {},
   "outputs": [],
   "source": [
    "#Given number if not even number make it odd\n",
    "n = int(input('Enter a number:-'))\n",
    "if n % 2 == 0:\n",
    "    n += 1\n",
    "print(n)"
   ]
  },
  {
   "cell_type": "code",
   "execution_count": null,
   "metadata": {},
   "outputs": [],
   "source": [
    "a = [10,20,30,40]\n",
    "for data in reversed(a):\n",
    "    print(data)\n",
    "print(a)\n"
   ]
  },
  {
   "cell_type": "code",
   "execution_count": null,
   "metadata": {},
   "outputs": [],
   "source": [
    "#Break and Continue\n",
    "s = input('Enter A String:-')\n",
    "s = s.lower()\n",
    "\n",
    "flag = True\n",
    "\n",
    "i = 0\n",
    "j = len(s) - 1\n",
    "\n",
    "while i < j:\n",
    "    if s[i]!= s[i]:\n",
    "        flag = False\n",
    "        break\n",
    "i += 1\n",
    "j -= 1\n",
    "\n",
    "if flag:\n",
    "    print('palindrom')\n",
    "else:\n",
    "    print('Not Palindrom')\n",
    "    "
   ]
  },
  {
   "cell_type": "code",
   "execution_count": null,
   "metadata": {},
   "outputs": [],
   "source": [
    "for i in range(10):\n",
    "    print(i)\n",
    "    if i == 5:\n",
    "        break\n",
    "print('After')"
   ]
  },
  {
   "cell_type": "code",
   "execution_count": null,
   "metadata": {},
   "outputs": [],
   "source": [
    "for i in range(10):\n",
    "    if i % 2:\n",
    "        continue \n",
    "    print(i)"
   ]
  },
  {
   "cell_type": "code",
   "execution_count": null,
   "metadata": {},
   "outputs": [],
   "source": [
    "s = input()\n",
    "counter = 0\n",
    "for data in s:\n",
    "    if data .isdigit():\n",
    "        break\n",
    "    if data in 'aeiouAeiou':\n",
    "        continue\n",
    "    counter += 1\n",
    "print(counter)\n",
    "        "
   ]
  },
  {
   "cell_type": "code",
   "execution_count": 26,
   "metadata": {},
   "outputs": [
    {
     "name": "stdout",
     "output_type": "stream",
     "text": [
      "0 0\n",
      "1 0\n",
      "1 1\n",
      "2 0\n",
      "2 1\n",
      "2 2\n",
      "3 0\n",
      "3 1\n",
      "3 2\n",
      "3 3\n",
      "4 0\n",
      "4 1\n",
      "4 2\n",
      "4 3\n",
      "4 4\n"
     ]
    }
   ],
   "source": [
    "for i in range(5):\n",
    "    for j in range(i+1):\n",
    "        print(i,j)"
   ]
  },
  {
   "cell_type": "code",
   "execution_count": 27,
   "metadata": {},
   "outputs": [
    {
     "name": "stdout",
     "output_type": "stream",
     "text": [
      "0 0\n",
      "0 1\n",
      "0 2\n",
      "0 3\n",
      "0 4\n",
      "1 0\n",
      "1 1\n",
      "1 2\n",
      "1 3\n",
      "1 4\n",
      "2 0\n",
      "2 1\n",
      "2 2\n",
      "2 3\n",
      "2 4\n",
      "3 0\n",
      "3 1\n",
      "3 2\n",
      "3 3\n",
      "3 4\n",
      "4 0\n",
      "4 1\n",
      "4 2\n",
      "4 3\n",
      "4 4\n"
     ]
    }
   ],
   "source": [
    "for i in range(5):\n",
    "    for j in range(5):\n",
    "        print(i,j)\n",
    "    if i == j:\n",
    "        break\n",
    "        \n",
    "        "
   ]
  },
  {
   "cell_type": "code",
   "execution_count": 28,
   "metadata": {},
   "outputs": [
    {
     "name": "stdout",
     "output_type": "stream",
     "text": [
      "Enter a number:-2\n",
      "3\n"
     ]
    }
   ],
   "source": [
    "n = int(input(\"Enter a number:-\"))\n",
    "s = 0\n",
    "for i in range(n+1):\n",
    "    s += i\n",
    "print(s)"
   ]
  },
  {
   "cell_type": "code",
   "execution_count": 29,
   "metadata": {},
   "outputs": [
    {
     "name": "stdout",
     "output_type": "stream",
     "text": [
      "[3, 2, 1]\n"
     ]
    }
   ],
   "source": [
    "a =[1,2,3]\n",
    "b = []\n",
    "while a:\n",
    "    b.append(a.pop())\n",
    "print(b)\n"
   ]
  },
  {
   "cell_type": "code",
   "execution_count": 32,
   "metadata": {},
   "outputs": [
    {
     "name": "stdout",
     "output_type": "stream",
     "text": [
      "True\n",
      "False\n",
      "False\n"
     ]
    }
   ],
   "source": [
    "#Logical operator\n",
    "print(True or False)\n",
    "print(False or False)\n",
    "print(False or False or False)"
   ]
  },
  {
   "cell_type": "code",
   "execution_count": 33,
   "metadata": {},
   "outputs": [
    {
     "name": "stdout",
     "output_type": "stream",
     "text": [
      "20\n",
      "0\n",
      "[]\n",
      "10\n"
     ]
    }
   ],
   "source": [
    "print(10 and 20)\n",
    "print(0 and 20)\n",
    "print(0 or [])\n",
    "print(10 or [])\n"
   ]
  },
  {
   "cell_type": "code",
   "execution_count": 34,
   "metadata": {},
   "outputs": [
    {
     "name": "stdout",
     "output_type": "stream",
     "text": [
      "Enter String:-3a4er\n",
      "1\n",
      "2\n",
      "3\n",
      "4\n",
      "5\n"
     ]
    }
   ],
   "source": [
    "s = input('Enter String:-')\n",
    "num_digit = 0\n",
    "for c in s:\n",
    "    if c.isdigit() or c.isalpha():\n",
    "        num_digit += 1\n",
    "    print(num_digit)"
   ]
  },
  {
   "cell_type": "code",
   "execution_count": 38,
   "metadata": {},
   "outputs": [
    {
     "name": "stdout",
     "output_type": "stream",
     "text": [
      "4444\n",
      "int\n"
     ]
    }
   ],
   "source": [
    "s = input()\n",
    "if s.isdigit():\n",
    "    print(\"int\")\n",
    "else:\n",
    "    if s.count('.') == 1:\n",
    "        flag = True\n",
    "        for c in s:\n",
    "            if not (c.isdigit() or c == '.'):\n",
    "                flag = False \n",
    "                break\n",
    "        if flag:\n",
    "            print('Float')\n",
    "        else:\n",
    "            print('Not a number')\n",
    "    else:\n",
    "        print('Not Int not float')\n",
    "        \n",
    "                "
   ]
  },
  {
   "cell_type": "code",
   "execution_count": 52,
   "metadata": {},
   "outputs": [
    {
     "name": "stdout",
     "output_type": "stream",
     "text": [
      "45665t\n"
     ]
    },
    {
     "ename": "UnboundLocalError",
     "evalue": "local variable 'flag' referenced before assignment",
     "output_type": "error",
     "traceback": [
      "\u001b[1;31m---------------------------------------------------------------------------\u001b[0m",
      "\u001b[1;31mUnboundLocalError\u001b[0m                         Traceback (most recent call last)",
      "\u001b[1;32m<ipython-input-52-25c58168a973>\u001b[0m in \u001b[0;36m<module>\u001b[1;34m\u001b[0m\n\u001b[0;32m     16\u001b[0m             \u001b[1;32mreturn\u001b[0m \u001b[0mfloat\u001b[0m\u001b[1;33m(\u001b[0m\u001b[0ms\u001b[0m\u001b[1;33m)\u001b[0m\u001b[1;33m\u001b[0m\u001b[1;33m\u001b[0m\u001b[0m\n\u001b[0;32m     17\u001b[0m     \u001b[1;32mraise\u001b[0m \u001b[0mException\u001b[0m\u001b[1;33m(\u001b[0m\u001b[1;33m)\u001b[0m\u001b[1;33m\u001b[0m\u001b[1;33m\u001b[0m\u001b[0m\n\u001b[1;32m---> 18\u001b[1;33m \u001b[0mprint\u001b[0m\u001b[1;33m(\u001b[0m\u001b[0mget_number\u001b[0m\u001b[1;33m(\u001b[0m\u001b[1;33m)\u001b[0m\u001b[1;33m)\u001b[0m\u001b[1;33m\u001b[0m\u001b[1;33m\u001b[0m\u001b[0m\n\u001b[0m\u001b[0;32m     19\u001b[0m \u001b[1;33m\u001b[0m\u001b[0m\n",
      "\u001b[1;32m<ipython-input-52-25c58168a973>\u001b[0m in \u001b[0;36mget_number\u001b[1;34m()\u001b[0m\n\u001b[0;32m     13\u001b[0m                     \u001b[1;32mbreak\u001b[0m\u001b[1;33m\u001b[0m\u001b[1;33m\u001b[0m\u001b[0m\n\u001b[0;32m     14\u001b[0m \u001b[1;33m\u001b[0m\u001b[0m\n\u001b[1;32m---> 15\u001b[1;33m         \u001b[1;32mif\u001b[0m \u001b[0mflag\u001b[0m\u001b[1;33m:\u001b[0m\u001b[1;33m\u001b[0m\u001b[1;33m\u001b[0m\u001b[0m\n\u001b[0m\u001b[0;32m     16\u001b[0m             \u001b[1;32mreturn\u001b[0m \u001b[0mfloat\u001b[0m\u001b[1;33m(\u001b[0m\u001b[0ms\u001b[0m\u001b[1;33m)\u001b[0m\u001b[1;33m\u001b[0m\u001b[1;33m\u001b[0m\u001b[0m\n\u001b[0;32m     17\u001b[0m     \u001b[1;32mraise\u001b[0m \u001b[0mException\u001b[0m\u001b[1;33m(\u001b[0m\u001b[1;33m)\u001b[0m\u001b[1;33m\u001b[0m\u001b[1;33m\u001b[0m\u001b[0m\n",
      "\u001b[1;31mUnboundLocalError\u001b[0m: local variable 'flag' referenced before assignment"
     ]
    }
   ],
   "source": [
    "def get_number():\n",
    "    s = input()\n",
    "    if s.isdigit():\n",
    "        return int(s)\n",
    "    else:\n",
    "    \n",
    "        if s.count('.') == 1:\n",
    "        \n",
    "             flag = True\n",
    "             for c in s:\n",
    "                if not (c.isdigit() or c == '.'):\n",
    "                    flag = False\n",
    "                    break\n",
    "                \n",
    "        if flag:\n",
    "            return float(s)\n",
    "    raise Exception() \n",
    "print(get_number())\n",
    "                "
   ]
  },
  {
   "cell_type": "code",
   "execution_count": 54,
   "metadata": {},
   "outputs": [
    {
     "name": "stdout",
     "output_type": "stream",
     "text": [
      "Enter A number:-123\n",
      "123\n"
     ]
    }
   ],
   "source": [
    "s = input('Enter A number:-')\n",
    "try:\n",
    "        print(int(s))\n",
    "except:\n",
    "    try:\n",
    "        print(float(s))\n",
    "    except:\n",
    "        print('Nothing')\n",
    "        "
   ]
  },
  {
   "cell_type": "code",
   "execution_count": 67,
   "metadata": {},
   "outputs": [
    {
     "name": "stdout",
     "output_type": "stream",
     "text": [
      "Enter a number:-3333\n",
      "Pallindrom\n"
     ]
    }
   ],
   "source": [
    "n = int(input('Enter a number:-'))\n",
    "r = 0\n",
    "cnum = n\n",
    "d = 0\n",
    "while n > 0:\n",
    "    d = n % 10\n",
    "    r = (r *10) + d\n",
    "    n = n // 10\n",
    "if r == cnum:\n",
    "    print('Pallindrom')\n",
    "else:\n",
    "    print('Not Pallindrom')"
   ]
  },
  {
   "cell_type": "code",
   "execution_count": 4,
   "metadata": {},
   "outputs": [
    {
     "name": "stdout",
     "output_type": "stream",
     "text": [
      "Enter somthing:-@#\n",
      "0 0 0 2\n"
     ]
    }
   ],
   "source": [
    "s = input('Enter somthing:-')\n",
    "c1 = 0\n",
    "c2 = 0\n",
    "c3 = 0\n",
    "c4 = 0\n",
    "for c in s:\n",
    "    if c.isdigit():\n",
    "        c1 +=1\n",
    "    elif c.isalpha():\n",
    "        c2 +=1\n",
    "    elif c.isspace():\n",
    "        c3 +=1\n",
    "    else:\n",
    "        c4 +=1\n",
    "print(c1,c2,c3,c4)\n",
    "        "
   ]
  },
  {
   "cell_type": "code",
   "execution_count": 7,
   "metadata": {},
   "outputs": [
    {
     "name": "stdout",
     "output_type": "stream",
     "text": [
      "Enter Somthing:-!@#$%^&*\n",
      "0 0 8\n"
     ]
    }
   ],
   "source": [
    "s = input ('Enter Somthing:-')\n",
    "c1 = 0\n",
    "c2 = 0\n",
    "c3 = 0\n",
    "for c in s:\n",
    "    if c.isdigit() or c.isalpha():\n",
    "        c1 +=1\n",
    "    elif c.isspace():\n",
    "        c2 +=1\n",
    "    else:\n",
    "        c3 +=1\n",
    "print(c1,c2,c3)\n"
   ]
  },
  {
   "cell_type": "code",
   "execution_count": 8,
   "metadata": {},
   "outputs": [
    {
     "name": "stdout",
     "output_type": "stream",
     "text": [
      "Enter A number seprated by sapce:-1 2 3 4\n",
      "[1, 2, 3, 4]\n"
     ]
    }
   ],
   "source": [
    "def get_nums_list():\n",
    "    s = input('Enter A number seprated by sapce:-')\n",
    "    a =[]\n",
    "    for data in s.split(' '):\n",
    "        a.append(int(data))\n",
    "    return a\n",
    "print(get_nums_list())"
   ]
  },
  {
   "cell_type": "markdown",
   "metadata": {},
   "source": [
    "# Day_8_Class_Work"
   ]
  },
  {
   "cell_type": "code",
   "execution_count": 9,
   "metadata": {},
   "outputs": [
    {
     "name": "stdout",
     "output_type": "stream",
     "text": [
      "[13, 17, 15, 11, 10, 16, 13, 18, 14, 19]\n"
     ]
    }
   ],
   "source": [
    "#HigherOrderFunction\n",
    "import random\n",
    "a = [random.randint(10,20) for i in range(10)]\n",
    "print(a)\n"
   ]
  },
  {
   "cell_type": "code",
   "execution_count": 11,
   "metadata": {},
   "outputs": [],
   "source": [
    "def funct(f):\n",
    "    f()\n",
    "    \n",
    "def funct1(f):\n",
    "    for data in f:\n",
    "        print(data)\n"
   ]
  },
  {
   "cell_type": "code",
   "execution_count": 13,
   "metadata": {},
   "outputs": [
    {
     "name": "stdout",
     "output_type": "stream",
     "text": [
      "abcd\n"
     ]
    }
   ],
   "source": [
    "def abc():\n",
    "    print('abcd')\n",
    "abc()"
   ]
  },
  {
   "cell_type": "code",
   "execution_count": 15,
   "metadata": {},
   "outputs": [
    {
     "name": "stdout",
     "output_type": "stream",
     "text": [
      "Caling abc\n",
      "abc\n",
      "Caling pow\n"
     ]
    },
    {
     "ename": "TypeError",
     "evalue": "pow expected at least 2 arguments, got 0",
     "output_type": "error",
     "traceback": [
      "\u001b[1;31m---------------------------------------------------------------------------\u001b[0m",
      "\u001b[1;31mTypeError\u001b[0m                                 Traceback (most recent call last)",
      "\u001b[1;32m<ipython-input-15-f9d407f318d2>\u001b[0m in \u001b[0;36m<module>\u001b[1;34m\u001b[0m\n\u001b[0;32m      6\u001b[0m     \u001b[0mprint\u001b[0m\u001b[1;33m(\u001b[0m\u001b[1;34m'abc'\u001b[0m\u001b[1;33m)\u001b[0m\u001b[1;33m\u001b[0m\u001b[1;33m\u001b[0m\u001b[0m\n\u001b[0;32m      7\u001b[0m \u001b[0mfunct\u001b[0m\u001b[1;33m(\u001b[0m\u001b[0mabc\u001b[0m\u001b[1;33m)\u001b[0m\u001b[1;33m\u001b[0m\u001b[1;33m\u001b[0m\u001b[0m\n\u001b[1;32m----> 8\u001b[1;33m \u001b[0mfunct\u001b[0m\u001b[1;33m(\u001b[0m\u001b[0mpow\u001b[0m\u001b[1;33m)\u001b[0m\u001b[1;33m\u001b[0m\u001b[1;33m\u001b[0m\u001b[0m\n\u001b[0m",
      "\u001b[1;32m<ipython-input-15-f9d407f318d2>\u001b[0m in \u001b[0;36mfunct\u001b[1;34m(f)\u001b[0m\n\u001b[0;32m      1\u001b[0m \u001b[1;32mdef\u001b[0m \u001b[0mfunct\u001b[0m\u001b[1;33m(\u001b[0m\u001b[0mf\u001b[0m\u001b[1;33m)\u001b[0m\u001b[1;33m:\u001b[0m\u001b[1;33m\u001b[0m\u001b[1;33m\u001b[0m\u001b[0m\n\u001b[0;32m      2\u001b[0m     \u001b[0mprint\u001b[0m\u001b[1;33m(\u001b[0m\u001b[1;34m\"Caling\"\u001b[0m\u001b[1;33m,\u001b[0m \u001b[0mf\u001b[0m\u001b[1;33m.\u001b[0m\u001b[0m__name__\u001b[0m\u001b[1;33m)\u001b[0m\u001b[1;33m\u001b[0m\u001b[1;33m\u001b[0m\u001b[0m\n\u001b[1;32m----> 3\u001b[1;33m     \u001b[0mf\u001b[0m\u001b[1;33m(\u001b[0m\u001b[1;33m)\u001b[0m\u001b[1;33m\u001b[0m\u001b[1;33m\u001b[0m\u001b[0m\n\u001b[0m\u001b[0;32m      4\u001b[0m \u001b[1;33m\u001b[0m\u001b[0m\n\u001b[0;32m      5\u001b[0m \u001b[1;32mdef\u001b[0m \u001b[0mabc\u001b[0m\u001b[1;33m(\u001b[0m\u001b[1;33m)\u001b[0m\u001b[1;33m:\u001b[0m\u001b[1;33m\u001b[0m\u001b[1;33m\u001b[0m\u001b[0m\n",
      "\u001b[1;31mTypeError\u001b[0m: pow expected at least 2 arguments, got 0"
     ]
    }
   ],
   "source": [
    "def funct(f):\n",
    "    print(\"Caling\", f.__name__)\n",
    "    f()\n",
    "    \n",
    "def abc():\n",
    "    print('abc')\n",
    "funct(abc)\n",
    "#funct(pow)"
   ]
  },
  {
   "cell_type": "code",
   "execution_count": 19,
   "metadata": {},
   "outputs": [
    {
     "name": "stdout",
     "output_type": "stream",
     "text": [
      "[97, 98, 99, 100]\n",
      "[12, 34, 56]\n"
     ]
    }
   ],
   "source": [
    "def apply(f, s):\n",
    "    a = []\n",
    "    \n",
    "    for data in s:\n",
    "        a.append( f(data) )\n",
    "    return a\n",
    "\n",
    "print( apply( ord, 'abcd') )\n",
    "\n",
    "print( apply( int, '12 34 56'.split() ) )\n"
   ]
  },
  {
   "cell_type": "code",
   "execution_count": 20,
   "metadata": {},
   "outputs": [
    {
     "name": "stdout",
     "output_type": "stream",
     "text": [
      "2 3 4\n",
      "[2, 3, 4]\n"
     ]
    }
   ],
   "source": [
    "r = apply(int, input().split() )\n",
    "print(r)"
   ]
  },
  {
   "cell_type": "code",
   "execution_count": 22,
   "metadata": {},
   "outputs": [
    {
     "name": "stdout",
     "output_type": "stream",
     "text": [
      "<map object at 0x00000000063D6438>\n",
      "97\n",
      "98\n",
      "99\n",
      "100\n"
     ]
    }
   ],
   "source": [
    "m = map(ord, 'abcd')\n",
    "print(m)\n",
    "for data in m:\n",
    "    print(data)"
   ]
  },
  {
   "cell_type": "code",
   "execution_count": 23,
   "metadata": {},
   "outputs": [
    {
     "name": "stdout",
     "output_type": "stream",
     "text": [
      "<map object at 0x00000000063D6748>\n",
      "[97, 98, 99, 100]\n",
      "[]\n"
     ]
    }
   ],
   "source": [
    "m = map(ord,'abcd')\n",
    "print(m)\n",
    "print(list(m))\n",
    "print(list(m))"
   ]
  },
  {
   "cell_type": "code",
   "execution_count": 24,
   "metadata": {},
   "outputs": [
    {
     "ename": "TypeError",
     "evalue": "ord() takes exactly one argument (2 given)",
     "output_type": "error",
     "traceback": [
      "\u001b[1;31m---------------------------------------------------------------------------\u001b[0m",
      "\u001b[1;31mTypeError\u001b[0m                                 Traceback (most recent call last)",
      "\u001b[1;32m<ipython-input-24-8c6ff7946191>\u001b[0m in \u001b[0;36m<module>\u001b[1;34m\u001b[0m\n\u001b[0;32m      1\u001b[0m \u001b[0mm\u001b[0m \u001b[1;33m=\u001b[0m \u001b[0mmap\u001b[0m\u001b[1;33m(\u001b[0m\u001b[0mord\u001b[0m\u001b[1;33m,\u001b[0m \u001b[1;34m'abcd'\u001b[0m\u001b[1;33m,\u001b[0m\u001b[1;34m'abc'\u001b[0m\u001b[1;33m)\u001b[0m\u001b[1;33m\u001b[0m\u001b[1;33m\u001b[0m\u001b[0m\n\u001b[1;32m----> 2\u001b[1;33m \u001b[0mprint\u001b[0m\u001b[1;33m(\u001b[0m\u001b[0mlist\u001b[0m\u001b[1;33m(\u001b[0m\u001b[0mm\u001b[0m\u001b[1;33m)\u001b[0m\u001b[1;33m)\u001b[0m\u001b[1;33m\u001b[0m\u001b[1;33m\u001b[0m\u001b[0m\n\u001b[0m",
      "\u001b[1;31mTypeError\u001b[0m: ord() takes exactly one argument (2 given)"
     ]
    }
   ],
   "source": [
    "m = map(ord, 'abcd','abc')\n",
    "print(list(m))\n"
   ]
  },
  {
   "cell_type": "code",
   "execution_count": 25,
   "metadata": {},
   "outputs": [
    {
     "name": "stdout",
     "output_type": "stream",
     "text": [
      "[<built-in function pow>, [20, 30, 40], [2, 3]]\n"
     ]
    }
   ],
   "source": [
    "m = (pow, [20,30,40], [2,3])\n",
    "print(list(m))"
   ]
  },
  {
   "cell_type": "code",
   "execution_count": 26,
   "metadata": {},
   "outputs": [
    {
     "name": "stdout",
     "output_type": "stream",
     "text": [
      "[1, 11, 144, 2197, 38416, 759375, 16777216, 410338673, 11019960576, 322687697779]\n"
     ]
    }
   ],
   "source": [
    "m = map(pow, range(10,20),range(10))\n",
    "print(list(m))"
   ]
  },
  {
   "cell_type": "code",
   "execution_count": 27,
   "metadata": {},
   "outputs": [
    {
     "name": "stdout",
     "output_type": "stream",
     "text": [
      "11 1 a\n",
      "12 2 b\n",
      "13 3 c\n",
      "20 4 d\n"
     ]
    },
    {
     "data": {
      "text/plain": [
       "[None, None, None, None]"
      ]
     },
     "execution_count": 27,
     "metadata": {},
     "output_type": "execute_result"
    }
   ],
   "source": [
    "m = map(print, [11,12,13,20,30],[1,2,3,4],'abcd')\n",
    "list(m)"
   ]
  },
  {
   "cell_type": "code",
   "execution_count": 29,
   "metadata": {},
   "outputs": [
    {
     "name": "stdout",
     "output_type": "stream",
     "text": [
      "150\n",
      "100\n"
     ]
    }
   ],
   "source": [
    "#Reduce\n",
    "from functools import reduce\n",
    "def add(x,y):\n",
    "    return x+y\n",
    "a = [10,20,30,40,50]\n",
    "print(reduce(add, a) )\n",
    "print(reduce(add, [100]) )"
   ]
  },
  {
   "cell_type": "code",
   "execution_count": 30,
   "metadata": {},
   "outputs": [
    {
     "name": "stdout",
     "output_type": "stream",
     "text": [
      "10\n"
     ]
    }
   ],
   "source": [
    "def my_reduce(f,s):\n",
    "    r = f(s[0],s[1])\n",
    "    for data in s[2:]:\n",
    "        r = f(r,data)\n",
    "    return r\n",
    "print(my_reduce(add, [1,2,3,4]) )"
   ]
  },
  {
   "cell_type": "code",
   "execution_count": 31,
   "metadata": {},
   "outputs": [
    {
     "name": "stdout",
     "output_type": "stream",
     "text": [
      "[1, 2, 3, 4, 5]\n",
      "<filter object at 0x000000000632C828>\n",
      "[2, 4]\n",
      "[False, True, False, True, False]\n"
     ]
    }
   ],
   "source": [
    "a = list(range(1,6) )\n",
    "print(a)\n",
    "def is_even(x):\n",
    "    return x%2 == 0\n",
    "f = filter(is_even,a)\n",
    "print(f)\n",
    "print(list(f))\n",
    "print(list(map(is_even,a) ))\n"
   ]
  },
  {
   "cell_type": "code",
   "execution_count": 33,
   "metadata": {},
   "outputs": [
    {
     "name": "stdout",
     "output_type": "stream",
     "text": [
      "Enter num with space1 2 3 4\n",
      "<map object at 0x000000000636FC88>\n",
      "1\n",
      "2\n",
      "3\n",
      "4\n"
     ]
    }
   ],
   "source": [
    "a = map(int, input('Enter num with space').split() )\n",
    "print(a)\n",
    "for data in a:\n",
    "    print(data)"
   ]
  },
  {
   "cell_type": "markdown",
   "metadata": {},
   "source": [
    "# Class_9_work"
   ]
  },
  {
   "cell_type": "code",
   "execution_count": null,
   "metadata": {},
   "outputs": [],
   "source": [
    "#dict {} "
   ]
  },
  {
   "cell_type": "code",
   "execution_count": 5,
   "metadata": {},
   "outputs": [
    {
     "name": "stdout",
     "output_type": "stream",
     "text": [
      "{} <class 'dict'> 0\n",
      "{} <class 'dict'> 0\n"
     ]
    }
   ],
   "source": [
    "d = {}\n",
    "print(d, type(d), len(d))\n",
    "\n",
    "d = dict()\n",
    "print(d, type(d), len(d))\n",
    "\n"
   ]
  },
  {
   "cell_type": "code",
   "execution_count": 12,
   "metadata": {},
   "outputs": [
    {
     "name": "stdout",
     "output_type": "stream",
     "text": [
      "{1: 10, 'str': [10, 20], (1, 2): 'string'} <class 'dict'> 3\n"
     ]
    },
    {
     "ename": "TypeError",
     "evalue": "unhashable type: 'list'",
     "output_type": "error",
     "traceback": [
      "\u001b[1;31m---------------------------------------------------------------------------\u001b[0m",
      "\u001b[1;31mTypeError\u001b[0m                                 Traceback (most recent call last)",
      "\u001b[1;32m<ipython-input-12-5933c3aebb5b>\u001b[0m in \u001b[0;36m<module>\u001b[1;34m\u001b[0m\n\u001b[0;32m      2\u001b[0m \u001b[0mprint\u001b[0m\u001b[1;33m(\u001b[0m\u001b[0md\u001b[0m\u001b[1;33m,\u001b[0m \u001b[0mtype\u001b[0m\u001b[1;33m(\u001b[0m\u001b[0md\u001b[0m\u001b[1;33m)\u001b[0m\u001b[1;33m,\u001b[0m \u001b[0mlen\u001b[0m\u001b[1;33m(\u001b[0m\u001b[0md\u001b[0m\u001b[1;33m)\u001b[0m\u001b[1;33m)\u001b[0m\u001b[1;33m\u001b[0m\u001b[1;33m\u001b[0m\u001b[0m\n\u001b[0;32m      3\u001b[0m \u001b[1;33m\u001b[0m\u001b[0m\n\u001b[1;32m----> 4\u001b[1;33m \u001b[0md\u001b[0m \u001b[1;33m=\u001b[0m \u001b[1;33m{\u001b[0m\u001b[1;33m(\u001b[0m\u001b[1;36m1\u001b[0m\u001b[1;33m,\u001b[0m\u001b[1;36m2\u001b[0m\u001b[1;33m)\u001b[0m\u001b[1;33m:\u001b[0m \u001b[1;34m'string'\u001b[0m\u001b[1;33m,\u001b[0m \u001b[1;33m[\u001b[0m\u001b[1;36m1\u001b[0m\u001b[1;33m,\u001b[0m\u001b[1;36m2\u001b[0m\u001b[1;33m]\u001b[0m\u001b[1;33m:\u001b[0m\u001b[1;36m1000\u001b[0m\u001b[1;33m}\u001b[0m\u001b[1;33m\u001b[0m\u001b[1;33m\u001b[0m\u001b[0m\n\u001b[0m\u001b[0;32m      5\u001b[0m \u001b[0mprint\u001b[0m\u001b[1;33m(\u001b[0m\u001b[0md\u001b[0m\u001b[1;33m,\u001b[0m \u001b[0mtype\u001b[0m\u001b[1;33m(\u001b[0m\u001b[0md\u001b[0m\u001b[1;33m)\u001b[0m\u001b[1;33m,\u001b[0m \u001b[0mlen\u001b[0m\u001b[1;33m(\u001b[0m\u001b[0md\u001b[0m\u001b[1;33m)\u001b[0m\u001b[1;33m)\u001b[0m\u001b[1;33m\u001b[0m\u001b[1;33m\u001b[0m\u001b[0m\n",
      "\u001b[1;31mTypeError\u001b[0m: unhashable type: 'list'"
     ]
    }
   ],
   "source": [
    "d = {1:10, 'str': [10,20],(1,2): 'string'}\n",
    "print(d, type(d), len(d))\n",
    "\n",
    "d = {(1,2): 'string', [1,2]:1000}\n",
    "print(d, type(d), len(d))"
   ]
  },
  {
   "cell_type": "code",
   "execution_count": 14,
   "metadata": {},
   "outputs": [
    {
     "name": "stdout",
     "output_type": "stream",
     "text": [
      "{1: 100, 2: 100, 3: 100}\n",
      "{1: 100, 2: 100}\n"
     ]
    }
   ],
   "source": [
    "d = dict.fromkeys([1,2,3],100)\n",
    "print(d)\n",
    "d = dict.fromkeys([1,2,2],100)\n",
    "print(d)\n"
   ]
  },
  {
   "cell_type": "code",
   "execution_count": 18,
   "metadata": {},
   "outputs": [
    {
     "name": "stdout",
     "output_type": "stream",
     "text": [
      "{10: 'String'}\n",
      "{10: 'String', 20: [10, 20, 30, 40]}\n",
      "String\n",
      "\n",
      "100 key not there\n"
     ]
    }
   ],
   "source": [
    "d = {}\n",
    "d[10] = 'String'\n",
    "print(d)\n",
    "d[20] = [10,20,30,40]\n",
    "print(d)\n",
    "print(d[10])\n",
    "print()\n",
    "\n",
    "if 100 in d:\n",
    "    print(d[100])\n",
    "else:\n",
    "    print('100 key not there')\n"
   ]
  },
  {
   "cell_type": "code",
   "execution_count": 20,
   "metadata": {},
   "outputs": [
    {
     "name": "stdout",
     "output_type": "stream",
     "text": [
      "[99, 36]\n"
     ]
    }
   ],
   "source": [
    "def mul(x,y):\n",
    "    return x*y\n",
    "def add(x,y):\n",
    "    return x+y\n",
    "funcs = [mul,add]\n",
    "for i in range(5,10):\n",
    "    result = list(map(lambda x,y:x(i,i)+(i+i),funcs,funcs))\n",
    "print(result)"
   ]
  },
  {
   "cell_type": "code",
   "execution_count": 22,
   "metadata": {},
   "outputs": [
    {
     "name": "stdout",
     "output_type": "stream",
     "text": [
      "True\n",
      "False\n",
      "{10: 100, 20: 200}\n",
      "{10: 'string', 20: 200}\n",
      "{10: 'string', 20: 200, 40: 'string'}\n",
      "{20: 200, 40: 'string'}\n",
      "string\n"
     ]
    }
   ],
   "source": [
    "d = {10:100,20:200}\n",
    "print(10 in d)\n",
    "print(100 in d)\n",
    "\n",
    "print(d)\n",
    "\n",
    "d[10] = 'string'\n",
    "print(d)\n",
    "\n",
    "d[40] = 'string'\n",
    "print(d)\n",
    "\n",
    "del d[10]\n",
    "print(d)\n",
    "\n",
    "print(d[40])\n",
    "\n",
    "\n"
   ]
  },
  {
   "cell_type": "code",
   "execution_count": 25,
   "metadata": {},
   "outputs": [
    {
     "name": "stdout",
     "output_type": "stream",
     "text": [
      "Enter a String:-123\n",
      "{'1': 1, '2': 1, '3': 1}\n"
     ]
    }
   ],
   "source": [
    "s = input('Enter a String:-')\n",
    "d = {}\n",
    "for c in s:\n",
    "    if c in d:\n",
    "        d[c] = d[c] + 1\n",
    "    else:\n",
    "        d[c] = 1\n",
    "print(d)\n",
    "    "
   ]
  },
  {
   "cell_type": "code",
   "execution_count": 29,
   "metadata": {},
   "outputs": [
    {
     "name": "stdout",
     "output_type": "stream",
     "text": [
      "{'x': 10, 'y': 'abcd'}\n",
      "{'x': 10000, 'y': 'abcd', 10: 100}\n"
     ]
    }
   ],
   "source": [
    "d = dict(x =10, y = 'abcd')\n",
    "print(d)\n",
    "\n",
    "d = dict( [('x',10),('y', 'abcd'),(10,100),('x',10000)] )\n",
    "print(d)"
   ]
  },
  {
   "cell_type": "code",
   "execution_count": 36,
   "metadata": {},
   "outputs": [
    {
     "name": "stdout",
     "output_type": "stream",
     "text": [
      "{'x': 1000, 'y': 'abcd', 10: 100}\n",
      "1000\n",
      "None\n",
      "111\n",
      "1000\n"
     ]
    }
   ],
   "source": [
    "d = dict(   [('x',10),('y','abcd'),(10,100),('x',1000)]  )\n",
    "print(d)\n",
    "print( d.get('x'))\n",
    "print( d.get('z'))\n",
    "print( d.get('z',111))\n",
    "print( d.get('x',111))"
   ]
  },
  {
   "cell_type": "code",
   "execution_count": 37,
   "metadata": {},
   "outputs": [
    {
     "name": "stdout",
     "output_type": "stream",
     "text": [
      "Enter a String:-amresh\n",
      "a occurs 1 times\n",
      "a occurs 1 times\n",
      "m occurs 1 times\n",
      "a occurs 1 times\n",
      "m occurs 1 times\n",
      "r occurs 1 times\n",
      "a occurs 1 times\n",
      "m occurs 1 times\n",
      "r occurs 1 times\n",
      "e occurs 1 times\n",
      "a occurs 1 times\n",
      "m occurs 1 times\n",
      "r occurs 1 times\n",
      "e occurs 1 times\n",
      "s occurs 1 times\n",
      "a occurs 1 times\n",
      "m occurs 1 times\n",
      "r occurs 1 times\n",
      "e occurs 1 times\n",
      "s occurs 1 times\n",
      "h occurs 1 times\n"
     ]
    }
   ],
   "source": [
    "s = input('Enter a String:-')\n",
    "d = {}\n",
    "for c in s:\n",
    "    d[c] = d.get(c,0) + 1\n",
    "    for k in d:\n",
    "        print('{} occurs {} times'.format(k,d[k]) )\n",
    "        "
   ]
  },
  {
   "cell_type": "code",
   "execution_count": 41,
   "metadata": {},
   "outputs": [
    {
     "name": "stdout",
     "output_type": "stream",
     "text": [
      "dict_keys(['a', 'b', 'c'])\n",
      "dict_values([3, 2, 1])\n",
      "dict_items([('a', 3), ('b', 2), ('c', 1)])\n",
      "\n",
      "a\n",
      "b\n",
      "c\n"
     ]
    }
   ],
   "source": [
    "d = {'a':3, 'b':2, 'c':1}\n",
    "print( d.keys() )\n",
    "print( d.values() )\n",
    "print( d.items()  )\n",
    "print()\n",
    "for k in d:\n",
    "    print(k)\n"
   ]
  },
  {
   "cell_type": "code",
   "execution_count": 49,
   "metadata": {},
   "outputs": [
    {
     "name": "stdout",
     "output_type": "stream",
     "text": [
      "1234\n",
      "x =1234y =20\n",
      "x = 1234 ,y = 20, 10.500000, abcd\n",
      "x = 1234 y = 20, 10.5,abcd\n"
     ]
    }
   ],
   "source": [
    "x = int(input())\n",
    "y = 20\n",
    "'x = 10  y = 20'\n",
    "s = 'x =' + str(x) + 'y =' + str(y)\n",
    "print(s)\n",
    "s = 'x = %d ,y = %d, %f, %s'%(x,y,10.5,'abcd')\n",
    "print(s)\n",
    "s = 'x = {} y = {}, {},{}'.format(x,y,10.5,'abcd')\n",
    "print(s)"
   ]
  },
  {
   "cell_type": "code",
   "execution_count": 50,
   "metadata": {},
   "outputs": [
    {
     "name": "stdout",
     "output_type": "stream",
     "text": [
      "Enter a Number:-12345678\n",
      "{8: 1, 7: 1, 6: 1, 5: 1, 4: 1, 3: 1, 2: 1, 1: 1}\n"
     ]
    }
   ],
   "source": [
    "#wap to print a number and count frequency of each digit in that number\n",
    "#1234\n",
    "#1:1\n",
    "#2:1\n",
    "#3:1\n",
    "num = int(input('Enter a Number:-'))\n",
    "d = {}\n",
    "while num > 0:\n",
    "    digit = num % 10\n",
    "    num = num//10\n",
    "    d[digit] = d.get(digit,0) + 1\n",
    "print(d)"
   ]
  },
  {
   "cell_type": "code",
   "execution_count": 52,
   "metadata": {},
   "outputs": [
    {
     "data": {
      "text/plain": [
       "2"
      ]
     },
     "execution_count": 52,
     "metadata": {},
     "output_type": "execute_result"
    }
   ],
   "source": [
    "from functools import reduce\n",
    "s = 'abcd'\n",
    "def add(x,y):\n",
    "    return x+y\n",
    "def f(x):\n",
    "    return x%2 ==1\n",
    "reduce(add, map(f,map(ord,s) ) )\n",
    "reduce(add, map(f,[65,66,67,68] ) )\n",
    "reduce(add, [True,False,True] )\n"
   ]
  },
  {
   "cell_type": "code",
   "execution_count": 57,
   "metadata": {},
   "outputs": [
    {
     "name": "stdout",
     "output_type": "stream",
     "text": [
      "10\n",
      "9\n",
      "4\n",
      "900\n",
      "512000000000\n",
      "8000\n"
     ]
    }
   ],
   "source": [
    "#lambda (function)\n",
    "f1 = lambda :10\n",
    "f2 = lambda x: x**2\n",
    "f3 = lambda x,y = 9: x **y\n",
    "print( f1() )\n",
    "print( f2(3) )\n",
    "print( f2(2))\n",
    "print( f2(30))\n",
    "print( f3(20))\n",
    "print( f3(20,3))"
   ]
  },
  {
   "cell_type": "code",
   "execution_count": 9,
   "metadata": {},
   "outputs": [
    {
     "name": "stdout",
     "output_type": "stream",
     "text": [
      "(<function <lambda> at 0x000000000638D7B8>, <function <lambda> at 0x000000000638D158>) <class 'tuple'>\n"
     ]
    }
   ],
   "source": [
    "from functools import reduce\n",
    "s = 'abcd'\n",
    "\n",
    "r= reduce( lambda x,y:x + y, map(lambda x:x% 2 == 1,map(ord, s )) )\n",
    "\n",
    "r = lambda x: x**2,lambda x,y:x**y\n",
    "print(r,type(r))"
   ]
  },
  {
   "cell_type": "code",
   "execution_count": 10,
   "metadata": {},
   "outputs": [
    {
     "name": "stdout",
     "output_type": "stream",
     "text": [
      "[90, 91, 45, 56, 78]\n",
      "['Kumar', 'Singh', 'Amresh']\n",
      "['Amresh', 'Kumar', 'Singh']\n",
      "['Amresh', 'Singh', 'Kumar']\n"
     ]
    }
   ],
   "source": [
    "a = [91,45,56,78,90]\n",
    "#    1   5  6  8  0\n",
    "a.sort(key = lambda x: x%10)\n",
    "print(a)\n",
    "\n",
    "a = ['Amresh','Kumar','Singh']\n",
    "#       h        r       h\n",
    "\n",
    "a.sort(key = len)\n",
    "print(a)\n",
    "a.sort()\n",
    "print(a)\n",
    "a.sort(key = lambda x:x[-1])\n",
    "print(a)"
   ]
  },
  {
   "cell_type": "code",
   "execution_count": 11,
   "metadata": {},
   "outputs": [
    {
     "name": "stdout",
     "output_type": "stream",
     "text": [
      "100\n",
      "100\n"
     ]
    }
   ],
   "source": [
    "f = lambda :(lambda x:x**2,lambda x: x**3)\n",
    "print(f()[0](10))\n",
    "\n",
    "print( (lambda x:x**2,lambda x:x**3)[0](10))"
   ]
  },
  {
   "cell_type": "code",
   "execution_count": 18,
   "metadata": {},
   "outputs": [
    {
     "name": "stdout",
     "output_type": "stream",
     "text": [
      "100\n",
      "1000\n"
     ]
    }
   ],
   "source": [
    "f = lambda i,data:(lambda x:x**2,lambda x:x**3)[i](data)\n",
    "print(f(0,10))\n",
    "print(f(1,10))"
   ]
  },
  {
   "cell_type": "markdown",
   "metadata": {},
   "source": [
    "# Class_10_work(Numpy)"
   ]
  },
  {
   "cell_type": "code",
   "execution_count": 19,
   "metadata": {},
   "outputs": [],
   "source": [
    "import numpy as np"
   ]
  },
  {
   "cell_type": "code",
   "execution_count": 20,
   "metadata": {},
   "outputs": [
    {
     "name": "stdout",
     "output_type": "stream",
     "text": [
      "['ALLOW_THREADS', 'AxisError', 'BUFSIZE', 'CLIP', 'ComplexWarning', 'DataSource', 'ERR_CALL', 'ERR_DEFAULT', 'ERR_IGNORE', 'ERR_LOG', 'ERR_PRINT', 'ERR_RAISE', 'ERR_WARN', 'FLOATING_POINT_SUPPORT', 'FPE_DIVIDEBYZERO', 'FPE_INVALID', 'FPE_OVERFLOW', 'FPE_UNDERFLOW', 'False_', 'Inf', 'Infinity', 'MAXDIMS', 'MAY_SHARE_BOUNDS', 'MAY_SHARE_EXACT', 'MachAr', 'ModuleDeprecationWarning', 'NAN', 'NINF', 'NZERO', 'NaN', 'PINF', 'PZERO', 'RAISE', 'RankWarning', 'SHIFT_DIVIDEBYZERO', 'SHIFT_INVALID', 'SHIFT_OVERFLOW', 'SHIFT_UNDERFLOW', 'ScalarType', 'Tester', 'TooHardError', 'True_', 'UFUNC_BUFSIZE_DEFAULT', 'UFUNC_PYVALS_NAME', 'VisibleDeprecationWarning', 'WRAP', '_NoValue', '_UFUNC_API', '__NUMPY_SETUP__', '__all__', '__builtins__', '__cached__', '__config__', '__doc__', '__file__', '__git_revision__', '__loader__', '__mkl_version__', '__name__', '__package__', '__path__', '__spec__', '__version__', '_add_newdoc_ufunc', '_arg', '_distributor_init', '_globals', '_mat', '_mklinit', '_pytesttester', 'abs', 'absolute', 'absolute_import', 'add', 'add_docstring', 'add_newdoc', 'add_newdoc_ufunc', 'alen', 'all', 'allclose', 'alltrue', 'amax', 'amin', 'angle', 'any', 'append', 'apply_along_axis', 'apply_over_axes', 'arange', 'arccos', 'arccosh', 'arcsin', 'arcsinh', 'arctan', 'arctan2', 'arctanh', 'argmax', 'argmin', 'argpartition', 'argsort', 'argwhere', 'around', 'array', 'array2string', 'array_equal', 'array_equiv', 'array_repr', 'array_split', 'array_str', 'asanyarray', 'asarray', 'asarray_chkfinite', 'ascontiguousarray', 'asfarray', 'asfortranarray', 'asmatrix', 'asscalar', 'atleast_1d', 'atleast_2d', 'atleast_3d', 'average', 'bartlett', 'base_repr', 'binary_repr', 'bincount', 'bitwise_and', 'bitwise_not', 'bitwise_or', 'bitwise_xor', 'blackman', 'block', 'bmat', 'bool', 'bool8', 'bool_', 'broadcast', 'broadcast_arrays', 'broadcast_to', 'busday_count', 'busday_offset', 'busdaycalendar', 'byte', 'byte_bounds', 'bytes0', 'bytes_', 'c_', 'can_cast', 'cast', 'cbrt', 'cdouble', 'ceil', 'cfloat', 'char', 'character', 'chararray', 'choose', 'clip', 'clongdouble', 'clongfloat', 'column_stack', 'common_type', 'compare_chararrays', 'compat', 'complex', 'complex128', 'complex64', 'complex_', 'complexfloating', 'compress', 'concatenate', 'conj', 'conjugate', 'convolve', 'copy', 'copysign', 'copyto', 'core', 'corrcoef', 'correlate', 'cos', 'cosh', 'count_nonzero', 'cov', 'cross', 'csingle', 'ctypeslib', 'cumprod', 'cumproduct', 'cumsum', 'datetime64', 'datetime_as_string', 'datetime_data', 'deg2rad', 'degrees', 'delete', 'deprecate', 'deprecate_with_doc', 'diag', 'diag_indices', 'diag_indices_from', 'diagflat', 'diagonal', 'diff', 'digitize', 'disp', 'divide', 'division', 'divmod', 'dot', 'double', 'dsplit', 'dstack', 'dtype', 'e', 'ediff1d', 'einsum', 'einsum_path', 'emath', 'empty', 'empty_like', 'equal', 'errstate', 'euler_gamma', 'exp', 'exp2', 'expand_dims', 'expm1', 'extract', 'eye', 'fabs', 'fastCopyAndTranspose', 'fft', 'fill_diagonal', 'find_common_type', 'finfo', 'fix', 'flatiter', 'flatnonzero', 'flexible', 'flip', 'fliplr', 'flipud', 'float', 'float16', 'float32', 'float64', 'float_', 'float_power', 'floating', 'floor', 'floor_divide', 'fmax', 'fmin', 'fmod', 'format_float_positional', 'format_float_scientific', 'format_parser', 'frexp', 'frombuffer', 'fromfile', 'fromfunction', 'fromiter', 'frompyfunc', 'fromregex', 'fromstring', 'full', 'full_like', 'fv', 'gcd', 'generic', 'genfromtxt', 'geomspace', 'get_array_wrap', 'get_include', 'get_printoptions', 'getbufsize', 'geterr', 'geterrcall', 'geterrobj', 'gradient', 'greater', 'greater_equal', 'half', 'hamming', 'hanning', 'heaviside', 'histogram', 'histogram2d', 'histogram_bin_edges', 'histogramdd', 'hsplit', 'hstack', 'hypot', 'i0', 'identity', 'iinfo', 'imag', 'in1d', 'index_exp', 'indices', 'inexact', 'inf', 'info', 'infty', 'inner', 'insert', 'int', 'int0', 'int16', 'int32', 'int64', 'int8', 'int_', 'int_asbuffer', 'intc', 'integer', 'interp', 'intersect1d', 'intp', 'invert', 'ipmt', 'irr', 'is_busday', 'isclose', 'iscomplex', 'iscomplexobj', 'isfinite', 'isfortran', 'isin', 'isinf', 'isnan', 'isnat', 'isneginf', 'isposinf', 'isreal', 'isrealobj', 'isscalar', 'issctype', 'issubclass_', 'issubdtype', 'issubsctype', 'iterable', 'ix_', 'kaiser', 'kron', 'lcm', 'ldexp', 'left_shift', 'less', 'less_equal', 'lexsort', 'lib', 'linalg', 'linspace', 'little_endian', 'load', 'loads', 'loadtxt', 'log', 'log10', 'log1p', 'log2', 'logaddexp', 'logaddexp2', 'logical_and', 'logical_not', 'logical_or', 'logical_xor', 'logspace', 'long', 'longcomplex', 'longdouble', 'longfloat', 'longlong', 'lookfor', 'ma', 'mafromtxt', 'mask_indices', 'mat', 'math', 'matmul', 'matrix', 'matrixlib', 'max', 'maximum', 'maximum_sctype', 'may_share_memory', 'mean', 'median', 'memmap', 'meshgrid', 'mgrid', 'min', 'min_scalar_type', 'minimum', 'mintypecode', 'mirr', 'mod', 'modf', 'moveaxis', 'msort', 'multiply', 'nan', 'nan_to_num', 'nanargmax', 'nanargmin', 'nancumprod', 'nancumsum', 'nanmax', 'nanmean', 'nanmedian', 'nanmin', 'nanpercentile', 'nanprod', 'nanquantile', 'nanstd', 'nansum', 'nanvar', 'nbytes', 'ndarray', 'ndenumerate', 'ndfromtxt', 'ndim', 'ndindex', 'nditer', 'negative', 'nested_iters', 'newaxis', 'nextafter', 'nonzero', 'not_equal', 'nper', 'npv', 'numarray', 'number', 'obj2sctype', 'object', 'object0', 'object_', 'ogrid', 'oldnumeric', 'ones', 'ones_like', 'outer', 'packbits', 'pad', 'partition', 'percentile', 'pi', 'piecewise', 'place', 'pmt', 'poly', 'poly1d', 'polyadd', 'polyder', 'polydiv', 'polyfit', 'polyint', 'polymul', 'polynomial', 'polysub', 'polyval', 'positive', 'power', 'ppmt', 'print_function', 'printoptions', 'prod', 'product', 'promote_types', 'ptp', 'put', 'put_along_axis', 'putmask', 'pv', 'quantile', 'r_', 'rad2deg', 'radians', 'random', 'rank', 'rate', 'ravel', 'ravel_multi_index', 'real', 'real_if_close', 'rec', 'recarray', 'recfromcsv', 'recfromtxt', 'reciprocal', 'record', 'remainder', 'repeat', 'require', 'reshape', 'resize', 'result_type', 'right_shift', 'rint', 'roll', 'rollaxis', 'roots', 'rot90', 'round', 'round_', 'row_stack', 's_', 'safe_eval', 'save', 'savetxt', 'savez', 'savez_compressed', 'sctype2char', 'sctypeDict', 'sctypeNA', 'sctypes', 'searchsorted', 'select', 'set_numeric_ops', 'set_printoptions', 'set_string_function', 'setbufsize', 'setdiff1d', 'seterr', 'seterrcall', 'seterrobj', 'setxor1d', 'shape', 'shares_memory', 'short', 'show_config', 'sign', 'signbit', 'signedinteger', 'sin', 'sinc', 'single', 'singlecomplex', 'sinh', 'size', 'sometrue', 'sort', 'sort_complex', 'source', 'spacing', 'split', 'sqrt', 'square', 'squeeze', 'stack', 'std', 'str', 'str0', 'str_', 'string_', 'subtract', 'sum', 'swapaxes', 'sys', 'take', 'take_along_axis', 'tan', 'tanh', 'tensordot', 'test', 'testing', 'tile', 'timedelta64', 'trace', 'tracemalloc_domain', 'transpose', 'trapz', 'tri', 'tril', 'tril_indices', 'tril_indices_from', 'trim_zeros', 'triu', 'triu_indices', 'triu_indices_from', 'true_divide', 'trunc', 'typeDict', 'typeNA', 'typecodes', 'typename', 'ubyte', 'ufunc', 'uint', 'uint0', 'uint16', 'uint32', 'uint64', 'uint8', 'uintc', 'uintp', 'ulonglong', 'unicode', 'unicode_', 'union1d', 'unique', 'unpackbits', 'unravel_index', 'unsignedinteger', 'unwrap', 'ushort', 'vander', 'var', 'vdot', 'vectorize', 'version', 'void', 'void0', 'vsplit', 'vstack', 'warnings', 'where', 'who', 'zeros', 'zeros_like']\n"
     ]
    }
   ],
   "source": [
    "print(dir(np))"
   ]
  },
  {
   "cell_type": "code",
   "execution_count": 25,
   "metadata": {},
   "outputs": [
    {
     "name": "stdout",
     "output_type": "stream",
     "text": [
      "[1.  2.  3.  4.5] <class 'numpy.ndarray'>\n",
      "float64\n",
      "(4,)\n",
      "size 4\n",
      "itmesize 8\n",
      " 1\n"
     ]
    }
   ],
   "source": [
    "a = np.array([1,2,3,4.5])\n",
    "\n",
    "print(a,type(a))\n",
    "print(a.dtype)\n",
    "print(a.shape)\n",
    "print('size',a.size)\n",
    "print('itmesize',a.itemsize)\n",
    "print('',a.ndim)\n"
   ]
  },
  {
   "cell_type": "code",
   "execution_count": 26,
   "metadata": {},
   "outputs": [
    {
     "name": "stdout",
     "output_type": "stream",
     "text": [
      "[ 0  1  2  3  4  5  6  7  8  9 10 11 12 13 14 15] int32\n",
      "\n",
      "[[   1    2    3 4000]] int32\n",
      "itemsize 4 (1, 4)\n"
     ]
    }
   ],
   "source": [
    "a =np.array(range(16))\n",
    "print(a,a.dtype)\n",
    "print()\n",
    "\n",
    "a = np.array([1,2,3,4000],ndmin=2)\n",
    "print(a,a.dtype)\n",
    "\n",
    "print('itemsize',a.itemsize,a.shape)\n"
   ]
  },
  {
   "cell_type": "code",
   "execution_count": 28,
   "metadata": {},
   "outputs": [
    {
     "name": "stdout",
     "output_type": "stream",
     "text": [
      "[10 11 12 13 14 15 16 17 18]\n",
      "[10 11 12 13 14 15 16 17 18]\n",
      "[[10 11 12]\n",
      " [13 14 15]\n",
      " [16 17 18]]\n",
      "[10 12 14 16 18] 14.0 10 18 70\n",
      "[[1 2]\n",
      " [3 4]]\n"
     ]
    }
   ],
   "source": [
    "a = np.arange(10,19)\n",
    "print(a)\n",
    "\n",
    "a1 = a.reshape(3,3)\n",
    "print(a)\n",
    "print(a1)\n",
    "a = np.arange(10,19,2)\n",
    "print(a,a.mean(),a.min(),a.max(),a.sum())\n",
    "\n",
    "a = np.array([[1,2],[3,4]])\n",
    "print(a)\n"
   ]
  },
  {
   "cell_type": "code",
   "execution_count": 30,
   "metadata": {},
   "outputs": [
    {
     "name": "stdout",
     "output_type": "stream",
     "text": [
      "[[ 0  1  2  3  4  5]\n",
      " [ 6  7  8  9 10 11]\n",
      " [12 13 14 15 16 17]\n",
      " [18 19 20 21 22 23]] int32\n",
      "0 23\n",
      "[0 1 2 3 4 5] [18 19 20 21 22 23]\n",
      "[ 0  6 12 18] [ 5 11 17 23]\n"
     ]
    }
   ],
   "source": [
    "a = np.arange(0,24, dtype='i4').reshape(4,6)\n",
    "print(a, a.dtype)\n",
    "\n",
    "print(a.min(),a.max())\n",
    "print(a.min(axis = 0),a.max(axis = 0))\n",
    "print(a.min(axis = 1),a.max(axis =1))\n"
   ]
  },
  {
   "cell_type": "code",
   "execution_count": 31,
   "metadata": {},
   "outputs": [
    {
     "name": "stdout",
     "output_type": "stream",
     "text": [
      "[[18 10 10 11 15 11 18 10 11 19]\n",
      " [16 10 12 13 13 19 10 16 19 12]\n",
      " [14 14 14 15 16 11 12 18 18 10]\n",
      " [12 19 15 14 19 11 15 18 16 16]\n",
      " [15 14 13 15 12 12 14 17 17 14]\n",
      " [12 16 12 14 13 13 10 17 17 16]\n",
      " [11 14 17 15 11 14 13 16 12 15]\n",
      " [16 10 11 17 18 10 15 12 13 11]\n",
      " [12 12 15 16 14 11 18 11 10 10]\n",
      " [11 18 11 12 11 10 13 12 17 12]]\n"
     ]
    }
   ],
   "source": [
    "a = np.random.randint(10,20,100).reshape(10,10)\n",
    "print(a)\n"
   ]
  },
  {
   "cell_type": "code",
   "execution_count": 34,
   "metadata": {},
   "outputs": [
    {
     "name": "stdout",
     "output_type": "stream",
     "text": [
      "[10 20 30 40 50 60 70 80 90]\n",
      "[[10 20 30 40]\n",
      " [50 60 70 80]] None\n",
      "[10 20 30 40 50 60 70 80  0  0  0  0  0  0  0  0  0  0  0  0]\n",
      "[0 0 0 0 0 0 0 0 0 0]\n"
     ]
    }
   ],
   "source": [
    "a = np.arange(10,100,10)\n",
    "print(a)\n",
    "\n",
    "r = a.resize(2,4)\n",
    "print(a,r)\n",
    "\n",
    "a.resize(20)\n",
    "print(a)\n",
    "\n",
    "a = np.zeros(10, dtype = 'int8')\n",
    "print(a)"
   ]
  },
  {
   "cell_type": "code",
   "execution_count": 35,
   "metadata": {},
   "outputs": [
    {
     "name": "stdout",
     "output_type": "stream",
     "text": [
      "[[ 0  1  2]\n",
      " [ 3  4  5]\n",
      " [ 6  7  8]\n",
      " [ 9 10 11]]\n",
      "\n",
      "[3 4 5]\n",
      "2\n",
      "\n",
      "[[3 4 5]\n",
      " [6 7 8]]\n",
      "[[4 5]\n",
      " [7 8]]\n",
      "[10 10 11 11 12 12 13 13 14 14 15 15 16 16 17 17 18 18 19 20]\n"
     ]
    }
   ],
   "source": [
    "#indexing and slicing\n",
    "a = np.arange(12).reshape(4,3)\n",
    "print(a)\n",
    "\n",
    "print()\n",
    "print(a[1])\n",
    "print(a[0,2])\n",
    "print()\n",
    "\n",
    "print(a[1:3])\n",
    "print(a[1:3,1:])\n",
    "print(np.linspace(10,20,20,dtype ='int8'))\n"
   ]
  },
  {
   "cell_type": "code",
   "execution_count": 40,
   "metadata": {},
   "outputs": [
    {
     "name": "stdout",
     "output_type": "stream",
     "text": [
      "[[ 0  1  2]\n",
      " [ 3  4  5]\n",
      " [ 6  7  8]\n",
      " [ 9 10 11]]\n",
      "\n",
      "[[0 1 2]\n",
      " [3 4 5]\n",
      " [6 7 8]]\n",
      "\n",
      "[]\n"
     ]
    }
   ],
   "source": [
    "a = np. arange(12).reshape(4,3)\n",
    "print(a)\n",
    "print()\n",
    "print(a[(0,1,2), ])\n",
    "print()\n",
    "print(a[True,False,False,True],)\n"
   ]
  },
  {
   "cell_type": "code",
   "execution_count": 43,
   "metadata": {},
   "outputs": [
    {
     "name": "stdout",
     "output_type": "stream",
     "text": [
      "[10 11 12 13 14 15 16 17 18 19] [20 19 18 17 16 15 14 13 12 11]\n",
      "[20 22 24 26 28 30 32 34 36 38]\n",
      "[200 209 216 221 224 225 224 221 216 209]\n",
      "\n",
      "[ True False  True False  True  True  True False  True False]\n",
      "[10 12 14 15 16 18]\n",
      "\n",
      "[False False False False False  True False False False False]\n",
      "[15]\n"
     ]
    }
   ],
   "source": [
    "a = np.arange(10,20)\n",
    "a2 = np.arange(20,10,-1)\n",
    "print(a,a2)\n",
    "print(a*2)\n",
    "print(a*a2)\n",
    "\n",
    "print()\n",
    "res =(a % 2 == 0) | (a%5 == 0)\n",
    "print(res)\n",
    "print(a[res])\n",
    "\n",
    "print()\n",
    "res =(a % 3 == 0) & (a%5 == 0)\n",
    "print(res)\n",
    "print(a[res])"
   ]
  },
  {
   "cell_type": "code",
   "execution_count": 45,
   "metadata": {},
   "outputs": [
    {
     "name": "stdout",
     "output_type": "stream",
     "text": [
      "False\n",
      "False\n",
      "False\n",
      "False\n",
      "[10. 10. nan] nan nan\n"
     ]
    }
   ],
   "source": [
    "print(np.nan<0)\n",
    "print(np.nan>0)\n",
    "print(np.nan == 0)\n",
    "print(np.nan == np.nan)\n",
    "\n",
    "a = np.array([10,10,np.nan])\n",
    "print(a,a.sum(),a.mean())\n"
   ]
  },
  {
   "cell_type": "code",
   "execution_count": 47,
   "metadata": {},
   "outputs": [
    {
     "name": "stdout",
     "output_type": "stream",
     "text": [
      "[10. 11. 12. nan 14. 15. 16. 17. 18. 19.]\n",
      "[ True False  True False False  True False False  True False]\n",
      "True\n",
      "False\n",
      "[False False False  True False False False False False False]\n",
      "1\n"
     ]
    },
    {
     "name": "stderr",
     "output_type": "stream",
     "text": [
      "C:\\Users\\AMRESH SINGH\\Anaconda3\\lib\\site-packages\\ipykernel_launcher.py:4: RuntimeWarning: invalid value encountered in remainder\n",
      "  after removing the cwd from sys.path.\n"
     ]
    }
   ],
   "source": [
    "a = np.arange(10,20,dtype=np.float64)\n",
    "a[3] = np.nan\n",
    "print(a)\n",
    "res =(a%3==0)|(a%5==0)\n",
    "\n",
    "print(res)\n",
    "print(res.any())\n",
    "print(res.all())\n",
    "print(np.isnan(a))\n",
    "print(np.isnan(a).sum())"
   ]
  },
  {
   "cell_type": "code",
   "execution_count": 48,
   "metadata": {},
   "outputs": [
    {
     "name": "stdout",
     "output_type": "stream",
     "text": [
      "[10. 11. 12. nan 14. 15. 16. 17. 18. 19.]\n",
      "[ True False  True False False  True False False  True False]\n",
      "(array([0, 2, 5, 8], dtype=int64),)\n"
     ]
    },
    {
     "name": "stderr",
     "output_type": "stream",
     "text": [
      "C:\\Users\\AMRESH SINGH\\Anaconda3\\lib\\site-packages\\ipykernel_launcher.py:5: RuntimeWarning: invalid value encountered in remainder\n",
      "  \"\"\"\n"
     ]
    }
   ],
   "source": [
    "a = np.arange(10,20, dtype=np.float64)\n",
    "a[3] = np.nan\n",
    "print(a)\n",
    "\n",
    "res =(a%3 ==0) | (a%5==0)\n",
    "print(res)\n",
    "print(np.where(res))"
   ]
  },
  {
   "cell_type": "markdown",
   "metadata": {},
   "source": [
    "# Class_work_11\n"
   ]
  },
  {
   "cell_type": "markdown",
   "metadata": {},
   "source": [
    "# Pandas"
   ]
  },
  {
   "cell_type": "code",
   "execution_count": 1,
   "metadata": {},
   "outputs": [],
   "source": [
    "import pandas as pd\n",
    "import numpy as np\n"
   ]
  },
  {
   "cell_type": "code",
   "execution_count": 2,
   "metadata": {},
   "outputs": [
    {
     "name": "stdout",
     "output_type": "stream",
     "text": [
      "['Categorical', 'CategoricalDtype', 'CategoricalIndex', 'DataFrame', 'DateOffset', 'DatetimeIndex', 'DatetimeTZDtype', 'ExcelFile', 'ExcelWriter', 'Float64Index', 'Grouper', 'HDFStore', 'Index', 'IndexSlice', 'Int16Dtype', 'Int32Dtype', 'Int64Dtype', 'Int64Index', 'Int8Dtype', 'Interval', 'IntervalDtype', 'IntervalIndex', 'MultiIndex', 'NaT', 'Panel', 'Period', 'PeriodDtype', 'PeriodIndex', 'RangeIndex', 'Series', 'SparseArray', 'SparseDataFrame', 'SparseDtype', 'SparseSeries', 'TimeGrouper', 'Timedelta', 'TimedeltaIndex', 'Timestamp', 'UInt16Dtype', 'UInt32Dtype', 'UInt64Dtype', 'UInt64Index', 'UInt8Dtype', '__builtins__', '__cached__', '__doc__', '__docformat__', '__file__', '__git_version__', '__loader__', '__name__', '__package__', '__path__', '__spec__', '__version__', '_hashtable', '_lib', '_libs', '_np_version_under1p13', '_np_version_under1p14', '_np_version_under1p15', '_np_version_under1p16', '_np_version_under1p17', '_tslib', '_version', 'api', 'array', 'arrays', 'bdate_range', 'compat', 'concat', 'core', 'crosstab', 'cut', 'date_range', 'datetime', 'describe_option', 'errors', 'eval', 'factorize', 'get_dummies', 'get_option', 'infer_freq', 'interval_range', 'io', 'isna', 'isnull', 'lreshape', 'melt', 'merge', 'merge_asof', 'merge_ordered', 'notna', 'notnull', 'np', 'offsets', 'option_context', 'options', 'pandas', 'period_range', 'pivot', 'pivot_table', 'plotting', 'qcut', 'read_clipboard', 'read_csv', 'read_excel', 'read_feather', 'read_fwf', 'read_gbq', 'read_hdf', 'read_html', 'read_json', 'read_msgpack', 'read_parquet', 'read_pickle', 'read_sas', 'read_sql', 'read_sql_query', 'read_sql_table', 'read_stata', 'read_table', 'reset_option', 'set_eng_float_format', 'set_option', 'show_versions', 'test', 'testing', 'timedelta_range', 'to_datetime', 'to_msgpack', 'to_numeric', 'to_pickle', 'to_timedelta', 'tseries', 'unique', 'util', 'value_counts', 'wide_to_long']\n"
     ]
    }
   ],
   "source": [
    "print(dir(pd))"
   ]
  },
  {
   "cell_type": "code",
   "execution_count": 10,
   "metadata": {},
   "outputs": [
    {
     "name": "stdout",
     "output_type": "stream",
     "text": [
      "a    10.0\n",
      "b    11.0\n",
      "c    12.0\n",
      "d    13.0\n",
      "e    14.0\n",
      "dtype: float32\n",
      "float32\n",
      "4\n",
      "5\n",
      "(5,)\n",
      "60.0\n",
      "a    100.0\n",
      "b    110.0\n",
      "c    120.0\n",
      "d    130.0\n",
      "e    140.0\n",
      "dtype: float32\n",
      "['T', '_AXIS_ALIASES', '_AXIS_IALIASES', '_AXIS_LEN', '_AXIS_NAMES', '_AXIS_NUMBERS', '_AXIS_ORDERS', '_AXIS_REVERSED', '_AXIS_SLICEMAP', '__abs__', '__add__', '__and__', '__array__', '__array_prepare__', '__array_priority__', '__array_wrap__', '__bool__', '__bytes__', '__class__', '__contains__', '__copy__', '__deepcopy__', '__delattr__', '__delitem__', '__dict__', '__dir__', '__div__', '__divmod__', '__doc__', '__eq__', '__finalize__', '__float__', '__floordiv__', '__format__', '__ge__', '__getattr__', '__getattribute__', '__getitem__', '__getstate__', '__gt__', '__hash__', '__iadd__', '__iand__', '__ifloordiv__', '__imod__', '__imul__', '__init__', '__init_subclass__', '__int__', '__invert__', '__ior__', '__ipow__', '__isub__', '__iter__', '__itruediv__', '__ixor__', '__le__', '__len__', '__long__', '__lt__', '__matmul__', '__mod__', '__module__', '__mul__', '__ne__', '__neg__', '__new__', '__nonzero__', '__or__', '__pos__', '__pow__', '__radd__', '__rand__', '__rdiv__', '__rdivmod__', '__reduce__', '__reduce_ex__', '__repr__', '__rfloordiv__', '__rmatmul__', '__rmod__', '__rmul__', '__ror__', '__round__', '__rpow__', '__rsub__', '__rtruediv__', '__rxor__', '__setattr__', '__setitem__', '__setstate__', '__sizeof__', '__str__', '__sub__', '__subclasshook__', '__truediv__', '__unicode__', '__weakref__', '__xor__', '_accessors', '_add_numeric_operations', '_add_series_only_operations', '_add_series_or_dataframe_operations', '_agg_by_level', '_agg_examples_doc', '_agg_see_also_doc', '_aggregate', '_aggregate_multiple_funcs', '_align_frame', '_align_series', '_binop', '_box_item_values', '_builtin_table', '_can_hold_na', '_check_inplace_setting', '_check_is_chained_assignment_possible', '_check_label_or_level_ambiguity', '_check_percentile', '_check_setitem_copy', '_clear_item_cache', '_clip_with_one_bound', '_clip_with_scalar', '_consolidate', '_consolidate_inplace', '_construct_axes_dict', '_construct_axes_dict_for_slice', '_construct_axes_dict_from', '_construct_axes_from_arguments', '_constructor', '_constructor_expanddim', '_constructor_sliced', '_convert', '_create_indexer', '_cython_table', '_deprecations', '_dir_additions', '_dir_deletions', '_drop_axis', '_drop_labels_or_levels', '_expand_axes', '_find_valid_index', '_formatting_values', '_from_axes', '_get_axis', '_get_axis_name', '_get_axis_number', '_get_axis_resolvers', '_get_block_manager_axis', '_get_bool_data', '_get_cacher', '_get_index_resolvers', '_get_item_cache', '_get_label_or_level_values', '_get_numeric_data', '_get_value', '_get_values', '_get_values_tuple', '_get_with', '_gotitem', '_iget_item_cache', '_index', '_indexed_same', '_info_axis', '_info_axis_name', '_info_axis_number', '_init_dict', '_init_mgr', '_internal_names', '_internal_names_set', '_is_builtin_func', '_is_cached', '_is_copy', '_is_cython_func', '_is_datelike_mixed_type', '_is_homogeneous_type', '_is_label_or_level_reference', '_is_label_reference', '_is_level_reference', '_is_mixed_type', '_is_numeric_mixed_type', '_is_view', '_ix', '_ixs', '_map_values', '_maybe_cache_changed', '_maybe_update_cacher', '_metadata', '_ndarray_values', '_needs_reindex_multi', '_obj_with_exclusions', '_protect_consolidate', '_reduce', '_reindex_axes', '_reindex_indexer', '_reindex_multi', '_reindex_with_indexers', '_repr_data_resource_', '_repr_latex_', '_reset_cache', '_reset_cacher', '_selected_obj', '_selection', '_selection_list', '_selection_name', '_set_as_cached', '_set_axis', '_set_axis_name', '_set_is_copy', '_set_item', '_set_labels', '_set_name', '_set_subtyp', '_set_value', '_set_values', '_set_with', '_set_with_engine', '_setup_axes', '_shallow_copy', '_slice', '_stat_axis', '_stat_axis_name', '_stat_axis_number', '_take', '_to_dict_of_blocks', '_try_aggregate_string_function', '_typ', '_unpickle_series_compat', '_update_inplace', '_validate_dtype', '_values', '_where', '_xs', 'a', 'abs', 'add', 'add_prefix', 'add_suffix', 'agg', 'aggregate', 'align', 'all', 'any', 'append', 'apply', 'argmax', 'argmin', 'argsort', 'array', 'as_matrix', 'asfreq', 'asof', 'astype', 'at', 'at_time', 'autocorr', 'axes', 'b', 'base', 'between', 'between_time', 'bfill', 'bool', 'c', 'clip', 'clip_lower', 'clip_upper', 'combine', 'combine_first', 'compound', 'compress', 'copy', 'corr', 'count', 'cov', 'cummax', 'cummin', 'cumprod', 'cumsum', 'd', 'data', 'describe', 'diff', 'div', 'divide', 'divmod', 'dot', 'drop', 'drop_duplicates', 'droplevel', 'dropna', 'dtype', 'dtypes', 'duplicated', 'e', 'empty', 'eq', 'equals', 'ewm', 'expanding', 'factorize', 'ffill', 'fillna', 'filter', 'first', 'first_valid_index', 'flags', 'floordiv', 'from_array', 'ftype', 'ftypes', 'ge', 'get', 'get_dtype_counts', 'get_ftype_counts', 'get_values', 'groupby', 'gt', 'hasnans', 'head', 'hist', 'iat', 'idxmax', 'idxmin', 'iloc', 'imag', 'index', 'infer_objects', 'interpolate', 'is_monotonic', 'is_monotonic_decreasing', 'is_monotonic_increasing', 'is_unique', 'isin', 'isna', 'isnull', 'item', 'items', 'itemsize', 'iteritems', 'ix', 'keys', 'kurt', 'kurtosis', 'last', 'last_valid_index', 'le', 'loc', 'lt', 'mad', 'map', 'mask', 'max', 'mean', 'median', 'memory_usage', 'min', 'mod', 'mode', 'mul', 'multiply', 'name', 'nbytes', 'ndim', 'ne', 'nlargest', 'nonzero', 'notna', 'notnull', 'nsmallest', 'nunique', 'pct_change', 'pipe', 'plot', 'pop', 'pow', 'prod', 'product', 'ptp', 'put', 'quantile', 'radd', 'rank', 'ravel', 'rdiv', 'rdivmod', 'real', 'reindex', 'reindex_axis', 'reindex_like', 'rename', 'rename_axis', 'reorder_levels', 'repeat', 'replace', 'resample', 'reset_index', 'rfloordiv', 'rmod', 'rmul', 'rolling', 'round', 'rpow', 'rsub', 'rtruediv', 'sample', 'searchsorted', 'select', 'sem', 'set_axis', 'shape', 'shift', 'size', 'skew', 'slice_shift', 'sort_index', 'sort_values', 'squeeze', 'std', 'strides', 'sub', 'subtract', 'sum', 'swapaxes', 'swaplevel', 'tail', 'take', 'timetuple', 'to_clipboard', 'to_csv', 'to_dense', 'to_dict', 'to_excel', 'to_frame', 'to_hdf', 'to_json', 'to_latex', 'to_list', 'to_msgpack', 'to_numpy', 'to_period', 'to_pickle', 'to_sparse', 'to_sql', 'to_string', 'to_timestamp', 'to_xarray', 'transform', 'transpose', 'truediv', 'truncate', 'tshift', 'tz_convert', 'tz_localize', 'unique', 'unstack', 'update', 'value_counts', 'values', 'var', 'view', 'where', 'xs']\n"
     ]
    },
    {
     "name": "stderr",
     "output_type": "stream",
     "text": [
      "C:\\Users\\AMRESH SINGH\\Anaconda3\\lib\\site-packages\\ipykernel_launcher.py:4: FutureWarning: Series.itemsize is deprecated and will be removed in a future version\n",
      "  after removing the cwd from sys.path.\n"
     ]
    }
   ],
   "source": [
    "s = pd.Series(np.arange(10,15),index = list('abcde'),dtype ='float32')\n",
    "print(s)\n",
    "print(s.dtype)\n",
    "print(s.itemsize)\n",
    "print(s.size)\n",
    "print(s.shape)\n",
    "print(s.sum())\n",
    "print(s*10)\n",
    "print(dir(s))\n"
   ]
  },
  {
   "cell_type": "code",
   "execution_count": 18,
   "metadata": {},
   "outputs": [
    {
     "name": "stdout",
     "output_type": "stream",
     "text": [
      "a    10.0\n",
      "b    11.0\n",
      "c    12.0\n",
      "d    13.0\n",
      "e    14.0\n",
      "dtype: float32\n",
      "\n",
      "b    11.0\n",
      "c    12.0\n",
      "d    13.0\n",
      "e    14.0\n",
      "dtype: float32\n",
      "a    10.0\n",
      "b    11.0\n",
      "c    12.0\n",
      "dtype: float32\n",
      "\n",
      "10.0\n",
      "a    10.0\n",
      "b    11.0\n",
      "c    12.0\n",
      "dtype: float32\n"
     ]
    }
   ],
   "source": [
    "s = pd.Series(np.arange(10,15),index=list('abcde'),dtype = 'float32')\n",
    "print(s)\n",
    "print()\n",
    "print(s['b' :])\n",
    "print(s[: 'c'])\n",
    "print()\n",
    "print(s.loc['a'])\n",
    "print(s.iloc[0:3])"
   ]
  },
  {
   "cell_type": "code",
   "execution_count": 19,
   "metadata": {},
   "outputs": [
    {
     "data": {
      "text/plain": [
       "'C:\\\\Users\\\\AMRESH SINGH\\\\amresh'"
      ]
     },
     "execution_count": 19,
     "metadata": {},
     "output_type": "execute_result"
    }
   ],
   "source": [
    "%pwd"
   ]
  },
  {
   "cell_type": "code",
   "execution_count": 22,
   "metadata": {},
   "outputs": [
    {
     "name": "stdout",
     "output_type": "stream",
     "text": [
      "<class 'pandas.core.frame.DataFrame'>\n",
      "   Unnamed: 0  pclass  survived  \\\n",
      "0           0       1         1   \n",
      "1           1       1         1   \n",
      "2           2       1         0   \n",
      "3           3       1         0   \n",
      "4           4       1         0   \n",
      "\n",
      "                                              name  gender      age  sibsp  \\\n",
      "0                    Allen, Miss. Elisabeth Walton  female  29.0000      0   \n",
      "1                   Allison, Master. Hudson Trevor    male   0.9167      1   \n",
      "2                     Allison, Miss. Helen Loraine  female   2.0000      1   \n",
      "3             Allison, Mr. Hudson Joshua Creighton    male  30.0000      1   \n",
      "4  Allison, Mrs. Hudson J C (Bessie Waldo Daniels)  female  25.0000      1   \n",
      "\n",
      "   parch  ticket      fare    cabin embarked boat   body  \\\n",
      "0      0   24160  $211.34        B5        S    2    NaN   \n",
      "1      2  113781  $151.55   C22 C26        S   11    NaN   \n",
      "2      2  113781  $151.55   C22 C26        S  NaN    NaN   \n",
      "3      2  113781  $151.55   C22 C26        S  NaN  135.0   \n",
      "4      2  113781  $151.55   C22 C26        S  NaN    NaN   \n",
      "\n",
      "                         home.dest  \n",
      "0                     St Louis, MO  \n",
      "1  Montreal, PQ / Chesterville, ON  \n",
      "2  Montreal, PQ / Chesterville, ON  \n",
      "3  Montreal, PQ / Chesterville, ON  \n",
      "4  Montreal, PQ / Chesterville, ON  \n"
     ]
    }
   ],
   "source": [
    "df1 = pd.read_csv('titanic_dataset.csv')\n",
    "print(type(df1))\n",
    "print(df1.head())"
   ]
  },
  {
   "cell_type": "code",
   "execution_count": 29,
   "metadata": {},
   "outputs": [
    {
     "name": "stdout",
     "output_type": "stream",
     "text": [
      "    AA   BB   CC   DD\n",
      "0  145  125  120  108\n",
      "1  128  109  100  143\n",
      "2  120  108  146  138\n",
      "3  113  122  127  142\n",
      "4  125  147  107  140\n",
      "5  141  134  136  126\n",
      "6  141  108  140  149\n",
      "7  102  121  124  141\n",
      "8  108  130  125  129\n",
      "9  124  115  142  131\n",
      "    AA   BB   CC   DD\n",
      "0  145  125  120  108\n",
      "1  128  109  100  143\n",
      "    AA   BB   CC   DD\n",
      "7  102  121  124  141\n",
      "8  108  130  125  129\n",
      "9  124  115  142  131\n",
      "AA    int32\n",
      "BB    int32\n",
      "CC    int32\n",
      "DD    int32\n",
      "dtype: object\n",
      "RangeIndex(start=0, stop=10, step=1)\n",
      "Index(['AA', 'BB', 'CC', 'DD'], dtype='object')\n"
     ]
    }
   ],
   "source": [
    "df = pd.DataFrame(np.random.randint(100,150,40).reshape(10,4),columns=['AA','BB','CC','DD'])\n",
    "print(df)\n",
    "print(df.head(2))\n",
    "print(df.tail(3))\n",
    "print(df.dtypes)\n",
    "print(df.index)\n",
    "print(df.columns)"
   ]
  },
  {
   "cell_type": "code",
   "execution_count": 30,
   "metadata": {},
   "outputs": [
    {
     "name": "stdout",
     "output_type": "stream",
     "text": [
      "Unnamed: 0      int64\n",
      "pclass          int64\n",
      "survived        int64\n",
      "name           object\n",
      "gender         object\n",
      "age           float64\n",
      "sibsp           int64\n",
      "parch           int64\n",
      "ticket         object\n",
      "fare           object\n",
      "cabin          object\n",
      "embarked       object\n",
      "boat           object\n",
      "body          float64\n",
      "home.dest      object\n",
      "dtype: object\n"
     ]
    }
   ],
   "source": [
    "print(df1.dtypes)"
   ]
  },
  {
   "cell_type": "code",
   "execution_count": 32,
   "metadata": {},
   "outputs": [
    {
     "name": "stdout",
     "output_type": "stream",
     "text": [
      "         Unnamed: 0       pclass     survived              name gender  \\\n",
      "count   1309.000000  1309.000000  1309.000000              1309   1309   \n",
      "unique          NaN          NaN          NaN              1307      2   \n",
      "top             NaN          NaN          NaN  Kelly, Mr. James   male   \n",
      "freq            NaN          NaN          NaN                 2    843   \n",
      "mean     654.000000     2.294882     0.381971               NaN    NaN   \n",
      "std      378.020061     0.837836     0.486055               NaN    NaN   \n",
      "min        0.000000     1.000000     0.000000               NaN    NaN   \n",
      "25%      327.000000     2.000000     0.000000               NaN    NaN   \n",
      "50%      654.000000     3.000000     0.000000               NaN    NaN   \n",
      "75%      981.000000     3.000000     1.000000               NaN    NaN   \n",
      "max     1308.000000     3.000000     1.000000               NaN    NaN   \n",
      "\n",
      "                age        sibsp        parch    ticket    fare        cabin  \\\n",
      "count   1046.000000  1309.000000  1309.000000      1309    1308          295   \n",
      "unique          NaN          NaN          NaN       929     263          186   \n",
      "top             NaN          NaN          NaN  CA. 2343  $8.05   C23 C25 C27   \n",
      "freq            NaN          NaN          NaN        11      60            6   \n",
      "mean      29.881135     0.498854     0.385027       NaN     NaN          NaN   \n",
      "std       14.413500     1.041658     0.865560       NaN     NaN          NaN   \n",
      "min        0.166700     0.000000     0.000000       NaN     NaN          NaN   \n",
      "25%       21.000000     0.000000     0.000000       NaN     NaN          NaN   \n",
      "50%       28.000000     0.000000     0.000000       NaN     NaN          NaN   \n",
      "75%       39.000000     1.000000     0.000000       NaN     NaN          NaN   \n",
      "max       80.000000     8.000000     9.000000       NaN     NaN          NaN   \n",
      "\n",
      "       embarked boat        body     home.dest  \n",
      "count      1307  486  121.000000           745  \n",
      "unique        3   27         NaN           369  \n",
      "top           S   13         NaN  New York, NY  \n",
      "freq        914   39         NaN            64  \n",
      "mean        NaN  NaN  160.809917           NaN  \n",
      "std         NaN  NaN   97.696922           NaN  \n",
      "min         NaN  NaN    1.000000           NaN  \n",
      "25%         NaN  NaN   72.000000           NaN  \n",
      "50%         NaN  NaN  155.000000           NaN  \n",
      "75%         NaN  NaN  256.000000           NaN  \n",
      "max         NaN  NaN  328.000000           NaN  \n"
     ]
    }
   ],
   "source": [
    "print(df1.describe(include='all'))"
   ]
  },
  {
   "cell_type": "code",
   "execution_count": 34,
   "metadata": {},
   "outputs": [
    {
     "name": "stdout",
     "output_type": "stream",
     "text": [
      "Index(['Unnamed: 0', 'pclass', 'survived', 'name', 'gender', 'age', 'sibsp',\n",
      "       'parch', 'ticket', 'fare', 'cabin', 'embarked', 'boat', 'body',\n",
      "       'home.dest'],\n",
      "      dtype='object')\n",
      "Unnamed: 0      int64\n",
      "pclass          int64\n",
      "survived        int64\n",
      "name           object\n",
      "gender         object\n",
      "age           float64\n",
      "sibsp           int64\n",
      "parch           int64\n",
      "ticket         object\n",
      "fare           object\n",
      "cabin          object\n",
      "embarked       object\n",
      "boat           object\n",
      "body          float64\n",
      "home.dest      object\n",
      "dtype: object\n"
     ]
    }
   ],
   "source": [
    "print(df1.columns)\n",
    "print(df1.dtypes)"
   ]
  },
  {
   "cell_type": "code",
   "execution_count": 36,
   "metadata": {},
   "outputs": [
    {
     "name": "stdout",
     "output_type": "stream",
     "text": [
      "    AA   BB   CC   DD\n",
      "0  145  125  120  108\n",
      "1  128  109  100  143\n",
      "2  120  108  146  138\n",
      "3  113  122  127  142\n",
      "4  125  147  107  140\n",
      "5  141  134  136  126\n",
      "6  141  108  140  149\n",
      "7  102  121  124  141\n",
      "8  108  130  125  129\n",
      "9  124  115  142  131\n",
      "0    145\n",
      "1    128\n",
      "2    120\n",
      "3    113\n",
      "4    125\n",
      "5    141\n",
      "6    141\n",
      "7    102\n",
      "8    108\n",
      "9    124\n",
      "Name: AA, dtype: int32\n"
     ]
    }
   ],
   "source": [
    "print(df)\n",
    "print(df['AA'])"
   ]
  },
  {
   "cell_type": "code",
   "execution_count": 40,
   "metadata": {},
   "outputs": [
    {
     "name": "stdout",
     "output_type": "stream",
     "text": [
      "    AA   BB   CC   DD\n",
      "4  125  147  107  140\n",
      "5  141  134  136  126\n",
      "6  141  108  140  149\n",
      "7  102  121  124  141\n",
      "8  108  130  125  129\n",
      "9  124  115  142  131\n",
      "AA    145\n",
      "BB    125\n",
      "CC    120\n",
      "DD    108\n",
      "Name: 0, dtype: int32\n",
      "    AA   BB   CC   DD\n",
      "0  145  125  120  108\n",
      "1  128  109  100  143\n",
      "2  120  108  146  138\n",
      "0    145\n",
      "1    128\n",
      "2    120\n",
      "3    113\n",
      "4    125\n",
      "5    141\n",
      "6    141\n",
      "7    102\n",
      "8    108\n",
      "9    124\n",
      "Name: AA, dtype: int32\n"
     ]
    }
   ],
   "source": [
    "print(df[4:])\n",
    "print(df.loc[0])\n",
    "print(df.iloc[0:3])\n",
    "print(df.AA)"
   ]
  },
  {
   "cell_type": "code",
   "execution_count": 57,
   "metadata": {},
   "outputs": [
    {
     "name": "stdout",
     "output_type": "stream",
     "text": [
      "    BB   CC   DD    P\n",
      "0  125  120  108  1.0\n",
      "1  109  100  143  2.0\n",
      "2  108  146  138  3.0\n",
      "3  122  127  142  4.0\n",
      "4  147  107  140  NaN\n",
      "5  134  136  126  NaN\n",
      "6  108  140  149  NaN\n",
      "7  121  124  141  NaN\n",
      "8  130  125  129  NaN\n",
      "9  115  142  131  NaN\n",
      "    AA   BB   CC\n",
      "0  145  125  120\n",
      "1  128  109  100\n",
      "2  120  108  146\n",
      "3  113  122  127\n",
      "4  125  147  107\n",
      "5  141  134  136\n",
      "6  141  108  140\n",
      "7  102  121  124\n",
      "8  108  130  125\n",
      "9  124  115  142\n",
      "    AA   BB   CC   DD    P\n",
      "0  145  125  120  108  1.0\n",
      "1  128  109  100  143  2.0\n",
      "2  120  108  146  138  3.0\n",
      "3  113  122  127  142  4.0\n",
      "4  125  147  107  140  NaN\n",
      "5  141  134  136  126  NaN\n",
      "6  141  108  140  149  NaN\n",
      "7  102  121  124  141  NaN\n",
      "8  108  130  125  129  NaN\n",
      "9  124  115  142  131  NaN\n",
      "AA    False\n",
      "BB    False\n",
      "CC    False\n",
      "DD    False\n",
      "P      True\n",
      "dtype: bool\n",
      "(1309, 15)\n",
      "<class 'pandas.core.series.Series'>\n",
      "AA    0.000000\n",
      "BB    0.000000\n",
      "CC    0.000000\n",
      "DD    0.000000\n",
      "P     0.458365\n",
      "dtype: float64\n"
     ]
    }
   ],
   "source": [
    "print(df.loc[: , 'BB':])\n",
    "print(df.loc[: , :'CC'])\n",
    "df['P'] = pd.Series([1,2,3,4])\n",
    "print(df)\n",
    "print(df.isna().any())\n",
    "print(df1.shape)\n",
    "s = df.isna().sum()\n",
    "print(type(s))\n",
    "print(s/df1.shape[0]*100)"
   ]
  },
  {
   "cell_type": "code",
   "execution_count": 60,
   "metadata": {},
   "outputs": [
    {
     "name": "stdout",
     "output_type": "stream",
     "text": [
      "AA    1247.0\n",
      "BB    1219.0\n",
      "CC    1267.0\n",
      "DD    1347.0\n",
      "P       10.0\n",
      "dtype: float64\n",
      "AA    1247.0\n",
      "BB    1219.0\n",
      "CC    1267.0\n",
      "DD    1347.0\n",
      "P       10.0\n",
      "dtype: float64\n",
      "0    499.0\n",
      "1    482.0\n",
      "2    515.0\n",
      "3    508.0\n",
      "4    519.0\n",
      "5    537.0\n",
      "6    538.0\n",
      "7    488.0\n",
      "8    492.0\n",
      "9    512.0\n",
      "dtype: float64\n"
     ]
    }
   ],
   "source": [
    "print(df.sum())\n",
    "print(df.sum(axis = 0))\n",
    "print(df.sum(axis = 1))\n"
   ]
  },
  {
   "cell_type": "code",
   "execution_count": 65,
   "metadata": {},
   "outputs": [
    {
     "name": "stdout",
     "output_type": "stream",
     "text": [
      "    AA   BB   CC   DD    P    s\n",
      "0  145  125  120  108  1.0  390\n",
      "1  128  109  100  143  2.0  337\n",
      "2  120  108  146  138  3.0  374\n",
      "3  113  122  127  142  4.0  362\n",
      "4  125  147  107  140  NaN  379\n",
      "<class 'pandas.core.frame.DataFrame'>\n",
      "    AA   BB   CC\n",
      "0  145  125  120\n",
      "1  128  109  100\n",
      "2  120  108  146\n",
      "3  113  122  127\n",
      "4  125  147  107\n",
      "5  141  134  136\n",
      "6  141  108  140\n",
      "7  102  121  124\n",
      "8  108  130  125\n",
      "9  124  115  142\n",
      "    AA   BB   CC   DD    P    s\n",
      "0  145  125  120  108  1.0  390\n",
      "1  128  109  100  143  2.0  337\n",
      "2  120  108  146  138  3.0  374\n",
      "3  113  122  127  142  4.0  362\n",
      "4  125  147  107  140  NaN  379\n",
      "5  141  134  136  126  NaN  411\n",
      "6  141  108  140  149  NaN  389\n",
      "7  102  121  124  141  NaN  347\n",
      "8  108  130  125  129  NaN  363\n",
      "9  124  115  142  131  NaN  381\n"
     ]
    }
   ],
   "source": [
    "print(df.head())\n",
    "r = df.iloc[:, :3]\n",
    "print(type(r),r,sep ='\\n')\n",
    "df['s'] = r.sum(axis=1)\n",
    "print(df)"
   ]
  },
  {
   "cell_type": "code",
   "execution_count": 66,
   "metadata": {},
   "outputs": [
    {
     "name": "stdout",
     "output_type": "stream",
     "text": [
      "    AA   BB   CC   DD    P    s\n",
      "0  145  125  120  108  1.0  390\n",
      "1  128  109  100  143  2.0  337\n",
      "2  120  108  146  138  3.0  374\n",
      "3  113  122  127  142  4.0  362\n",
      "4  125  147  107  140  NaN  379\n"
     ]
    }
   ],
   "source": [
    "print(df.head())"
   ]
  },
  {
   "cell_type": "code",
   "execution_count": 68,
   "metadata": {},
   "outputs": [
    {
     "name": "stdout",
     "output_type": "stream",
     "text": [
      "      A   B  C\n",
      "0   125   1  A\n",
      "1   108   2  B\n",
      "2   191   3  C\n",
      "3   115   4  D\n",
      "4   189   5  E\n",
      "5   167   6  F\n",
      "6   167   7  G\n",
      "7   149   8  H\n",
      "8   156   9  I\n",
      "9   118  10  J\n",
      "10  154  11  K\n",
      "11  159  12  L\n",
      "12  193  13  M\n",
      "13  119  14  N\n",
      "14  158  15  O\n",
      "15  185  16  P\n",
      "16  131  17  Q\n",
      "17  146  18  R\n",
      "18  178  19  S\n",
      "19  142  20  T\n"
     ]
    }
   ],
   "source": [
    "df3 = pd.DataFrame()\n",
    "df3['A'] = np.random.randint(100,200,20)\n",
    "df3['B'] = range(1,21)\n",
    "df3['C'] = [chr(x)for x in range(65,85)]\n",
    "print(df3)"
   ]
  },
  {
   "cell_type": "code",
   "execution_count": 78,
   "metadata": {},
   "outputs": [
    {
     "name": "stdout",
     "output_type": "stream",
     "text": [
      "      A  C   B    D\n",
      "0   156  A   1  100\n",
      "1   188  B   2  100\n",
      "2   104  C   3  100\n",
      "3   190  D   4  100\n",
      "4   102  E   5  100\n",
      "5   199  F   6  100\n",
      "6   123  G   7  100\n",
      "7   181  H   8  100\n",
      "8   171  I   9  100\n",
      "9   101  J  10  100\n",
      "10  122  K  11  100\n",
      "11  166  L  12  100\n",
      "12  162  M  13  100\n",
      "13  107  N  14  100\n",
      "14  169  O  15  100\n",
      "15  195  P  16  100\n",
      "16  180  Q  17  100\n",
      "17  174  R  18  100\n",
      "18  148  S  19  100\n",
      "19  181  T  20  100\n"
     ]
    }
   ],
   "source": [
    "import string\n",
    "df3 = pd.DataFrame({ 'A':  np.random.randint(100,200,20),\\\n",
    "                     'C':  list(string.ascii_uppercase[:20]), \\\n",
    "                     'B': range(1,21), 'D': 100})\n",
    "print(df3)"
   ]
  },
  {
   "cell_type": "code",
   "execution_count": 80,
   "metadata": {},
   "outputs": [
    {
     "data": {
      "text/plain": [
       "181    2\n",
       "190    1\n",
       "171    1\n",
       "162    1\n",
       "195    1\n",
       "101    1\n",
       "102    1\n",
       "199    1\n",
       "104    1\n",
       "169    1\n",
       "148    1\n",
       "156    1\n",
       "174    1\n",
       "166    1\n",
       "188    1\n",
       "180    1\n",
       "122    1\n",
       "123    1\n",
       "107    1\n",
       "Name: A, dtype: int64"
      ]
     },
     "execution_count": 80,
     "metadata": {},
     "output_type": "execute_result"
    }
   ],
   "source": [
    "df3.A.value_counts()"
   ]
  },
  {
   "cell_type": "code",
   "execution_count": 85,
   "metadata": {},
   "outputs": [
    {
     "data": {
      "text/plain": [
       "<matplotlib.axes._subplots.AxesSubplot at 0xabe4438>"
      ]
     },
     "execution_count": 85,
     "metadata": {},
     "output_type": "execute_result"
    },
    {
     "data": {
      "image/png": "[encoded data removed]",
      "text/plain": [
       "<Figure size 432x288 with 1 Axes>"
      ]
     },
     "metadata": {
      "needs_background": "light"
     },
     "output_type": "display_data"
    }
   ],
   "source": [
    "import matplotlib as plt\n",
    "df1.pclass.value_counts().plot(kind ='bar')"
   ]
  },
  {
   "cell_type": "code",
   "execution_count": 83,
   "metadata": {
    "scrolled": true
   },
   "outputs": [
    {
     "ename": "AttributeError",
     "evalue": "module 'matplotlib' has no attribute 'show'",
     "output_type": "error",
     "traceback": [
      "\u001b[1;31m---------------------------------------------------------------------------\u001b[0m",
      "\u001b[1;31mAttributeError\u001b[0m                            Traceback (most recent call last)",
      "\u001b[1;32m<ipython-input-83-8c529f4e4569>\u001b[0m in \u001b[0;36m<module>\u001b[1;34m\u001b[0m\n\u001b[0;32m      1\u001b[0m \u001b[0mdf1\u001b[0m\u001b[1;33m.\u001b[0m\u001b[0mgender\u001b[0m\u001b[1;33m.\u001b[0m\u001b[0mvalue_counts\u001b[0m\u001b[1;33m(\u001b[0m\u001b[1;33m)\u001b[0m\u001b[1;33m.\u001b[0m\u001b[0mplot\u001b[0m\u001b[1;33m(\u001b[0m\u001b[0mkind\u001b[0m \u001b[1;33m=\u001b[0m \u001b[1;34m'bar'\u001b[0m\u001b[1;33m)\u001b[0m\u001b[1;33m\u001b[0m\u001b[1;33m\u001b[0m\u001b[0m\n\u001b[1;32m----> 2\u001b[1;33m \u001b[0mprint\u001b[0m\u001b[1;33m(\u001b[0m\u001b[0mplt\u001b[0m\u001b[1;33m.\u001b[0m\u001b[0mshow\u001b[0m\u001b[1;33m(\u001b[0m\u001b[1;33m)\u001b[0m\u001b[1;33m)\u001b[0m\u001b[1;33m\u001b[0m\u001b[1;33m\u001b[0m\u001b[0m\n\u001b[0m",
      "\u001b[1;31mAttributeError\u001b[0m: module 'matplotlib' has no attribute 'show'"
     ]
    },
    {
     "data": {
      "image/png": "[encoded data removed]",
      "text/plain": [
       "<Figure size 432x288 with 1 Axes>"
      ]
     },
     "metadata": {
      "needs_background": "light"
     },
     "output_type": "display_data"
    }
   ],
   "source": [
    "df1.gender.value_counts().plot(kind = 'bar')\n",
    "print(plt.show())"
   ]
  },
  {
   "cell_type": "code",
   "execution_count": 84,
   "metadata": {
    "scrolled": true
   },
   "outputs": [
    {
     "name": "stdout",
     "output_type": "stream",
     "text": [
      "[1 2 3]\n"
     ]
    }
   ],
   "source": [
    "print(df1.pclass.unique())"
   ]
  },
  {
   "cell_type": "markdown",
   "metadata": {},
   "source": [
    "# Class_Work-12\n"
   ]
  },
  {
   "cell_type": "markdown",
   "metadata": {},
   "source": [
    "# ExceptionIterators"
   ]
  },
  {
   "cell_type": "code",
   "execution_count": 1,
   "metadata": {},
   "outputs": [],
   "source": [
    "import pandas as pd"
   ]
  },
  {
   "cell_type": "code",
   "execution_count": 7,
   "metadata": {},
   "outputs": [
    {
     "name": "stdout",
     "output_type": "stream",
     "text": [
      "<str_iterator object at 0x00000000095ADEB8>\n",
      "a\n",
      "b\n",
      "c\n",
      "d\n"
     ]
    },
    {
     "ename": "StopIteration",
     "evalue": "",
     "output_type": "error",
     "traceback": [
      "\u001b[1;31m---------------------------------------------------------------------------\u001b[0m",
      "\u001b[1;31mStopIteration\u001b[0m                             Traceback (most recent call last)",
      "\u001b[1;32m<ipython-input-7-aa107917bb06>\u001b[0m in \u001b[0;36m<module>\u001b[1;34m\u001b[0m\n\u001b[0;32m      7\u001b[0m \u001b[0mprint\u001b[0m\u001b[1;33m(\u001b[0m \u001b[0mnext\u001b[0m\u001b[1;33m(\u001b[0m\u001b[0mit\u001b[0m\u001b[1;33m)\u001b[0m \u001b[1;33m)\u001b[0m\u001b[1;33m\u001b[0m\u001b[1;33m\u001b[0m\u001b[0m\n\u001b[0;32m      8\u001b[0m \u001b[0mprint\u001b[0m\u001b[1;33m(\u001b[0m \u001b[0mnext\u001b[0m\u001b[1;33m(\u001b[0m\u001b[0mit\u001b[0m\u001b[1;33m)\u001b[0m \u001b[1;33m)\u001b[0m\u001b[1;33m\u001b[0m\u001b[1;33m\u001b[0m\u001b[0m\n\u001b[1;32m----> 9\u001b[1;33m \u001b[0mprint\u001b[0m\u001b[1;33m(\u001b[0m \u001b[0mnext\u001b[0m\u001b[1;33m(\u001b[0m\u001b[0mit\u001b[0m\u001b[1;33m)\u001b[0m \u001b[1;33m)\u001b[0m\u001b[1;33m\u001b[0m\u001b[1;33m\u001b[0m\u001b[0m\n\u001b[0m",
      "\u001b[1;31mStopIteration\u001b[0m: "
     ]
    }
   ],
   "source": [
    "s = 'abcd'\n",
    "it = iter(s)\n",
    "print(it)\n",
    "\n",
    "print( next(it) )\n",
    "print( next(it) )\n",
    "print( next(it) )\n",
    "print( next(it) )\n",
    "print( next(it) )"
   ]
  },
  {
   "cell_type": "code",
   "execution_count": 8,
   "metadata": {},
   "outputs": [
    {
     "name": "stdout",
     "output_type": "stream",
     "text": [
      "10\n",
      "20\n",
      "30\n",
      "40\n"
     ]
    },
    {
     "ename": "StopIteration",
     "evalue": "",
     "output_type": "error",
     "traceback": [
      "\u001b[1;31m---------------------------------------------------------------------------\u001b[0m",
      "\u001b[1;31mStopIteration\u001b[0m                             Traceback (most recent call last)",
      "\u001b[1;32m<ipython-input-8-e48e7b7233e2>\u001b[0m in \u001b[0;36m<module>\u001b[1;34m\u001b[0m\n\u001b[0;32m      7\u001b[0m \u001b[0mprint\u001b[0m\u001b[1;33m(\u001b[0m \u001b[0mnext\u001b[0m\u001b[1;33m(\u001b[0m\u001b[0mit\u001b[0m\u001b[1;33m)\u001b[0m \u001b[1;33m)\u001b[0m\u001b[1;33m\u001b[0m\u001b[1;33m\u001b[0m\u001b[0m\n\u001b[0;32m      8\u001b[0m \u001b[0mprint\u001b[0m\u001b[1;33m(\u001b[0m \u001b[0mnext\u001b[0m\u001b[1;33m(\u001b[0m\u001b[0mit\u001b[0m\u001b[1;33m)\u001b[0m \u001b[1;33m)\u001b[0m\u001b[1;33m\u001b[0m\u001b[1;33m\u001b[0m\u001b[0m\n\u001b[1;32m----> 9\u001b[1;33m \u001b[0mprint\u001b[0m\u001b[1;33m(\u001b[0m \u001b[0mnext\u001b[0m\u001b[1;33m(\u001b[0m\u001b[0mit\u001b[0m\u001b[1;33m)\u001b[0m \u001b[1;33m)\u001b[0m\u001b[1;33m\u001b[0m\u001b[1;33m\u001b[0m\u001b[0m\n\u001b[0m",
      "\u001b[1;31mStopIteration\u001b[0m: "
     ]
    }
   ],
   "source": [
    "s = [10,20,30,40]\n",
    "it = s.__iter__()#iter(s)\n",
    "\n",
    "\n",
    "print( next(it) )\n",
    "print( next(it) )\n",
    "print( next(it) )\n",
    "print( next(it) )\n",
    "print( next(it) )\n"
   ]
  },
  {
   "cell_type": "code",
   "execution_count": 9,
   "metadata": {},
   "outputs": [],
   "source": [
    "for i in range(5):\n",
    "    continue\n",
    "    print(i)"
   ]
  },
  {
   "cell_type": "code",
   "execution_count": 10,
   "metadata": {},
   "outputs": [
    {
     "name": "stdout",
     "output_type": "stream",
     "text": [
      "10\n",
      "20\n",
      "30\n",
      "40\n",
      "End\n"
     ]
    }
   ],
   "source": [
    "def abc():\n",
    "    pass\n",
    "s =[10,20,30,40]\n",
    "it = iter(s)\n",
    "\n",
    "try:\n",
    "    while True:\n",
    "        print(next(it))\n",
    "except:\n",
    "    pass\n",
    "print('End')"
   ]
  },
  {
   "cell_type": "code",
   "execution_count": 11,
   "metadata": {},
   "outputs": [
    {
     "name": "stdout",
     "output_type": "stream",
     "text": [
      "abcd\n"
     ]
    },
    {
     "ename": "ZeroDivisionError",
     "evalue": "division by zero",
     "output_type": "error",
     "traceback": [
      "\u001b[1;31m---------------------------------------------------------------------------\u001b[0m",
      "\u001b[1;31mZeroDivisionError\u001b[0m                         Traceback (most recent call last)",
      "\u001b[1;32m<ipython-input-11-e61a6eb8949a>\u001b[0m in \u001b[0;36m<module>\u001b[1;34m\u001b[0m\n\u001b[0;32m      1\u001b[0m \u001b[0mprint\u001b[0m\u001b[1;33m(\u001b[0m\u001b[1;34m'abcd'\u001b[0m\u001b[1;33m)\u001b[0m\u001b[1;33m\u001b[0m\u001b[1;33m\u001b[0m\u001b[0m\n\u001b[1;32m----> 2\u001b[1;33m \u001b[1;36m1\u001b[0m\u001b[1;33m/\u001b[0m\u001b[1;36m0\u001b[0m\u001b[1;33m\u001b[0m\u001b[1;33m\u001b[0m\u001b[0m\n\u001b[0m\u001b[0;32m      3\u001b[0m \u001b[0mprint\u001b[0m\u001b[1;33m(\u001b[0m\u001b[1;34m'pqr'\u001b[0m\u001b[1;33m)\u001b[0m\u001b[1;33m\u001b[0m\u001b[1;33m\u001b[0m\u001b[0m\n",
      "\u001b[1;31mZeroDivisionError\u001b[0m: division by zero"
     ]
    }
   ],
   "source": [
    "print('abcd')\n",
    "1/0\n",
    "print('pqr')"
   ]
  },
  {
   "cell_type": "code",
   "execution_count": 12,
   "metadata": {
    "scrolled": true
   },
   "outputs": [
    {
     "ename": "IndexError",
     "evalue": "list index out of range",
     "output_type": "error",
     "traceback": [
      "\u001b[1;31m---------------------------------------------------------------------------\u001b[0m",
      "\u001b[1;31mIndexError\u001b[0m                                Traceback (most recent call last)",
      "\u001b[1;32m<ipython-input-12-8e321c3b6a5d>\u001b[0m in \u001b[0;36m<module>\u001b[1;34m\u001b[0m\n\u001b[0;32m      1\u001b[0m \u001b[0ma\u001b[0m \u001b[1;33m=\u001b[0m\u001b[1;33m[\u001b[0m\u001b[1;36m1\u001b[0m\u001b[1;33m,\u001b[0m\u001b[1;36m2\u001b[0m\u001b[1;33m]\u001b[0m\u001b[1;33m\u001b[0m\u001b[1;33m\u001b[0m\u001b[0m\n\u001b[1;32m----> 2\u001b[1;33m \u001b[0ma\u001b[0m\u001b[1;33m[\u001b[0m\u001b[1;36m3\u001b[0m\u001b[1;33m]\u001b[0m\u001b[1;33m\u001b[0m\u001b[1;33m\u001b[0m\u001b[0m\n\u001b[0m\u001b[0;32m      3\u001b[0m \u001b[0mprint\u001b[0m\u001b[1;33m(\u001b[0m\u001b[1;34m'Data'\u001b[0m\u001b[1;33m)\u001b[0m\u001b[1;33m\u001b[0m\u001b[1;33m\u001b[0m\u001b[0m\n",
      "\u001b[1;31mIndexError\u001b[0m: list index out of range"
     ]
    }
   ],
   "source": [
    "a =[1,2]\n",
    "a[3]\n",
    "print('Data')\n",
    "\n"
   ]
  },
  {
   "cell_type": "code",
   "execution_count": 14,
   "metadata": {},
   "outputs": [
    {
     "ename": "KeyError",
     "evalue": "0",
     "output_type": "error",
     "traceback": [
      "\u001b[1;31m---------------------------------------------------------------------------\u001b[0m",
      "\u001b[1;31mKeyError\u001b[0m                                  Traceback (most recent call last)",
      "\u001b[1;32m<ipython-input-14-c643b74176cc>\u001b[0m in \u001b[0;36m<module>\u001b[1;34m\u001b[0m\n\u001b[0;32m      1\u001b[0m \u001b[0md\u001b[0m \u001b[1;33m=\u001b[0m \u001b[1;33m{\u001b[0m\u001b[1;33m}\u001b[0m\u001b[1;33m\u001b[0m\u001b[1;33m\u001b[0m\u001b[0m\n\u001b[1;32m----> 2\u001b[1;33m \u001b[0mprint\u001b[0m\u001b[1;33m(\u001b[0m\u001b[0md\u001b[0m\u001b[1;33m[\u001b[0m\u001b[1;36m0\u001b[0m\u001b[1;33m]\u001b[0m\u001b[1;33m)\u001b[0m\u001b[1;33m\u001b[0m\u001b[1;33m\u001b[0m\u001b[0m\n\u001b[0m",
      "\u001b[1;31mKeyError\u001b[0m: 0"
     ]
    }
   ],
   "source": [
    "d = {}\n",
    "print(d[0])"
   ]
  },
  {
   "cell_type": "code",
   "execution_count": 17,
   "metadata": {},
   "outputs": [
    {
     "name": "stdout",
     "output_type": "stream",
     "text": [
      "Enter number:-0\n",
      "Exception occured\n",
      "end\n"
     ]
    }
   ],
   "source": [
    "try:\n",
    "    n = int(input('Enter number:-'))\n",
    "    print(1/n)\n",
    "except:\n",
    "    print('Exception occured')\n",
    "print('end')"
   ]
  },
  {
   "cell_type": "code",
   "execution_count": 19,
   "metadata": {},
   "outputs": [
    {
     "name": "stdout",
     "output_type": "stream",
     "text": [
      "Enter number:-2\n",
      "0.5\n",
      "end\n"
     ]
    }
   ],
   "source": [
    "try:\n",
    "    n = int(input('Enter number:-'))\n",
    "    print(1/n)\n",
    "except:\n",
    "    print('Exception occured')\n",
    "    raise\n",
    "print('end')"
   ]
  },
  {
   "cell_type": "code",
   "execution_count": 23,
   "metadata": {},
   "outputs": [
    {
     "name": "stdout",
     "output_type": "stream",
     "text": [
      "Enter no:-2\n",
      "0.5\n",
      "Some Exception\n",
      "end\n"
     ]
    }
   ],
   "source": [
    "a = [10,20]\n",
    "a = {}\n",
    "try:\n",
    "    n = int(input('Enter no:-'))\n",
    "    print(1/n)\n",
    "    print(a[n])\n",
    "    print(d[n])\n",
    "except IndexError as e:\n",
    "        print('Index Error occured',e)\n",
    "except ZeroDivisionError:\n",
    "        print('Zero Error')\n",
    "except Exception:\n",
    "        print('Some Exception')\n",
    "print('end')"
   ]
  },
  {
   "cell_type": "code",
   "execution_count": 24,
   "metadata": {},
   "outputs": [
    {
     "name": "stdout",
     "output_type": "stream",
     "text": [
      "2\n",
      "3\n",
      " \n",
      "\n"
     ]
    }
   ],
   "source": [
    "while True:\n",
    "    s = input()\n",
    "    if s =='':\n",
    "        break"
   ]
  },
  {
   "cell_type": "code",
   "execution_count": 26,
   "metadata": {},
   "outputs": [
    {
     "name": "stdout",
     "output_type": "stream",
     "text": [
      "Enter No:-0\n",
      "Some Exception division by zero\n",
      "End\n"
     ]
    }
   ],
   "source": [
    "a = [10,20]\n",
    "d = {}\n",
    "try:\n",
    "    n = int(input('Enter No:-'))\n",
    "    print(1/n)\n",
    "    print(a[n])\n",
    "    print(d[n])\n",
    "except Exception as e:\n",
    "    print('Some Exception',e)\n",
    "print('End')\n"
   ]
  },
  {
   "cell_type": "code",
   "execution_count": 27,
   "metadata": {},
   "outputs": [
    {
     "ename": "AttributeError",
     "evalue": "My Error",
     "output_type": "error",
     "traceback": [
      "\u001b[1;31m---------------------------------------------------------------------------\u001b[0m",
      "\u001b[1;31mAttributeError\u001b[0m                            Traceback (most recent call last)",
      "\u001b[1;32m<ipython-input-27-47530403e802>\u001b[0m in \u001b[0;36m<module>\u001b[1;34m\u001b[0m\n\u001b[1;32m----> 1\u001b[1;33m \u001b[1;32mraise\u001b[0m \u001b[0mAttributeError\u001b[0m\u001b[1;33m(\u001b[0m\u001b[1;34m'My Error'\u001b[0m\u001b[1;33m)\u001b[0m\u001b[1;33m\u001b[0m\u001b[1;33m\u001b[0m\u001b[0m\n\u001b[0m",
      "\u001b[1;31mAttributeError\u001b[0m: My Error"
     ]
    }
   ],
   "source": [
    "raise AttributeError('My Error')\n"
   ]
  },
  {
   "cell_type": "code",
   "execution_count": 29,
   "metadata": {},
   "outputs": [
    {
     "name": "stdout",
     "output_type": "stream",
     "text": [
      "[]\n"
     ]
    }
   ],
   "source": [
    "x = list()\n",
    "y = x\n",
    "print(x)"
   ]
  },
  {
   "cell_type": "code",
   "execution_count": 31,
   "metadata": {},
   "outputs": [
    {
     "name": "stdout",
     "output_type": "stream",
     "text": [
      "Lookup Error LookupError\n",
      "Index Error!!\n",
      "Lookup Error 'KeyError'\n",
      "AttributeError\n",
      "Parent of all Exceptions!!\n"
     ]
    }
   ],
   "source": [
    "a = [LookupError,IndexError,KeyError,AttributeError,SystemExit]\n",
    "for e in a:\n",
    "    try:\n",
    "        raise e(e.__name__)\n",
    "    except IndexError:\n",
    "        print('Index Error!!')\n",
    "    except LookupError as e:\n",
    "        print('Lookup Error',e)\n",
    "    except Exception as e:\n",
    "        print(e)\n",
    "    except:#BaseException\n",
    "        print('Parent of all Exceptions!!')\n",
    "        "
   ]
  },
  {
   "cell_type": "code",
   "execution_count": 34,
   "metadata": {},
   "outputs": [
    {
     "name": "stdout",
     "output_type": "stream",
     "text": [
      "2\n",
      "LookupError\n",
      "Always!!Finally\n"
     ]
    }
   ],
   "source": [
    "try:\n",
    "    n = int(input())\n",
    "    10/n\n",
    "    [10,20][n]\n",
    "    {1:10}[n]\n",
    "except KeyError:\n",
    "    print(\"KeyError\")\n",
    "except LookupError:\n",
    "    print(\"LookupError\")\n",
    "else:\n",
    "    print(\"No Exception\")\n",
    "finally:\n",
    "    print('Always!!Finally')\n",
    "    "
   ]
  },
  {
   "cell_type": "code",
   "execution_count": 36,
   "metadata": {},
   "outputs": [
    {
     "name": "stdout",
     "output_type": "stream",
     "text": [
      "['A', 'ASCII', 'DEBUG', 'DOTALL', 'I', 'IGNORECASE', 'L', 'LOCALE', 'M', 'MULTILINE', 'Match', 'Pattern', 'RegexFlag', 'S', 'Scanner', 'T', 'TEMPLATE', 'U', 'UNICODE', 'VERBOSE', 'X', '_MAXCACHE', '__all__', '__builtins__', '__cached__', '__doc__', '__file__', '__loader__', '__name__', '__package__', '__spec__', '__version__', '_cache', '_compile', '_compile_repl', '_expand', '_locale', '_pickle', '_special_chars_map', '_subx', 'compile', 'copyreg', 'enum', 'error', 'escape', 'findall', 'finditer', 'fullmatch', 'functools', 'match', 'purge', 'search', 'split', 'sre_compile', 'sre_parse', 'sub', 'subn', 'template']\n"
     ]
    }
   ],
   "source": [
    "import re\n",
    "print(dir(re))"
   ]
  },
  {
   "cell_type": "code",
   "execution_count": 38,
   "metadata": {},
   "outputs": [
    {
     "name": "stdout",
     "output_type": "stream",
     "text": [
      "<re.Match object; span=(0, 3), match='abc'>\n",
      "None\n"
     ]
    }
   ],
   "source": [
    "s = 'abcd  abc ab AB A'\n",
    "r = re.search(r'abc',s)\n",
    "print(r)\n",
    "r = re.search(r'abe',s)\n",
    "print(r)"
   ]
  },
  {
   "cell_type": "code",
   "execution_count": 41,
   "metadata": {},
   "outputs": [
    {
     "name": "stdout",
     "output_type": "stream",
     "text": [
      "<re.Match object; span=(0, 2), match='ab'>\n",
      "<re.Match object; span=(5, 7), match='ab'>\n",
      "<re.Match object; span=(9, 11), match='ab'>\n",
      "<re.Match object; span=(12, 14), match='AB'>\n"
     ]
    }
   ],
   "source": [
    "s = 'abcd abc ab AB A'\n",
    "for r in re.finditer(r'ab', s,re.IGNORECASE):\n",
    "       print(r)"
   ]
  },
  {
   "cell_type": "code",
   "execution_count": 42,
   "metadata": {},
   "outputs": [
    {
     "name": "stdout",
     "output_type": "stream",
     "text": [
      "<re.Match object; span=(0, 2), match='12'>\n",
      "<re.Match object; span=(9, 11), match='22'>\n",
      "<re.Match object; span=(15, 17), match='33'>\n",
      "<re.Match object; span=(19, 21), match='44'>\n"
     ]
    }
   ],
   "source": [
    "s = '123 abcd 22 pq 333 444'\n",
    "#\\d: digits\n",
    "#\\D: Not digits\n",
    "#\\s: White Space: '', \\n \\t\n",
    "#\\S: Not white space\n",
    "#\\w: Alpha numeric\n",
    "#\\W: not alpha numeric\n",
    "for r in re.finditer(r'\\d\\d',s):\n",
    "    print(r)"
   ]
  },
  {
   "cell_type": "code",
   "execution_count": 43,
   "metadata": {},
   "outputs": [
    {
     "name": "stdout",
     "output_type": "stream",
     "text": [
      "<re.Match object; span=(0, 4), match='1234'>\n",
      "<re.Match object; span=(4, 7), match='567'>\n",
      "<re.Match object; span=(19, 22), match='333'>\n",
      "<re.Match object; span=(23, 27), match='4444'>\n"
     ]
    }
   ],
   "source": [
    "s = '1234567 abcd 22 pq 333 4444'\n",
    "# * : 0-n repetitions\n",
    "# + : 1-n\n",
    "# ? : 0-n non greedy\n",
    "#*? : 1-n\n",
    "#{m,n}: min n max n repetitions\n",
    "\n",
    "for r in re.finditer(r'\\d{3,4}',s):\n",
    "    print(r)"
   ]
  },
  {
   "cell_type": "code",
   "execution_count": 46,
   "metadata": {},
   "outputs": [
    {
     "name": "stdout",
     "output_type": "stream",
     "text": [
      "<re.Match object; span=(19, 22), match='333'>\n",
      "<re.Match object; span=(23, 27), match='4444'>\n"
     ]
    }
   ],
   "source": [
    "s = '1234567 abcd 22 pq 333 4444'\n",
    "for r in re.finditer(r'\\b\\d{3,4}\\b',s):\n",
    "    print(r)"
   ]
  },
  {
   "cell_type": "code",
   "execution_count": 48,
   "metadata": {},
   "outputs": [
    {
     "name": "stdout",
     "output_type": "stream",
     "text": [
      "<re.Match object; span=(0, 7), match='1234567'>\n",
      "<re.Match object; span=(13, 15), match='22'>\n",
      "<re.Match object; span=(19, 22), match='333'>\n",
      "<re.Match object; span=(23, 27), match='4444'>\n"
     ]
    }
   ],
   "source": [
    "s = '1234567 abcd 22 pq 333 4444'\n",
    "for r in re.finditer(r'\\b\\d+\\b',s):\n",
    "    print(r)"
   ]
  },
  {
   "cell_type": "code",
   "execution_count": 49,
   "metadata": {},
   "outputs": [
    {
     "name": "stdout",
     "output_type": "stream",
     "text": [
      "today is some day. <re.Match object; span=(0, 18), match='today is some day.'>\n",
      "that day. <re.Match object; span=(0, 9), match='that day.'>\n",
      "this day! None\n",
      "this is day# None\n",
      "which day? None\n"
     ]
    }
   ],
   "source": [
    "strs =['today is some day.','that day.','this day!','this is day#','which day?']\n",
    "\n",
    "# .: match any symbol once\n",
    "# anchor tags\n",
    "# ^: Beginning\n",
    "# $: end\n",
    "for s in strs:\n",
    "    print(s,re.search(r'^t.*\\.$',s))"
   ]
  },
  {
   "cell_type": "code",
   "execution_count": 50,
   "metadata": {},
   "outputs": [
    {
     "name": "stdout",
     "output_type": "stream",
     "text": [
      "today is some day. <re.Match object; span=(0, 18), match='today is some day.'>\n",
      "that day. <re.Match object; span=(0, 9), match='that day.'>\n",
      "this day! <re.Match object; span=(0, 9), match='this day!'>\n",
      "this is day# None\n",
      "which day? None\n"
     ]
    }
   ],
   "source": [
    "strs =['today is some day.','that day.','this day!','this is day#','which day?']\n",
    "#|:or\n",
    "for s in strs:\n",
    "    print(s,re.search(r'^t.*(\\.|!)$',s) )"
   ]
  },
  {
   "cell_type": "code",
   "execution_count": 52,
   "metadata": {
    "scrolled": true
   },
   "outputs": [
    {
     "name": "stdout",
     "output_type": "stream",
     "text": [
      "today is some day. <re.Match object; span=(0, 18), match='today is some day.'>\n",
      "that day. <re.Match object; span=(0, 9), match='that day.'>\n",
      "this day! <re.Match object; span=(0, 9), match='this day!'>\n",
      "this is day# None\n",
      "which day? None\n"
     ]
    }
   ],
   "source": [
    "strs =['today is some day.','that day.','this day!','this is day#','which day?']\n",
    "for s in strs:\n",
    "    print(s,re.search(r'^t.*(\\.|!)',s))\n",
    "    "
   ]
  },
  {
   "cell_type": "code",
   "execution_count": 53,
   "metadata": {},
   "outputs": [
    {
     "name": "stdout",
     "output_type": "stream",
     "text": [
      "today is some day. <re.Match object; span=(0, 18), match='today is some day.'>\n",
      "that day. <re.Match object; span=(0, 9), match='that day.'>\n",
      "this day! <re.Match object; span=(0, 9), match='this day!'>\n",
      "this is day# None\n",
      "which day? None\n"
     ]
    }
   ],
   "source": [
    "strs =['today is some day.','that day.','this day!','this is day#','which day?']\n",
    "for s in strs:\n",
    "    print(s,re.search(r'^t.*?(\\.|!)',s))\n",
    "    "
   ]
  },
  {
   "cell_type": "code",
   "execution_count": 54,
   "metadata": {},
   "outputs": [],
   "source": [
    "#search Set\n",
    "# []:[a-z]\n",
    "#[A-Z]\n",
    "#[abcABC]\n",
    "#[01ab#$]\n",
    "#[^a-z]: don't match small alphabets\n"
   ]
  }
 ],
 "metadata": {
  "kernelspec": {
   "display_name": "Python 3",
   "language": "python",
   "name": "python3"
  },
  "language_info": {
   "codemirror_mode": {
    "name": "ipython",
    "version": 3
   },
   "file_extension": ".py",
   "mimetype": "text/x-python",
   "name": "python",
   "nbconvert_exporter": "python",
   "pygments_lexer": "ipython3",
   "version": "3.7.3"
  }
 },
 "nbformat": 4,
 "nbformat_minor": 2
}
