{
 "cells": [
  {
   "cell_type": "code",
   "execution_count": 1,
   "metadata": {},
   "outputs": [],
   "source": [
    "import pandas as pd\n",
    "import numpy as np"
   ]
  },
  {
   "cell_type": "code",
   "execution_count": 4,
   "metadata": {},
   "outputs": [
    {
     "name": "stdout",
     "output_type": "stream",
     "text": [
      "   10.5  0.0 \n",
      "0     1     1\n",
      "1     2     2\n"
     ]
    },
    {
     "data": {
      "text/plain": [
       "array([1, 1], dtype=int64)"
      ]
     },
     "execution_count": 4,
     "metadata": {},
     "output_type": "execute_result"
    }
   ],
   "source": [
    "df = pd.DataFrame()\n",
    "df[10.5] = pd.Series([1,2])\n",
    "df[np.float()]= pd.Series([1,2])\n",
    "print(df)\n",
    "df.loc[0].values"
   ]
  },
  {
   "cell_type": "code",
   "execution_count": 5,
   "metadata": {},
   "outputs": [
    {
     "name": "stdout",
     "output_type": "stream",
     "text": [
      "()\n",
      "(1,)\n",
      "(1, 2)\n"
     ]
    }
   ],
   "source": [
    "#Variable length arguments\n",
    "def funct(*args):\n",
    "    print(args)\n",
    "funct()\n",
    "funct(1)\n",
    "funct(1,2)"
   ]
  },
  {
   "cell_type": "code",
   "execution_count": 6,
   "metadata": {},
   "outputs": [
    {
     "name": "stdout",
     "output_type": "stream",
     "text": [
      "(1,)\n"
     ]
    }
   ],
   "source": [
    "x=1,\n",
    "print(x)"
   ]
  },
  {
   "cell_type": "code",
   "execution_count": 7,
   "metadata": {},
   "outputs": [
    {
     "name": "stdout",
     "output_type": "stream",
     "text": [
      "10 20\n",
      "10 20\n",
      "20 10\n"
     ]
    }
   ],
   "source": [
    "def funct(x,y):\n",
    "    print(x,y)\n",
    "funct(10,20)#positional arguments\n",
    "funct(x=10,y=20)\n",
    "funct(y=10,x=20)#keyword arguments"
   ]
  },
  {
   "cell_type": "code",
   "execution_count": 8,
   "metadata": {},
   "outputs": [
    {
     "name": "stdout",
     "output_type": "stream",
     "text": [
      "{'x': 10, 'abc': []}\n"
     ]
    }
   ],
   "source": [
    "def funct(**kwargs):\n",
    "    print(kwargs)\n",
    "funct(x=10,abc =[])\n"
   ]
  },
  {
   "cell_type": "code",
   "execution_count": 12,
   "metadata": {},
   "outputs": [
    {
     "name": "stdout",
     "output_type": "stream",
     "text": [
      "10 20 ()\n",
      "10 20 (100, True)\n"
     ]
    }
   ],
   "source": [
    "def funct(x,y, *args):\n",
    "    print(x,y,args)\n",
    "#funct(10)\n",
    "funct(10,20)\n",
    "funct(10,20,100,True)"
   ]
  },
  {
   "cell_type": "code",
   "execution_count": 15,
   "metadata": {},
   "outputs": [
    {
     "name": "stdout",
     "output_type": "stream",
     "text": [
      "10 20 {}\n",
      "10 20 {'p': 100, 'abc': True}\n"
     ]
    }
   ],
   "source": [
    "def funct(x,y, **kwargs):\n",
    "    print(x,y,kwargs)\n",
    "#funct(10)\n",
    "funct(10,20)\n",
    "funct(10,20,p = 100,abc =True)"
   ]
  },
  {
   "cell_type": "code",
   "execution_count": 21,
   "metadata": {},
   "outputs": [
    {
     "name": "stdout",
     "output_type": "stream",
     "text": [
      "10 20 () {} 100\n",
      "10 20 () {'p': 100, 'abc': True} 100\n",
      "10 20 (True,) {} 100\n",
      "10 20 (30, 'abcd') {'p': 100, 'abc': True} 100\n",
      "10 20 (30, 'abcd') {'p': 100, 'abc': True} 9000\n"
     ]
    }
   ],
   "source": [
    "def funct(x,y, *args,pqr =100,**kwargs):\n",
    "    print(x,y,args,kwargs,pqr)\n",
    "funct(10,20)\n",
    "funct(10,20,p=100,abc =True)\n",
    "funct(10,20,True)\n",
    "funct(10,20,30,'abcd',p=100,abc =True)\n",
    "funct(10,20,30,'abcd',p=100,abc=True,pqr=9000)\n",
    "\n",
    "\n"
   ]
  },
  {
   "cell_type": "code",
   "execution_count": 23,
   "metadata": {},
   "outputs": [
    {
     "name": "stdout",
     "output_type": "stream",
     "text": [
      "[1, 2, 3, 4, 5, 6, 7, 8, 9]\n"
     ]
    }
   ],
   "source": [
    "a =[]\n",
    "for i in range(1,10):\n",
    "    a.append(i)\n",
    "print(a)"
   ]
  },
  {
   "cell_type": "markdown",
   "metadata": {},
   "source": [
    "# List Comprehension\n"
   ]
  },
  {
   "cell_type": "code",
   "execution_count": 24,
   "metadata": {},
   "outputs": [
    {
     "name": "stdout",
     "output_type": "stream",
     "text": [
      "[1, 4, 9, 16, 25, 36, 49, 64, 81]\n"
     ]
    }
   ],
   "source": [
    "a =[i*i for i in range(1,10)]\n",
    "print(a)"
   ]
  },
  {
   "cell_type": "code",
   "execution_count": 26,
   "metadata": {},
   "outputs": [
    {
     "name": "stdout",
     "output_type": "stream",
     "text": [
      "Enter a String:-amresh\n",
      "[97, 109, 114, 101, 115, 104] ['a', 'm', 'r', 'e', 's', 'h']\n"
     ]
    }
   ],
   "source": [
    "s = input('Enter a String:-')\n",
    "a1=[ord(c) for c in s]\n",
    "a2 =list(s)\n",
    "print(a1,a2)"
   ]
  },
  {
   "cell_type": "code",
   "execution_count": 27,
   "metadata": {},
   "outputs": [
    {
     "name": "stdout",
     "output_type": "stream",
     "text": [
      "['a', 'b', 'c', 'd'] ['a', 'b', 'c', 'd']\n"
     ]
    }
   ],
   "source": [
    " s ='abcd'\n",
    "a1 =[c for c in s]\n",
    "a2 =list(s)\n",
    "print(a1,a2)"
   ]
  },
  {
   "cell_type": "code",
   "execution_count": 28,
   "metadata": {},
   "outputs": [
    {
     "name": "stdout",
     "output_type": "stream",
     "text": [
      "Enter list of Number:-123 345\n",
      "[123, 345]\n"
     ]
    }
   ],
   "source": [
    "s = input('Enter list of Number:-')\n",
    "a = [int(x) for x in s.split()]\n",
    "print(a)\n"
   ]
  },
  {
   "cell_type": "code",
   "execution_count": 29,
   "metadata": {},
   "outputs": [],
   "source": [
    "import numpy as np"
   ]
  },
  {
   "cell_type": "code",
   "execution_count": 31,
   "metadata": {},
   "outputs": [
    {
     "name": "stdout",
     "output_type": "stream",
     "text": [
      "[19 77 10 22 99 34 39 98 51 42]\n"
     ]
    }
   ],
   "source": [
    "r = np.random.randint(10,100,10)\n",
    "print(r)"
   ]
  },
  {
   "cell_type": "code",
   "execution_count": null,
   "metadata": {},
   "outputs": [],
   "source": []
  }
 ],
 "metadata": {
  "kernelspec": {
   "display_name": "Python 3",
   "language": "python",
   "name": "python3"
  },
  "language_info": {
   "codemirror_mode": {
    "name": "ipython",
    "version": 3
   },
   "file_extension": ".py",
   "mimetype": "text/x-python",
   "name": "python",
   "nbconvert_exporter": "python",
   "pygments_lexer": "ipython3",
   "version": "3.7.3"
  }
 },
 "nbformat": 4,
 "nbformat_minor": 2
}
